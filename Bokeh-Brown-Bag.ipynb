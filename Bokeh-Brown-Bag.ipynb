{
 "cells": [
  {
   "cell_type": "markdown",
   "metadata": {},
   "source": [
    "# Bokeh Brown Bag"
   ]
  },
  {
   "cell_type": "markdown",
   "metadata": {},
   "source": [
    "## Load Dataset"
   ]
  },
  {
   "cell_type": "code",
   "execution_count": 3,
   "metadata": {},
   "outputs": [
    {
     "name": "stdout",
     "output_type": "stream",
     "text": [
      "Issued_Construction_Permits.csv\n"
     ]
    }
   ],
   "source": [
    "import wget\n",
    "\n",
    "# Download dataset from public source\n",
    "url = 'https://data.austintexas.gov/api/views/3syk-w9eu/rows.csv?accessType=DOWNLOAD'\n",
    "filename = wget.download(url)\n",
    "print(filename)"
   ]
  },
  {
   "cell_type": "code",
   "execution_count": 1,
   "metadata": {},
   "outputs": [
    {
     "name": "stdout",
     "output_type": "stream",
     "text": [
      "Number of rows... 1873852\n"
     ]
    }
   ],
   "source": [
    "import pandas as pd\n",
    "\n",
    "# Load dataset\n",
    "df = pd.read_csv('Issued_Construction_Permits.csv', low_memory=False)\n",
    "df.head(2)\n",
    "print(\"Number of rows...\", df['PermitType'].count())"
   ]
  },
  {
   "cell_type": "markdown",
   "metadata": {},
   "source": [
    "## Preprocess Data"
   ]
  },
  {
   "cell_type": "code",
   "execution_count": 2,
   "metadata": {},
   "outputs": [],
   "source": [
    "# Get project valuations by year\n",
    "data = df[(df['CalendarYearIssued'] >= 1980) &\n",
    "          (df['PermitTypeDesc']=='Building Permit') &\n",
    "          (df['StatusCurrent'].isin(['Final', 'Active', 'Closed']))\n",
    "         ] \\\n",
    "    .groupby(['CalendarYearIssued'])['TotalJobValuation'].agg(['sum','mean','max','count']).reset_index().sort_values(by='CalendarYearIssued')\n",
    "\n",
    "data['TotalInBillions'] = data['sum']/1000000000\n",
    "data['AverageInBillions'] = data['mean']/1000000000\n",
    "data['MaxInBillions'] = data['max']/1000000000"
   ]
  },
  {
   "cell_type": "markdown",
   "metadata": {},
   "source": [
    "## Matplotlib Example"
   ]
  },
  {
   "cell_type": "code",
   "execution_count": 5,
   "metadata": {},
   "outputs": [
    {
     "data": {
      "image/png": "[encoded data removed]",
      "text/plain": [
       "<Figure size 1080x504 with 1 Axes>"
      ]
     },
     "metadata": {
      "needs_background": "light"
     },
     "output_type": "display_data"
    }
   ],
   "source": [
    "from math import sqrt\n",
    "import matplotlib.pyplot as plt\n",
    "from matplotlib.ticker import StrMethodFormatter\n",
    "\n",
    "# Set x and y values\n",
    "x = data['CalendarYearIssued']\n",
    "y = data['TotalInBillions']\n",
    "\n",
    "# Create figure\n",
    "fig, ax = plt.subplots(figsize=(15,7))\n",
    "\n",
    "# Create bars\n",
    "rects1 = ax.bar(x, y, color='r')\n",
    "\n",
    "# Styling\n",
    "ax.set_xlabel('Year Permits Issued')\n",
    "ax.set_ylabel('Total Project Valuation')\n",
    "ax.set_title('Austin Construction Permit Project Valuations')\n",
    "ax.yaxis.set_major_formatter(StrMethodFormatter('${x:,.0f}B'))\n",
    "\n",
    "plt.show()"
   ]
  },
  {
   "cell_type": "markdown",
   "metadata": {},
   "source": [
    "## Using Bokeh"
   ]
  },
  {
   "cell_type": "code",
   "execution_count": 9,
   "metadata": {},
   "outputs": [
    {
     "data": {
      "text/html": [
       "\n",
       "    <div class=\"bk-root\">\n",
       "        <a href=\"https://bokeh.pydata.org\" target=\"_blank\" class=\"bk-logo bk-logo-small bk-logo-notebook\"></a>\n",
       "        <span id=\"1253\">Loading BokehJS ...</span>\n",
       "    </div>"
      ]
     },
     "metadata": {},
     "output_type": "display_data"
    },
    {
     "data": {
      "application/javascript": [
       "\n",
       "(function(root) {\n",
       "  function now() {\n",
       "    return new Date();\n",
       "  }\n",
       "\n",
       "  var force = true;\n",
       "\n",
       "  if (typeof (root._bokeh_onload_callbacks) === \"undefined\" || force === true) {\n",
       "    root._bokeh_onload_callbacks = [];\n",
       "    root._bokeh_is_loading = undefined;\n",
       "  }\n",
       "\n",
       "  var JS_MIME_TYPE = 'application/javascript';\n",
       "  var HTML_MIME_TYPE = 'text/html';\n",
       "  var EXEC_MIME_TYPE = 'application/vnd.bokehjs_exec.v0+json';\n",
       "  var CLASS_NAME = 'output_bokeh rendered_html';\n",
       "\n",
       "  /**\n",
       "   * Render data to the DOM node\n",
       "   */\n",
       "  function render(props, node) {\n",
       "    var script = document.createElement(\"script\");\n",
       "    node.appendChild(script);\n",
       "  }\n",
       "\n",
       "  /**\n",
       "   * Handle when an output is cleared or removed\n",
       "   */\n",
       "  function handleClearOutput(event, handle) {\n",
       "    var cell = handle.cell;\n",
       "\n",
       "    var id = cell.output_area._bokeh_element_id;\n",
       "    var server_id = cell.output_area._bokeh_server_id;\n",
       "    // Clean up Bokeh references\n",
       "    if (id != null && id in Bokeh.index) {\n",
       "      Bokeh.index[id].model.document.clear();\n",
       "      delete Bokeh.index[id];\n",
       "    }\n",
       "\n",
       "    if (server_id !== undefined) {\n",
       "      // Clean up Bokeh references\n",
       "      var cmd = \"from bokeh.io.state import curstate; print(curstate().uuid_to_server['\" + server_id + \"'].get_sessions()[0].document.roots[0]._id)\";\n",
       "      cell.notebook.kernel.execute(cmd, {\n",
       "        iopub: {\n",
       "          output: function(msg) {\n",
       "            var id = msg.content.text.trim();\n",
       "            if (id in Bokeh.index) {\n",
       "              Bokeh.index[id].model.document.clear();\n",
       "              delete Bokeh.index[id];\n",
       "            }\n",
       "          }\n",
       "        }\n",
       "      });\n",
       "      // Destroy server and session\n",
       "      var cmd = \"import bokeh.io.notebook as ion; ion.destroy_server('\" + server_id + \"')\";\n",
       "      cell.notebook.kernel.execute(cmd);\n",
       "    }\n",
       "  }\n",
       "\n",
       "  /**\n",
       "   * Handle when a new output is added\n",
       "   */\n",
       "  function handleAddOutput(event, handle) {\n",
       "    var output_area = handle.output_area;\n",
       "    var output = handle.output;\n",
       "\n",
       "    // limit handleAddOutput to display_data with EXEC_MIME_TYPE content only\n",
       "    if ((output.output_type != \"display_data\") || (!output.data.hasOwnProperty(EXEC_MIME_TYPE))) {\n",
       "      return\n",
       "    }\n",
       "\n",
       "    var toinsert = output_area.element.find(\".\" + CLASS_NAME.split(' ')[0]);\n",
       "\n",
       "    if (output.metadata[EXEC_MIME_TYPE][\"id\"] !== undefined) {\n",
       "      toinsert[toinsert.length - 1].firstChild.textContent = output.data[JS_MIME_TYPE];\n",
       "      // store reference to embed id on output_area\n",
       "      output_area._bokeh_element_id = output.metadata[EXEC_MIME_TYPE][\"id\"];\n",
       "    }\n",
       "    if (output.metadata[EXEC_MIME_TYPE][\"server_id\"] !== undefined) {\n",
       "      var bk_div = document.createElement(\"div\");\n",
       "      bk_div.innerHTML = output.data[HTML_MIME_TYPE];\n",
       "      var script_attrs = bk_div.children[0].attributes;\n",
       "      for (var i = 0; i < script_attrs.length; i++) {\n",
       "        toinsert[toinsert.length - 1].firstChild.setAttribute(script_attrs[i].name, script_attrs[i].value);\n",
       "      }\n",
       "      // store reference to server id on output_area\n",
       "      output_area._bokeh_server_id = output.metadata[EXEC_MIME_TYPE][\"server_id\"];\n",
       "    }\n",
       "  }\n",
       "\n",
       "  function register_renderer(events, OutputArea) {\n",
       "\n",
       "    function append_mime(data, metadata, element) {\n",
       "      // create a DOM node to render to\n",
       "      var toinsert = this.create_output_subarea(\n",
       "        metadata,\n",
       "        CLASS_NAME,\n",
       "        EXEC_MIME_TYPE\n",
       "      );\n",
       "      this.keyboard_manager.register_events(toinsert);\n",
       "      // Render to node\n",
       "      var props = {data: data, metadata: metadata[EXEC_MIME_TYPE]};\n",
       "      render(props, toinsert[toinsert.length - 1]);\n",
       "      element.append(toinsert);\n",
       "      return toinsert\n",
       "    }\n",
       "\n",
       "    /* Handle when an output is cleared or removed */\n",
       "    events.on('clear_output.CodeCell', handleClearOutput);\n",
       "    events.on('delete.Cell', handleClearOutput);\n",
       "\n",
       "    /* Handle when a new output is added */\n",
       "    events.on('output_added.OutputArea', handleAddOutput);\n",
       "\n",
       "    /**\n",
       "     * Register the mime type and append_mime function with output_area\n",
       "     */\n",
       "    OutputArea.prototype.register_mime_type(EXEC_MIME_TYPE, append_mime, {\n",
       "      /* Is output safe? */\n",
       "      safe: true,\n",
       "      /* Index of renderer in `output_area.display_order` */\n",
       "      index: 0\n",
       "    });\n",
       "  }\n",
       "\n",
       "  // register the mime type if in Jupyter Notebook environment and previously unregistered\n",
       "  if (root.Jupyter !== undefined) {\n",
       "    var events = require('base/js/events');\n",
       "    var OutputArea = require('notebook/js/outputarea').OutputArea;\n",
       "\n",
       "    if (OutputArea.prototype.mime_types().indexOf(EXEC_MIME_TYPE) == -1) {\n",
       "      register_renderer(events, OutputArea);\n",
       "    }\n",
       "  }\n",
       "\n",
       "  \n",
       "  if (typeof (root._bokeh_timeout) === \"undefined\" || force === true) {\n",
       "    root._bokeh_timeout = Date.now() + 5000;\n",
       "    root._bokeh_failed_load = false;\n",
       "  }\n",
       "\n",
       "  var NB_LOAD_WARNING = {'data': {'text/html':\n",
       "     \"<div style='background-color: #fdd'>\\n\"+\n",
       "     \"<p>\\n\"+\n",
       "     \"BokehJS does not appear to have successfully loaded. If loading BokehJS from CDN, this \\n\"+\n",
       "     \"may be due to a slow or bad network connection. Possible fixes:\\n\"+\n",
       "     \"</p>\\n\"+\n",
       "     \"<ul>\\n\"+\n",
       "     \"<li>re-rerun `output_notebook()` to attempt to load from CDN again, or</li>\\n\"+\n",
       "     \"<li>use INLINE resources instead, as so:</li>\\n\"+\n",
       "     \"</ul>\\n\"+\n",
       "     \"<code>\\n\"+\n",
       "     \"from bokeh.resources import INLINE\\n\"+\n",
       "     \"output_notebook(resources=INLINE)\\n\"+\n",
       "     \"</code>\\n\"+\n",
       "     \"</div>\"}};\n",
       "\n",
       "  function display_loaded() {\n",
       "    var el = document.getElementById(\"1253\");\n",
       "    if (el != null) {\n",
       "      el.textContent = \"BokehJS is loading...\";\n",
       "    }\n",
       "    if (root.Bokeh !== undefined) {\n",
       "      if (el != null) {\n",
       "        el.textContent = \"BokehJS \" + root.Bokeh.version + \" successfully loaded.\";\n",
       "      }\n",
       "    } else if (Date.now() < root._bokeh_timeout) {\n",
       "      setTimeout(display_loaded, 100)\n",
       "    }\n",
       "  }\n",
       "\n",
       "\n",
       "  function run_callbacks() {\n",
       "    try {\n",
       "      root._bokeh_onload_callbacks.forEach(function(callback) { callback() });\n",
       "    }\n",
       "    finally {\n",
       "      delete root._bokeh_onload_callbacks\n",
       "    }\n",
       "    console.info(\"Bokeh: all callbacks have finished\");\n",
       "  }\n",
       "\n",
       "  function load_libs(js_urls, callback) {\n",
       "    root._bokeh_onload_callbacks.push(callback);\n",
       "    if (root._bokeh_is_loading > 0) {\n",
       "      console.log(\"Bokeh: BokehJS is being loaded, scheduling callback at\", now());\n",
       "      return null;\n",
       "    }\n",
       "    if (js_urls == null || js_urls.length === 0) {\n",
       "      run_callbacks();\n",
       "      return null;\n",
       "    }\n",
       "    console.log(\"Bokeh: BokehJS not loaded, scheduling load and callback at\", now());\n",
       "    root._bokeh_is_loading = js_urls.length;\n",
       "    for (var i = 0; i < js_urls.length; i++) {\n",
       "      var url = js_urls[i];\n",
       "      var s = document.createElement('script');\n",
       "      s.src = url;\n",
       "      s.async = false;\n",
       "      s.onreadystatechange = s.onload = function() {\n",
       "        root._bokeh_is_loading--;\n",
       "        if (root._bokeh_is_loading === 0) {\n",
       "          console.log(\"Bokeh: all BokehJS libraries loaded\");\n",
       "          run_callbacks()\n",
       "        }\n",
       "      };\n",
       "      s.onerror = function() {\n",
       "        console.warn(\"failed to load library \" + url);\n",
       "      };\n",
       "      console.log(\"Bokeh: injecting script tag for BokehJS library: \", url);\n",
       "      document.getElementsByTagName(\"head\")[0].appendChild(s);\n",
       "    }\n",
       "  };var element = document.getElementById(\"1253\");\n",
       "  if (element == null) {\n",
       "    console.log(\"Bokeh: ERROR: autoload.js configured with elementid '1253' but no matching script tag was found. \")\n",
       "    return false;\n",
       "  }\n",
       "\n",
       "  var js_urls = [\"https://cdn.pydata.org/bokeh/release/bokeh-1.0.1.min.js\", \"https://cdn.pydata.org/bokeh/release/bokeh-widgets-1.0.1.min.js\", \"https://cdn.pydata.org/bokeh/release/bokeh-tables-1.0.1.min.js\", \"https://cdn.pydata.org/bokeh/release/bokeh-gl-1.0.1.min.js\"];\n",
       "\n",
       "  var inline_js = [\n",
       "    function(Bokeh) {\n",
       "      Bokeh.set_log_level(\"info\");\n",
       "    },\n",
       "    \n",
       "    function(Bokeh) {\n",
       "      \n",
       "    },\n",
       "    function(Bokeh) {\n",
       "      console.log(\"Bokeh: injecting CSS: https://cdn.pydata.org/bokeh/release/bokeh-1.0.1.min.css\");\n",
       "      Bokeh.embed.inject_css(\"https://cdn.pydata.org/bokeh/release/bokeh-1.0.1.min.css\");\n",
       "      console.log(\"Bokeh: injecting CSS: https://cdn.pydata.org/bokeh/release/bokeh-widgets-1.0.1.min.css\");\n",
       "      Bokeh.embed.inject_css(\"https://cdn.pydata.org/bokeh/release/bokeh-widgets-1.0.1.min.css\");\n",
       "      console.log(\"Bokeh: injecting CSS: https://cdn.pydata.org/bokeh/release/bokeh-tables-1.0.1.min.css\");\n",
       "      Bokeh.embed.inject_css(\"https://cdn.pydata.org/bokeh/release/bokeh-tables-1.0.1.min.css\");\n",
       "    }\n",
       "  ];\n",
       "\n",
       "  function run_inline_js() {\n",
       "    \n",
       "    if ((root.Bokeh !== undefined) || (force === true)) {\n",
       "      for (var i = 0; i < inline_js.length; i++) {\n",
       "        inline_js[i].call(root, root.Bokeh);\n",
       "      }if (force === true) {\n",
       "        display_loaded();\n",
       "      }} else if (Date.now() < root._bokeh_timeout) {\n",
       "      setTimeout(run_inline_js, 100);\n",
       "    } else if (!root._bokeh_failed_load) {\n",
       "      console.log(\"Bokeh: BokehJS failed to load within specified timeout.\");\n",
       "      root._bokeh_failed_load = true;\n",
       "    } else if (force !== true) {\n",
       "      var cell = $(document.getElementById(\"1253\")).parents('.cell').data().cell;\n",
       "      cell.output_area.append_execute_result(NB_LOAD_WARNING)\n",
       "    }\n",
       "\n",
       "  }\n",
       "\n",
       "  if (root._bokeh_is_loading === 0) {\n",
       "    console.log(\"Bokeh: BokehJS loaded, going straight to plotting\");\n",
       "    run_inline_js();\n",
       "  } else {\n",
       "    load_libs(js_urls, function() {\n",
       "      console.log(\"Bokeh: BokehJS plotting callback run at\", now());\n",
       "      run_inline_js();\n",
       "    });\n",
       "  }\n",
       "}(window));"
      ],
      "application/vnd.bokehjs_load.v0+json": "\n(function(root) {\n  function now() {\n    return new Date();\n  }\n\n  var force = true;\n\n  if (typeof (root._bokeh_onload_callbacks) === \"undefined\" || force === true) {\n    root._bokeh_onload_callbacks = [];\n    root._bokeh_is_loading = undefined;\n  }\n\n  \n\n  \n  if (typeof (root._bokeh_timeout) === \"undefined\" || force === true) {\n    root._bokeh_timeout = Date.now() + 5000;\n    root._bokeh_failed_load = false;\n  }\n\n  var NB_LOAD_WARNING = {'data': {'text/html':\n     \"<div style='background-color: #fdd'>\\n\"+\n     \"<p>\\n\"+\n     \"BokehJS does not appear to have successfully loaded. If loading BokehJS from CDN, this \\n\"+\n     \"may be due to a slow or bad network connection. Possible fixes:\\n\"+\n     \"</p>\\n\"+\n     \"<ul>\\n\"+\n     \"<li>re-rerun `output_notebook()` to attempt to load from CDN again, or</li>\\n\"+\n     \"<li>use INLINE resources instead, as so:</li>\\n\"+\n     \"</ul>\\n\"+\n     \"<code>\\n\"+\n     \"from bokeh.resources import INLINE\\n\"+\n     \"output_notebook(resources=INLINE)\\n\"+\n     \"</code>\\n\"+\n     \"</div>\"}};\n\n  function display_loaded() {\n    var el = document.getElementById(\"1253\");\n    if (el != null) {\n      el.textContent = \"BokehJS is loading...\";\n    }\n    if (root.Bokeh !== undefined) {\n      if (el != null) {\n        el.textContent = \"BokehJS \" + root.Bokeh.version + \" successfully loaded.\";\n      }\n    } else if (Date.now() < root._bokeh_timeout) {\n      setTimeout(display_loaded, 100)\n    }\n  }\n\n\n  function run_callbacks() {\n    try {\n      root._bokeh_onload_callbacks.forEach(function(callback) { callback() });\n    }\n    finally {\n      delete root._bokeh_onload_callbacks\n    }\n    console.info(\"Bokeh: all callbacks have finished\");\n  }\n\n  function load_libs(js_urls, callback) {\n    root._bokeh_onload_callbacks.push(callback);\n    if (root._bokeh_is_loading > 0) {\n      console.log(\"Bokeh: BokehJS is being loaded, scheduling callback at\", now());\n      return null;\n    }\n    if (js_urls == null || js_urls.length === 0) {\n      run_callbacks();\n      return null;\n    }\n    console.log(\"Bokeh: BokehJS not loaded, scheduling load and callback at\", now());\n    root._bokeh_is_loading = js_urls.length;\n    for (var i = 0; i < js_urls.length; i++) {\n      var url = js_urls[i];\n      var s = document.createElement('script');\n      s.src = url;\n      s.async = false;\n      s.onreadystatechange = s.onload = function() {\n        root._bokeh_is_loading--;\n        if (root._bokeh_is_loading === 0) {\n          console.log(\"Bokeh: all BokehJS libraries loaded\");\n          run_callbacks()\n        }\n      };\n      s.onerror = function() {\n        console.warn(\"failed to load library \" + url);\n      };\n      console.log(\"Bokeh: injecting script tag for BokehJS library: \", url);\n      document.getElementsByTagName(\"head\")[0].appendChild(s);\n    }\n  };var element = document.getElementById(\"1253\");\n  if (element == null) {\n    console.log(\"Bokeh: ERROR: autoload.js configured with elementid '1253' but no matching script tag was found. \")\n    return false;\n  }\n\n  var js_urls = [\"https://cdn.pydata.org/bokeh/release/bokeh-1.0.1.min.js\", \"https://cdn.pydata.org/bokeh/release/bokeh-widgets-1.0.1.min.js\", \"https://cdn.pydata.org/bokeh/release/bokeh-tables-1.0.1.min.js\", \"https://cdn.pydata.org/bokeh/release/bokeh-gl-1.0.1.min.js\"];\n\n  var inline_js = [\n    function(Bokeh) {\n      Bokeh.set_log_level(\"info\");\n    },\n    \n    function(Bokeh) {\n      \n    },\n    function(Bokeh) {\n      console.log(\"Bokeh: injecting CSS: https://cdn.pydata.org/bokeh/release/bokeh-1.0.1.min.css\");\n      Bokeh.embed.inject_css(\"https://cdn.pydata.org/bokeh/release/bokeh-1.0.1.min.css\");\n      console.log(\"Bokeh: injecting CSS: https://cdn.pydata.org/bokeh/release/bokeh-widgets-1.0.1.min.css\");\n      Bokeh.embed.inject_css(\"https://cdn.pydata.org/bokeh/release/bokeh-widgets-1.0.1.min.css\");\n      console.log(\"Bokeh: injecting CSS: https://cdn.pydata.org/bokeh/release/bokeh-tables-1.0.1.min.css\");\n      Bokeh.embed.inject_css(\"https://cdn.pydata.org/bokeh/release/bokeh-tables-1.0.1.min.css\");\n    }\n  ];\n\n  function run_inline_js() {\n    \n    if ((root.Bokeh !== undefined) || (force === true)) {\n      for (var i = 0; i < inline_js.length; i++) {\n        inline_js[i].call(root, root.Bokeh);\n      }if (force === true) {\n        display_loaded();\n      }} else if (Date.now() < root._bokeh_timeout) {\n      setTimeout(run_inline_js, 100);\n    } else if (!root._bokeh_failed_load) {\n      console.log(\"Bokeh: BokehJS failed to load within specified timeout.\");\n      root._bokeh_failed_load = true;\n    } else if (force !== true) {\n      var cell = $(document.getElementById(\"1253\")).parents('.cell').data().cell;\n      cell.output_area.append_execute_result(NB_LOAD_WARNING)\n    }\n\n  }\n\n  if (root._bokeh_is_loading === 0) {\n    console.log(\"Bokeh: BokehJS loaded, going straight to plotting\");\n    run_inline_js();\n  } else {\n    load_libs(js_urls, function() {\n      console.log(\"Bokeh: BokehJS plotting callback run at\", now());\n      run_inline_js();\n    });\n  }\n}(window));"
     },
     "metadata": {},
     "output_type": "display_data"
    },
    {
     "data": {
      "text/html": [
       "\n",
       "\n",
       "\n",
       "\n",
       "\n",
       "\n",
       "  <div class=\"bk-root\" id=\"1b3f699b-82ca-46d5-8346-aebd766e114e\"></div>\n"
      ]
     },
     "metadata": {},
     "output_type": "display_data"
    },
    {
     "data": {
      "application/javascript": [
       "(function(root) {\n",
       "  function embed_document(root) {\n",
       "    \n",
       "  var docs_json = {\"c67fa16f-62d2-4f60-b8ba-f45072c369f0\":{\"roots\":{\"references\":[{\"attributes\":{\"below\":[{\"id\":\"1223\",\"type\":\"LinearAxis\"}],\"left\":[{\"id\":\"1228\",\"type\":\"LinearAxis\"}],\"plot_height\":400,\"plot_width\":700,\"renderers\":[{\"id\":\"1223\",\"type\":\"LinearAxis\"},{\"id\":\"1227\",\"type\":\"Grid\"},{\"id\":\"1228\",\"type\":\"LinearAxis\"},{\"id\":\"1232\",\"type\":\"Grid\"},{\"id\":\"1241\",\"type\":\"BoxAnnotation\"},{\"id\":\"1251\",\"type\":\"GlyphRenderer\"}],\"title\":{\"id\":\"1212\",\"type\":\"Title\"},\"toolbar\":{\"id\":\"1239\",\"type\":\"Toolbar\"},\"x_range\":{\"id\":\"1215\",\"type\":\"DataRange1d\"},\"x_scale\":{\"id\":\"1219\",\"type\":\"LinearScale\"},\"y_range\":{\"id\":\"1217\",\"type\":\"DataRange1d\"},\"y_scale\":{\"id\":\"1221\",\"type\":\"LinearScale\"}},\"id\":\"1213\",\"subtype\":\"Figure\",\"type\":\"Plot\"},{\"attributes\":{},\"id\":\"1236\",\"type\":\"SaveTool\"},{\"attributes\":{\"data_source\":{\"id\":\"1211\",\"type\":\"ColumnDataSource\"},\"glyph\":{\"id\":\"1249\",\"type\":\"Line\"},\"hover_glyph\":null,\"muted_glyph\":null,\"nonselection_glyph\":{\"id\":\"1250\",\"type\":\"Line\"},\"selection_glyph\":null,\"view\":{\"id\":\"1252\",\"type\":\"CDSView\"}},\"id\":\"1251\",\"type\":\"GlyphRenderer\"},{\"attributes\":{},\"id\":\"1229\",\"type\":\"BasicTicker\"},{\"attributes\":{},\"id\":\"1219\",\"type\":\"LinearScale\"},{\"attributes\":{\"line_alpha\":0.1,\"line_color\":\"#1f77b4\",\"line_width\":4,\"x\":{\"field\":\"CalendarYearIssued\"},\"y\":{\"field\":\"TotalInBillions\"}},\"id\":\"1250\",\"type\":\"Line\"},{\"attributes\":{\"source\":{\"id\":\"1211\",\"type\":\"ColumnDataSource\"}},\"id\":\"1252\",\"type\":\"CDSView\"},{\"attributes\":{},\"id\":\"1266\",\"type\":\"BasicTickFormatter\"},{\"attributes\":{\"active_drag\":\"auto\",\"active_inspect\":\"auto\",\"active_multi\":null,\"active_scroll\":\"auto\",\"active_tap\":\"auto\",\"tools\":[{\"id\":\"1233\",\"type\":\"PanTool\"},{\"id\":\"1234\",\"type\":\"WheelZoomTool\"},{\"id\":\"1235\",\"type\":\"BoxZoomTool\"},{\"id\":\"1236\",\"type\":\"SaveTool\"},{\"id\":\"1237\",\"type\":\"ResetTool\"},{\"id\":\"1238\",\"type\":\"HelpTool\"}]},\"id\":\"1239\",\"type\":\"Toolbar\"},{\"attributes\":{},\"id\":\"1238\",\"type\":\"HelpTool\"},{\"attributes\":{\"dimension\":1,\"plot\":{\"id\":\"1213\",\"subtype\":\"Figure\",\"type\":\"Plot\"},\"ticker\":{\"id\":\"1229\",\"type\":\"BasicTicker\"}},\"id\":\"1232\",\"type\":\"Grid\"},{\"attributes\":{},\"id\":\"1234\",\"type\":\"WheelZoomTool\"},{\"attributes\":{},\"id\":\"1268\",\"type\":\"Selection\"},{\"attributes\":{\"callback\":null},\"id\":\"1217\",\"type\":\"DataRange1d\"},{\"attributes\":{\"bottom_units\":\"screen\",\"fill_alpha\":{\"value\":0.5},\"fill_color\":{\"value\":\"lightgrey\"},\"left_units\":\"screen\",\"level\":\"overlay\",\"line_alpha\":{\"value\":1.0},\"line_color\":{\"value\":\"black\"},\"line_dash\":[4,4],\"line_width\":{\"value\":2},\"plot\":null,\"render_mode\":\"css\",\"right_units\":\"screen\",\"top_units\":\"screen\"},\"id\":\"1241\",\"type\":\"BoxAnnotation\"},{\"attributes\":{\"line_color\":\"orange\",\"line_width\":4,\"x\":{\"field\":\"CalendarYearIssued\"},\"y\":{\"field\":\"TotalInBillions\"}},\"id\":\"1249\",\"type\":\"Line\"},{\"attributes\":{\"callback\":null},\"id\":\"1215\",\"type\":\"DataRange1d\"},{\"attributes\":{\"callback\":null,\"data\":{\"AverageInBillions\":{\"__ndarray__\":\"GH01oZgbGj9lF+imZyQWP14IjacSBRg/sXSRKmrIGz/6LxnvpYUfPzg4v5x+lRs/viBd7KagET+Ea6TDiEoFP7VY5EUuaxc/EoiaavPLGD85qVy5eE0XP16gXN5mtBM/aw19RGHcFD+OxOiNeMogP2TBj3EF9R4/q4qFbmfIIT/YSNxXZq4lPyqosjiiXCU/EKe4awRQKj+Qb/3RIEcqPwf8W7vGSDA/l7oOGsLSLz84biQzEz8oP+lEBDbCsiU/6Gmd3TAvJj+7Abu2YcsmP8OyjYGRBzI/jIR9+6H/Nj/aefP21aU2P82f23I1GTU/0hoMJh+dIj/3ygs+LX4oP3dC5nPYES4/YnI1rutXMz98JCHtomMxP1IA5CguMDI/CwJ5odDNMj/hBzLt0wpCP5Q2LxZRdEE/\",\"dtype\":\"float64\",\"shape\":[39]},\"CalendarYearIssued\":[1980,1981,1982,1983,1984,1985,1986,1987,1988,1989,1990,1991,1992,1993,1994,1995,1996,1997,1998,1999,2000,2001,2002,2003,2004,2005,2006,2007,2008,2009,2010,2011,2012,2013,2014,2015,2016,2017,2018],\"MaxInBillions\":{\"__ndarray__\":\"GQRWDi2yjT+amZmZmZmZPwrXo3A9Cqc/O99PjZdukj8bL90kBoGlP5Kwle6zbKA/gcp8ML6isD9BguLHmLt2P13hXS7iO5E/MzMzMzMzsz8VgaoEnaakP8eZy7LMx3I/uB6F61G4nj+gFk6VmZm5P/yp8dJNYqA/ObTIdr6fqj+gFk6VmZm5P4enV8oyxKE//Pb5GEGdoD9I3GPpQxeUPyLjUSrhCbE/UrgehetRuD9U46WbxCCwP7gehetRuJ4/qvHSTWIQqD+cxCCwcmixPwRZT62+usA/Y9+hauz5oz/sUbgehevBPwtFup9TkL4/gSaAatURoj9lTSJ+oou5P9AS7/bc5qo/zoEq3Xl8wz8FdnTdDYK5P+hVb50XWMU/aupWfgIwwT+jgcfTzDzAPzMzMzMzM8M/\",\"dtype\":\"float64\",\"shape\":[39]},\"TotalInBillions\":{\"__ndarray__\":\"Lx/Z9FFaxT8NudoJfWDgPxYHdH8louM/wT8Kdnpw6T/qkWQot1XxPxMTezjmVO8/Gv4fnFkf4j8rK6FJzyXQPzt6+SYYkdY/FpWBwT0o1j9sin5v/h/WP0tKw+4QZtY/7b15I1N72z8JeR6LVmbqPxz8Wh1UsOY/vgtCFvXr6j8rdHcAOGTyP0An/tTqVvA/mjUq0CSy9j8TBLjuIJ31P2ropppHCPw/uOgijSMB9T+XlVuXcMHxP0tXq9S+qfA/SvwDRSnS8j9GEfn+ayj4PwU8qEX2aQNAAD63URYGAkD8r++awrD7P2+89FzKdPk/NYY7QsaG5j978D3QyL/wP/ztXxdNyPk/9/gfwdaCA0AN6ppKuOgCQLup2edXQQRA5uuNtRo9B0ACBwO72X4XQOumx8jvkxdA\",\"dtype\":\"float64\",\"shape\":[39]},\"count\":[1675,6059,6696,7501,9010,9305,8422,6213,3947,3660,3889,4656,5396,6440,6004,6201,6949,6266,7066,6738,7051,5407,5999,6291,6950,8682,8821,6420,5008,4942,4957,5602,7024,8263,8908,9123,10124,10668,11066],\"index\":[0,1,2,3,4,5,6,7,8,9,10,11,12,13,14,15,16,17,18,19,20,21,22,23,24,25,26,27,28,29,30,31,32,33,34,35,36,37,38],\"max\":{\"__ndarray__\":\"AAAAABSoa0EAAAAAhNd3QQAAAAAqdYVBAAAAAIgqcUEAAAAA9AaEQQAAAJDel35BAAAA4Ib8jkEAAAAA7CtVQQAAAADjDHBBAAAAAKPhkUEAAADYijuDQQAAAMCcfVFBAAAAADicfEEAAAD8g9eXQQAAAACAhH5BAAAAAKjLiEEAAAD8g9eXQQAAAADXi4BBAAAAsE3yfkEAAAAACrZyQQAAAECivI9BAAAAAFemlkEAAAAAbgqOQQAAAAA4nHxBAAAAAE5phkEAAAAAZDaQQQAAAOA7KZ9BAAAAYLaagkEAAAAAdrCgQQAAANj4dpxBAAAAsCTUgEEAAABsgsqXQQAAACDkDYlBAAAAXuElokEAAAA8lsGXQQAAABzV4KNBAAAAEtQBoEEAAADApD6eQQAAAACj4aFB\",\"dtype\":\"float64\",\"shape\":[39]},\"mean\":{\"__ndarray__\":\"2PT6gpVQ+EDWui4KHZ/0QOgPXDfFXvZA75tDz/Pf+UB9R4YNclv9QK4SAYGHsPlATHSdFrxq8EA/ALKgNNTjQNW7EHpyz/VAwEG3a/0X90AEfORBx7P1QI0g6R33WfJAchXDzJ1t80BlGumnhkb/QJ/2Ik/A1PxAAYJLs8GPAEGGgrVtNjEEQd8j/d4P5QNBVGJ/qmeBCEF1gw5ZIHkIQQ/CPXHzVA5Bs+lIhEKjDUGwPm0AypQGQUrkUqlFNQRB4pvUniipBEFTgIBpnzoFQamecUGVyhBB/B10CElrFUGjAe7FpxcVQU+KD4ZEphNB8AXxid1VAUFR906gjs8GQSRVAmQtAQxB5lM04dUDEkHTYR/V6DEQQfxF1uRn8BBBtZZ67DaDEUFMxMlens0gQfHVsLpxQSBB\",\"dtype\":\"float64\",\"shape\":[39]},\"sum\":{\"__ndarray__\":\"AAAASOjio0EAAABFHoG+QQAAgLP2SMJBAACA1jexx0EAAIDQ8STQQQAAAGoLLs1BAACAPrvgwEEAAAAU0hOuQQAAAKBWBLVBAAAAsq+itEEAAABgAZu0QQAAAOdD3LRBAAAAIiiYuUEAAIBbMZbIQQAAAHJtIcVBAAAAr6ISyUEAAIDT3iDRQQAAgGdKb85BAADAOh4j1UEAAECrICHUQQAAAGluG9pBAABAz9mP00EAAABNRYnQQQAAAO6RCc9BAABAJkOH0UEAAIASsX/WQQAAQEejFOJBAABAHDTJ4EEAAAAh7MnZQQAAQO07tddBAACAK7r6xEEAAADxnjLPQQAAQGsCA9hBAADAY84r4kEAAMCORZzhQQAAgDM63eJBAACAAImk5UEAALAcxOH1QQAAAHFn9fVB\",\"dtype\":\"float64\",\"shape\":[39]}},\"selected\":{\"id\":\"1268\",\"type\":\"Selection\"},\"selection_policy\":{\"id\":\"1269\",\"type\":\"UnionRenderers\"}},\"id\":\"1211\",\"type\":\"ColumnDataSource\"},{\"attributes\":{\"plot\":null,\"text\":\"Austin Construction Permit Project Valuations\"},\"id\":\"1212\",\"type\":\"Title\"},{\"attributes\":{},\"id\":\"1269\",\"type\":\"UnionRenderers\"},{\"attributes\":{},\"id\":\"1221\",\"type\":\"LinearScale\"},{\"attributes\":{},\"id\":\"1237\",\"type\":\"ResetTool\"},{\"attributes\":{\"axis_label\":\"Year Permits Issued\",\"formatter\":{\"id\":\"1266\",\"type\":\"BasicTickFormatter\"},\"plot\":{\"id\":\"1213\",\"subtype\":\"Figure\",\"type\":\"Plot\"},\"ticker\":{\"id\":\"1224\",\"type\":\"BasicTicker\"}},\"id\":\"1223\",\"type\":\"LinearAxis\"},{\"attributes\":{\"plot\":{\"id\":\"1213\",\"subtype\":\"Figure\",\"type\":\"Plot\"},\"ticker\":{\"id\":\"1224\",\"type\":\"BasicTicker\"}},\"id\":\"1227\",\"type\":\"Grid\"},{\"attributes\":{},\"id\":\"1233\",\"type\":\"PanTool\"},{\"attributes\":{},\"id\":\"1224\",\"type\":\"BasicTicker\"},{\"attributes\":{\"axis_label\":\"Billion Dollars ($B)\",\"formatter\":{\"id\":\"1264\",\"type\":\"BasicTickFormatter\"},\"plot\":{\"id\":\"1213\",\"subtype\":\"Figure\",\"type\":\"Plot\"},\"ticker\":{\"id\":\"1229\",\"type\":\"BasicTicker\"}},\"id\":\"1228\",\"type\":\"LinearAxis\"},{\"attributes\":{},\"id\":\"1264\",\"type\":\"BasicTickFormatter\"},{\"attributes\":{\"overlay\":{\"id\":\"1241\",\"type\":\"BoxAnnotation\"}},\"id\":\"1235\",\"type\":\"BoxZoomTool\"}],\"root_ids\":[\"1213\"]},\"title\":\"Bokeh Application\",\"version\":\"1.0.1\"}};\n",
       "  var render_items = [{\"docid\":\"c67fa16f-62d2-4f60-b8ba-f45072c369f0\",\"roots\":{\"1213\":\"1b3f699b-82ca-46d5-8346-aebd766e114e\"}}];\n",
       "  root.Bokeh.embed.embed_items_notebook(docs_json, render_items);\n",
       "\n",
       "  }\n",
       "  if (root.Bokeh !== undefined) {\n",
       "    embed_document(root);\n",
       "  } else {\n",
       "    var attempts = 0;\n",
       "    var timer = setInterval(function(root) {\n",
       "      if (root.Bokeh !== undefined) {\n",
       "        embed_document(root);\n",
       "        clearInterval(timer);\n",
       "      }\n",
       "      attempts++;\n",
       "      if (attempts > 100) {\n",
       "        console.log(\"Bokeh: ERROR: Unable to run BokehJS code because BokehJS library is missing\");\n",
       "        clearInterval(timer);\n",
       "      }\n",
       "    }, 10, root)\n",
       "  }\n",
       "})(window);"
      ],
      "application/vnd.bokehjs_exec.v0+json": ""
     },
     "metadata": {
      "application/vnd.bokehjs_exec.v0+json": {
       "id": "1213"
      }
     },
     "output_type": "display_data"
    }
   ],
   "source": [
    "from bokeh.io import show, output_notebook\n",
    "from bokeh.models import ColumnDataSource\n",
    "from bokeh.plotting import figure\n",
    "\n",
    "# Creating ColumnDataSource\n",
    "source = ColumnDataSource(data)\n",
    "\n",
    "# Create figure\n",
    "p = figure(plot_height=400\n",
    "           , plot_width=700\n",
    "           , title='Austin Construction Permit Project Valuations'\n",
    "        )\n",
    "\n",
    "# Creating glyphs\n",
    "total_renderer = p.line(x='CalendarYearIssued'\n",
    "        , y='TotalInBillions'\n",
    "        , color='orange'\n",
    "        , line_width=4\n",
    "        , source=source\n",
    "      )\n",
    "\n",
    "# Add labels\n",
    "p.xaxis.axis_label = 'Year Permits Issued'\n",
    "p.yaxis.axis_label = 'Billion Dollars ($B)'\n",
    "\n",
    "# Displays chart inline with Jupyter Notebook\n",
    "output_notebook()\n",
    "\n",
    "# Render chart visible\n",
    "show(p)"
   ]
  },
  {
   "cell_type": "markdown",
   "metadata": {},
   "source": [
    "## Styling"
   ]
  },
  {
   "cell_type": "code",
   "execution_count": 10,
   "metadata": {},
   "outputs": [
    {
     "data": {
      "text/html": [
       "\n",
       "\n",
       "\n",
       "\n",
       "\n",
       "\n",
       "  <div class=\"bk-root\" id=\"135403b2-8c0b-4068-a465-98ac6b27bbb6\"></div>\n"
      ]
     },
     "metadata": {},
     "output_type": "display_data"
    },
    {
     "data": {
      "application/javascript": [
       "(function(root) {\n",
       "  function embed_document(root) {\n",
       "    \n",
       "  var docs_json = {\"a8dfd62b-600b-42f9-b5fb-309042ebd39c\":{\"roots\":{\"references\":[{\"attributes\":{\"below\":[{\"id\":\"1223\",\"type\":\"LinearAxis\"}],\"left\":[{\"id\":\"1228\",\"type\":\"LinearAxis\"}],\"plot_height\":500,\"plot_width\":800,\"renderers\":[{\"id\":\"1223\",\"type\":\"LinearAxis\"},{\"id\":\"1227\",\"type\":\"Grid\"},{\"id\":\"1228\",\"type\":\"LinearAxis\"},{\"id\":\"1232\",\"type\":\"Grid\"},{\"id\":\"1241\",\"type\":\"BoxAnnotation\"},{\"id\":\"1251\",\"type\":\"GlyphRenderer\"}],\"title\":{\"id\":\"1212\",\"type\":\"Title\"},\"toolbar\":{\"id\":\"1239\",\"type\":\"Toolbar\"},\"x_range\":{\"id\":\"1215\",\"type\":\"DataRange1d\"},\"x_scale\":{\"id\":\"1219\",\"type\":\"LinearScale\"},\"y_range\":{\"id\":\"1217\",\"type\":\"DataRange1d\"},\"y_scale\":{\"id\":\"1221\",\"type\":\"LinearScale\"}},\"id\":\"1213\",\"subtype\":\"Figure\",\"type\":\"Plot\"},{\"attributes\":{},\"id\":\"1236\",\"type\":\"SaveTool\"},{\"attributes\":{\"data_source\":{\"id\":\"1211\",\"type\":\"ColumnDataSource\"},\"glyph\":{\"id\":\"1249\",\"type\":\"Line\"},\"hover_glyph\":null,\"muted_glyph\":null,\"nonselection_glyph\":{\"id\":\"1250\",\"type\":\"Line\"},\"selection_glyph\":null,\"view\":{\"id\":\"1252\",\"type\":\"CDSView\"}},\"id\":\"1251\",\"type\":\"GlyphRenderer\"},{\"attributes\":{},\"id\":\"1229\",\"type\":\"BasicTicker\"},{\"attributes\":{},\"id\":\"1219\",\"type\":\"LinearScale\"},{\"attributes\":{\"line_alpha\":0.1,\"line_color\":\"#1f77b4\",\"line_width\":4,\"x\":{\"field\":\"CalendarYearIssued\"},\"y\":{\"field\":\"TotalInBillions\"}},\"id\":\"1250\",\"type\":\"Line\"},{\"attributes\":{\"source\":{\"id\":\"1211\",\"type\":\"ColumnDataSource\"}},\"id\":\"1252\",\"type\":\"CDSView\"},{\"attributes\":{},\"id\":\"1266\",\"type\":\"BasicTickFormatter\"},{\"attributes\":{\"active_drag\":\"auto\",\"active_inspect\":\"auto\",\"active_multi\":null,\"active_scroll\":\"auto\",\"active_tap\":\"auto\",\"tools\":[{\"id\":\"1233\",\"type\":\"PanTool\"},{\"id\":\"1234\",\"type\":\"WheelZoomTool\"},{\"id\":\"1235\",\"type\":\"BoxZoomTool\"},{\"id\":\"1236\",\"type\":\"SaveTool\"},{\"id\":\"1237\",\"type\":\"ResetTool\"},{\"id\":\"1238\",\"type\":\"HelpTool\"}]},\"id\":\"1239\",\"type\":\"Toolbar\"},{\"attributes\":{},\"id\":\"1238\",\"type\":\"HelpTool\"},{\"attributes\":{\"dimension\":1,\"plot\":{\"id\":\"1213\",\"subtype\":\"Figure\",\"type\":\"Plot\"},\"ticker\":{\"id\":\"1229\",\"type\":\"BasicTicker\"}},\"id\":\"1232\",\"type\":\"Grid\"},{\"attributes\":{},\"id\":\"1234\",\"type\":\"WheelZoomTool\"},{\"attributes\":{},\"id\":\"1268\",\"type\":\"Selection\"},{\"attributes\":{\"callback\":null},\"id\":\"1217\",\"type\":\"DataRange1d\"},{\"attributes\":{\"bottom_units\":\"screen\",\"fill_alpha\":{\"value\":0.5},\"fill_color\":{\"value\":\"lightgrey\"},\"left_units\":\"screen\",\"level\":\"overlay\",\"line_alpha\":{\"value\":1.0},\"line_color\":{\"value\":\"black\"},\"line_dash\":[4,4],\"line_width\":{\"value\":2},\"plot\":null,\"render_mode\":\"css\",\"right_units\":\"screen\",\"top_units\":\"screen\"},\"id\":\"1241\",\"type\":\"BoxAnnotation\"},{\"attributes\":{\"line_color\":\"orange\",\"line_width\":4,\"x\":{\"field\":\"CalendarYearIssued\"},\"y\":{\"field\":\"TotalInBillions\"}},\"id\":\"1249\",\"type\":\"Line\"},{\"attributes\":{\"callback\":null},\"id\":\"1215\",\"type\":\"DataRange1d\"},{\"attributes\":{\"callback\":null,\"data\":{\"AverageInBillions\":{\"__ndarray__\":\"GH01oZgbGj9lF+imZyQWP14IjacSBRg/sXSRKmrIGz/6LxnvpYUfPzg4v5x+lRs/viBd7KagET+Ea6TDiEoFP7VY5EUuaxc/EoiaavPLGD85qVy5eE0XP16gXN5mtBM/aw19RGHcFD+OxOiNeMogP2TBj3EF9R4/q4qFbmfIIT/YSNxXZq4lPyqosjiiXCU/EKe4awRQKj+Qb/3RIEcqPwf8W7vGSDA/l7oOGsLSLz84biQzEz8oP+lEBDbCsiU/6Gmd3TAvJj+7Abu2YcsmP8OyjYGRBzI/jIR9+6H/Nj/aefP21aU2P82f23I1GTU/0hoMJh+dIj/3ygs+LX4oP3dC5nPYES4/YnI1rutXMz98JCHtomMxP1IA5CguMDI/CwJ5odDNMj/hBzLt0wpCP5Q2LxZRdEE/\",\"dtype\":\"float64\",\"shape\":[39]},\"CalendarYearIssued\":[1980,1981,1982,1983,1984,1985,1986,1987,1988,1989,1990,1991,1992,1993,1994,1995,1996,1997,1998,1999,2000,2001,2002,2003,2004,2005,2006,2007,2008,2009,2010,2011,2012,2013,2014,2015,2016,2017,2018],\"MaxInBillions\":{\"__ndarray__\":\"GQRWDi2yjT+amZmZmZmZPwrXo3A9Cqc/O99PjZdukj8bL90kBoGlP5Kwle6zbKA/gcp8ML6isD9BguLHmLt2P13hXS7iO5E/MzMzMzMzsz8VgaoEnaakP8eZy7LMx3I/uB6F61G4nj+gFk6VmZm5P/yp8dJNYqA/ObTIdr6fqj+gFk6VmZm5P4enV8oyxKE//Pb5GEGdoD9I3GPpQxeUPyLjUSrhCbE/UrgehetRuD9U46WbxCCwP7gehetRuJ4/qvHSTWIQqD+cxCCwcmixPwRZT62+usA/Y9+hauz5oz/sUbgehevBPwtFup9TkL4/gSaAatURoj9lTSJ+oou5P9AS7/bc5qo/zoEq3Xl8wz8FdnTdDYK5P+hVb50XWMU/aupWfgIwwT+jgcfTzDzAPzMzMzMzM8M/\",\"dtype\":\"float64\",\"shape\":[39]},\"TotalInBillions\":{\"__ndarray__\":\"Lx/Z9FFaxT8NudoJfWDgPxYHdH8louM/wT8Kdnpw6T/qkWQot1XxPxMTezjmVO8/Gv4fnFkf4j8rK6FJzyXQPzt6+SYYkdY/FpWBwT0o1j9sin5v/h/WP0tKw+4QZtY/7b15I1N72z8JeR6LVmbqPxz8Wh1UsOY/vgtCFvXr6j8rdHcAOGTyP0An/tTqVvA/mjUq0CSy9j8TBLjuIJ31P2ropppHCPw/uOgijSMB9T+XlVuXcMHxP0tXq9S+qfA/SvwDRSnS8j9GEfn+ayj4PwU8qEX2aQNAAD63URYGAkD8r++awrD7P2+89FzKdPk/NYY7QsaG5j978D3QyL/wP/ztXxdNyPk/9/gfwdaCA0AN6ppKuOgCQLup2edXQQRA5uuNtRo9B0ACBwO72X4XQOumx8jvkxdA\",\"dtype\":\"float64\",\"shape\":[39]},\"count\":[1675,6059,6696,7501,9010,9305,8422,6213,3947,3660,3889,4656,5396,6440,6004,6201,6949,6266,7066,6738,7051,5407,5999,6291,6950,8682,8821,6420,5008,4942,4957,5602,7024,8263,8908,9123,10124,10668,11066],\"index\":[0,1,2,3,4,5,6,7,8,9,10,11,12,13,14,15,16,17,18,19,20,21,22,23,24,25,26,27,28,29,30,31,32,33,34,35,36,37,38],\"max\":{\"__ndarray__\":\"AAAAABSoa0EAAAAAhNd3QQAAAAAqdYVBAAAAAIgqcUEAAAAA9AaEQQAAAJDel35BAAAA4Ib8jkEAAAAA7CtVQQAAAADjDHBBAAAAAKPhkUEAAADYijuDQQAAAMCcfVFBAAAAADicfEEAAAD8g9eXQQAAAACAhH5BAAAAAKjLiEEAAAD8g9eXQQAAAADXi4BBAAAAsE3yfkEAAAAACrZyQQAAAECivI9BAAAAAFemlkEAAAAAbgqOQQAAAAA4nHxBAAAAAE5phkEAAAAAZDaQQQAAAOA7KZ9BAAAAYLaagkEAAAAAdrCgQQAAANj4dpxBAAAAsCTUgEEAAABsgsqXQQAAACDkDYlBAAAAXuElokEAAAA8lsGXQQAAABzV4KNBAAAAEtQBoEEAAADApD6eQQAAAACj4aFB\",\"dtype\":\"float64\",\"shape\":[39]},\"mean\":{\"__ndarray__\":\"2PT6gpVQ+EDWui4KHZ/0QOgPXDfFXvZA75tDz/Pf+UB9R4YNclv9QK4SAYGHsPlATHSdFrxq8EA/ALKgNNTjQNW7EHpyz/VAwEG3a/0X90AEfORBx7P1QI0g6R33WfJAchXDzJ1t80BlGumnhkb/QJ/2Ik/A1PxAAYJLs8GPAEGGgrVtNjEEQd8j/d4P5QNBVGJ/qmeBCEF1gw5ZIHkIQQ/CPXHzVA5Bs+lIhEKjDUGwPm0AypQGQUrkUqlFNQRB4pvUniipBEFTgIBpnzoFQamecUGVyhBB/B10CElrFUGjAe7FpxcVQU+KD4ZEphNB8AXxid1VAUFR906gjs8GQSRVAmQtAQxB5lM04dUDEkHTYR/V6DEQQfxF1uRn8BBBtZZ67DaDEUFMxMlens0gQfHVsLpxQSBB\",\"dtype\":\"float64\",\"shape\":[39]},\"sum\":{\"__ndarray__\":\"AAAASOjio0EAAABFHoG+QQAAgLP2SMJBAACA1jexx0EAAIDQ8STQQQAAAGoLLs1BAACAPrvgwEEAAAAU0hOuQQAAAKBWBLVBAAAAsq+itEEAAABgAZu0QQAAAOdD3LRBAAAAIiiYuUEAAIBbMZbIQQAAAHJtIcVBAAAAr6ISyUEAAIDT3iDRQQAAgGdKb85BAADAOh4j1UEAAECrICHUQQAAAGluG9pBAABAz9mP00EAAABNRYnQQQAAAO6RCc9BAABAJkOH0UEAAIASsX/WQQAAQEejFOJBAABAHDTJ4EEAAAAh7MnZQQAAQO07tddBAACAK7r6xEEAAADxnjLPQQAAQGsCA9hBAADAY84r4kEAAMCORZzhQQAAgDM63eJBAACAAImk5UEAALAcxOH1QQAAAHFn9fVB\",\"dtype\":\"float64\",\"shape\":[39]}},\"selected\":{\"id\":\"1268\",\"type\":\"Selection\"},\"selection_policy\":{\"id\":\"1269\",\"type\":\"UnionRenderers\"}},\"id\":\"1211\",\"type\":\"ColumnDataSource\"},{\"attributes\":{\"align\":\"center\",\"plot\":null,\"text\":\"Austin Construction Permit Project Valuations\",\"text_font_size\":{\"value\":\"14pt\"}},\"id\":\"1212\",\"type\":\"Title\"},{\"attributes\":{},\"id\":\"1269\",\"type\":\"UnionRenderers\"},{\"attributes\":{},\"id\":\"1221\",\"type\":\"LinearScale\"},{\"attributes\":{},\"id\":\"1237\",\"type\":\"ResetTool\"},{\"attributes\":{\"axis_label\":\"Year Permits Issued\",\"axis_label_text_font_size\":{\"value\":\"12pt\"},\"axis_label_text_font_style\":\"normal\",\"formatter\":{\"id\":\"1266\",\"type\":\"BasicTickFormatter\"},\"major_label_text_font_size\":{\"value\":\"12pt\"},\"plot\":{\"id\":\"1213\",\"subtype\":\"Figure\",\"type\":\"Plot\"},\"ticker\":{\"id\":\"1224\",\"type\":\"BasicTicker\"}},\"id\":\"1223\",\"type\":\"LinearAxis\"},{\"attributes\":{\"plot\":{\"id\":\"1213\",\"subtype\":\"Figure\",\"type\":\"Plot\"},\"ticker\":{\"id\":\"1224\",\"type\":\"BasicTicker\"}},\"id\":\"1227\",\"type\":\"Grid\"},{\"attributes\":{},\"id\":\"1233\",\"type\":\"PanTool\"},{\"attributes\":{},\"id\":\"1224\",\"type\":\"BasicTicker\"},{\"attributes\":{\"axis_label\":\"Billion Dollars ($B)\",\"axis_label_text_font_size\":{\"value\":\"12pt\"},\"axis_label_text_font_style\":\"normal\",\"formatter\":{\"id\":\"1264\",\"type\":\"BasicTickFormatter\"},\"major_label_text_font_size\":{\"value\":\"12pt\"},\"plot\":{\"id\":\"1213\",\"subtype\":\"Figure\",\"type\":\"Plot\"},\"ticker\":{\"id\":\"1229\",\"type\":\"BasicTicker\"}},\"id\":\"1228\",\"type\":\"LinearAxis\"},{\"attributes\":{},\"id\":\"1264\",\"type\":\"BasicTickFormatter\"},{\"attributes\":{\"overlay\":{\"id\":\"1241\",\"type\":\"BoxAnnotation\"}},\"id\":\"1235\",\"type\":\"BoxZoomTool\"}],\"root_ids\":[\"1213\"]},\"title\":\"Bokeh Application\",\"version\":\"1.0.1\"}};\n",
       "  var render_items = [{\"docid\":\"a8dfd62b-600b-42f9-b5fb-309042ebd39c\",\"roots\":{\"1213\":\"135403b2-8c0b-4068-a465-98ac6b27bbb6\"}}];\n",
       "  root.Bokeh.embed.embed_items_notebook(docs_json, render_items);\n",
       "\n",
       "  }\n",
       "  if (root.Bokeh !== undefined) {\n",
       "    embed_document(root);\n",
       "  } else {\n",
       "    var attempts = 0;\n",
       "    var timer = setInterval(function(root) {\n",
       "      if (root.Bokeh !== undefined) {\n",
       "        embed_document(root);\n",
       "        clearInterval(timer);\n",
       "      }\n",
       "      attempts++;\n",
       "      if (attempts > 100) {\n",
       "        console.log(\"Bokeh: ERROR: Unable to run BokehJS code because BokehJS library is missing\");\n",
       "        clearInterval(timer);\n",
       "      }\n",
       "    }, 10, root)\n",
       "  }\n",
       "})(window);"
      ],
      "application/vnd.bokehjs_exec.v0+json": ""
     },
     "metadata": {
      "application/vnd.bokehjs_exec.v0+json": {
       "id": "1213"
      }
     },
     "output_type": "display_data"
    }
   ],
   "source": [
    "def style(p):\n",
    "    p.plot_height=500\n",
    "    p.plot_width=800\n",
    "\n",
    "    p.title.align = 'center'\n",
    "    p.title.text_font_size = '14pt'\n",
    "\n",
    "    p.xaxis.axis_label_text_font_size = '12pt'\n",
    "    p.xaxis.axis_label_text_font_style = 'normal'\n",
    "    p.xaxis.major_label_text_font_size = '12pt'\n",
    "\n",
    "    p.yaxis.axis_label_text_font_size = '12pt'\n",
    "    p.yaxis.axis_label_text_font_style = 'normal'\n",
    "    p.yaxis.major_label_text_font_size = '12pt'\n",
    "    \n",
    "    return p\n",
    "\n",
    "# Style chart\n",
    "p = style(p)\n",
    "\n",
    "show(p)"
   ]
  },
  {
   "cell_type": "markdown",
   "metadata": {},
   "source": [
    "## Adding More Glyphs"
   ]
  },
  {
   "cell_type": "code",
   "execution_count": 11,
   "metadata": {},
   "outputs": [
    {
     "data": {
      "text/html": [
       "\n",
       "\n",
       "\n",
       "\n",
       "\n",
       "\n",
       "  <div class=\"bk-root\" id=\"c8bd723f-839f-4ce4-b6f4-642055586c92\"></div>\n"
      ]
     },
     "metadata": {},
     "output_type": "display_data"
    },
    {
     "data": {
      "application/javascript": [
       "(function(root) {\n",
       "  function embed_document(root) {\n",
       "    \n",
       "  var docs_json = {\"dda2f6b8-50e6-4b92-9741-e061aab05c8f\":{\"roots\":{\"references\":[{\"attributes\":{\"below\":[{\"id\":\"1223\",\"type\":\"LinearAxis\"}],\"left\":[{\"id\":\"1228\",\"type\":\"LinearAxis\"}],\"plot_height\":500,\"plot_width\":800,\"renderers\":[{\"id\":\"1223\",\"type\":\"LinearAxis\"},{\"id\":\"1227\",\"type\":\"Grid\"},{\"id\":\"1228\",\"type\":\"LinearAxis\"},{\"id\":\"1232\",\"type\":\"Grid\"},{\"id\":\"1241\",\"type\":\"BoxAnnotation\"},{\"id\":\"1251\",\"type\":\"GlyphRenderer\"},{\"id\":\"1369\",\"type\":\"GlyphRenderer\"}],\"title\":{\"id\":\"1212\",\"type\":\"Title\"},\"toolbar\":{\"id\":\"1239\",\"type\":\"Toolbar\"},\"x_range\":{\"id\":\"1215\",\"type\":\"DataRange1d\"},\"x_scale\":{\"id\":\"1219\",\"type\":\"LinearScale\"},\"y_range\":{\"id\":\"1217\",\"type\":\"DataRange1d\"},\"y_scale\":{\"id\":\"1221\",\"type\":\"LinearScale\"}},\"id\":\"1213\",\"subtype\":\"Figure\",\"type\":\"Plot\"},{\"attributes\":{},\"id\":\"1236\",\"type\":\"SaveTool\"},{\"attributes\":{\"data_source\":{\"id\":\"1211\",\"type\":\"ColumnDataSource\"},\"glyph\":{\"id\":\"1249\",\"type\":\"Line\"},\"hover_glyph\":null,\"muted_glyph\":null,\"nonselection_glyph\":{\"id\":\"1250\",\"type\":\"Line\"},\"selection_glyph\":null,\"view\":{\"id\":\"1252\",\"type\":\"CDSView\"}},\"id\":\"1251\",\"type\":\"GlyphRenderer\"},{\"attributes\":{},\"id\":\"1229\",\"type\":\"BasicTicker\"},{\"attributes\":{},\"id\":\"1219\",\"type\":\"LinearScale\"},{\"attributes\":{\"line_alpha\":0.1,\"line_color\":\"#1f77b4\",\"line_width\":4,\"x\":{\"field\":\"CalendarYearIssued\"},\"y\":{\"field\":\"TotalInBillions\"}},\"id\":\"1250\",\"type\":\"Line\"},{\"attributes\":{\"source\":{\"id\":\"1211\",\"type\":\"ColumnDataSource\"}},\"id\":\"1252\",\"type\":\"CDSView\"},{\"attributes\":{},\"id\":\"1266\",\"type\":\"BasicTickFormatter\"},{\"attributes\":{\"active_drag\":\"auto\",\"active_inspect\":\"auto\",\"active_multi\":null,\"active_scroll\":\"auto\",\"active_tap\":\"auto\",\"tools\":[{\"id\":\"1233\",\"type\":\"PanTool\"},{\"id\":\"1234\",\"type\":\"WheelZoomTool\"},{\"id\":\"1235\",\"type\":\"BoxZoomTool\"},{\"id\":\"1236\",\"type\":\"SaveTool\"},{\"id\":\"1237\",\"type\":\"ResetTool\"},{\"id\":\"1238\",\"type\":\"HelpTool\"}]},\"id\":\"1239\",\"type\":\"Toolbar\"},{\"attributes\":{},\"id\":\"1238\",\"type\":\"HelpTool\"},{\"attributes\":{\"dimension\":1,\"plot\":{\"id\":\"1213\",\"subtype\":\"Figure\",\"type\":\"Plot\"},\"ticker\":{\"id\":\"1229\",\"type\":\"BasicTicker\"}},\"id\":\"1232\",\"type\":\"Grid\"},{\"attributes\":{},\"id\":\"1234\",\"type\":\"WheelZoomTool\"},{\"attributes\":{},\"id\":\"1268\",\"type\":\"Selection\"},{\"attributes\":{\"callback\":null},\"id\":\"1217\",\"type\":\"DataRange1d\"},{\"attributes\":{\"bottom_units\":\"screen\",\"fill_alpha\":{\"value\":0.5},\"fill_color\":{\"value\":\"lightgrey\"},\"left_units\":\"screen\",\"level\":\"overlay\",\"line_alpha\":{\"value\":1.0},\"line_color\":{\"value\":\"black\"},\"line_dash\":[4,4],\"line_width\":{\"value\":2},\"plot\":null,\"render_mode\":\"css\",\"right_units\":\"screen\",\"top_units\":\"screen\"},\"id\":\"1241\",\"type\":\"BoxAnnotation\"},{\"attributes\":{\"line_color\":\"orange\",\"line_width\":4,\"x\":{\"field\":\"CalendarYearIssued\"},\"y\":{\"field\":\"TotalInBillions\"}},\"id\":\"1249\",\"type\":\"Line\"},{\"attributes\":{\"callback\":null},\"id\":\"1215\",\"type\":\"DataRange1d\"},{\"attributes\":{\"callback\":null,\"data\":{\"AverageInBillions\":{\"__ndarray__\":\"GH01oZgbGj9lF+imZyQWP14IjacSBRg/sXSRKmrIGz/6LxnvpYUfPzg4v5x+lRs/viBd7KagET+Ea6TDiEoFP7VY5EUuaxc/EoiaavPLGD85qVy5eE0XP16gXN5mtBM/aw19RGHcFD+OxOiNeMogP2TBj3EF9R4/q4qFbmfIIT/YSNxXZq4lPyqosjiiXCU/EKe4awRQKj+Qb/3RIEcqPwf8W7vGSDA/l7oOGsLSLz84biQzEz8oP+lEBDbCsiU/6Gmd3TAvJj+7Abu2YcsmP8OyjYGRBzI/jIR9+6H/Nj/aefP21aU2P82f23I1GTU/0hoMJh+dIj/3ygs+LX4oP3dC5nPYES4/YnI1rutXMz98JCHtomMxP1IA5CguMDI/CwJ5odDNMj/hBzLt0wpCP5Q2LxZRdEE/\",\"dtype\":\"float64\",\"shape\":[39]},\"CalendarYearIssued\":[1980,1981,1982,1983,1984,1985,1986,1987,1988,1989,1990,1991,1992,1993,1994,1995,1996,1997,1998,1999,2000,2001,2002,2003,2004,2005,2006,2007,2008,2009,2010,2011,2012,2013,2014,2015,2016,2017,2018],\"MaxInBillions\":{\"__ndarray__\":\"GQRWDi2yjT+amZmZmZmZPwrXo3A9Cqc/O99PjZdukj8bL90kBoGlP5Kwle6zbKA/gcp8ML6isD9BguLHmLt2P13hXS7iO5E/MzMzMzMzsz8VgaoEnaakP8eZy7LMx3I/uB6F61G4nj+gFk6VmZm5P/yp8dJNYqA/ObTIdr6fqj+gFk6VmZm5P4enV8oyxKE//Pb5GEGdoD9I3GPpQxeUPyLjUSrhCbE/UrgehetRuD9U46WbxCCwP7gehetRuJ4/qvHSTWIQqD+cxCCwcmixPwRZT62+usA/Y9+hauz5oz/sUbgehevBPwtFup9TkL4/gSaAatURoj9lTSJ+oou5P9AS7/bc5qo/zoEq3Xl8wz8FdnTdDYK5P+hVb50XWMU/aupWfgIwwT+jgcfTzDzAPzMzMzMzM8M/\",\"dtype\":\"float64\",\"shape\":[39]},\"TotalInBillions\":{\"__ndarray__\":\"Lx/Z9FFaxT8NudoJfWDgPxYHdH8louM/wT8Kdnpw6T/qkWQot1XxPxMTezjmVO8/Gv4fnFkf4j8rK6FJzyXQPzt6+SYYkdY/FpWBwT0o1j9sin5v/h/WP0tKw+4QZtY/7b15I1N72z8JeR6LVmbqPxz8Wh1UsOY/vgtCFvXr6j8rdHcAOGTyP0An/tTqVvA/mjUq0CSy9j8TBLjuIJ31P2ropppHCPw/uOgijSMB9T+XlVuXcMHxP0tXq9S+qfA/SvwDRSnS8j9GEfn+ayj4PwU8qEX2aQNAAD63URYGAkD8r++awrD7P2+89FzKdPk/NYY7QsaG5j978D3QyL/wP/ztXxdNyPk/9/gfwdaCA0AN6ppKuOgCQLup2edXQQRA5uuNtRo9B0ACBwO72X4XQOumx8jvkxdA\",\"dtype\":\"float64\",\"shape\":[39]},\"count\":[1675,6059,6696,7501,9010,9305,8422,6213,3947,3660,3889,4656,5396,6440,6004,6201,6949,6266,7066,6738,7051,5407,5999,6291,6950,8682,8821,6420,5008,4942,4957,5602,7024,8263,8908,9123,10124,10668,11066],\"index\":[0,1,2,3,4,5,6,7,8,9,10,11,12,13,14,15,16,17,18,19,20,21,22,23,24,25,26,27,28,29,30,31,32,33,34,35,36,37,38],\"max\":{\"__ndarray__\":\"AAAAABSoa0EAAAAAhNd3QQAAAAAqdYVBAAAAAIgqcUEAAAAA9AaEQQAAAJDel35BAAAA4Ib8jkEAAAAA7CtVQQAAAADjDHBBAAAAAKPhkUEAAADYijuDQQAAAMCcfVFBAAAAADicfEEAAAD8g9eXQQAAAACAhH5BAAAAAKjLiEEAAAD8g9eXQQAAAADXi4BBAAAAsE3yfkEAAAAACrZyQQAAAECivI9BAAAAAFemlkEAAAAAbgqOQQAAAAA4nHxBAAAAAE5phkEAAAAAZDaQQQAAAOA7KZ9BAAAAYLaagkEAAAAAdrCgQQAAANj4dpxBAAAAsCTUgEEAAABsgsqXQQAAACDkDYlBAAAAXuElokEAAAA8lsGXQQAAABzV4KNBAAAAEtQBoEEAAADApD6eQQAAAACj4aFB\",\"dtype\":\"float64\",\"shape\":[39]},\"mean\":{\"__ndarray__\":\"2PT6gpVQ+EDWui4KHZ/0QOgPXDfFXvZA75tDz/Pf+UB9R4YNclv9QK4SAYGHsPlATHSdFrxq8EA/ALKgNNTjQNW7EHpyz/VAwEG3a/0X90AEfORBx7P1QI0g6R33WfJAchXDzJ1t80BlGumnhkb/QJ/2Ik/A1PxAAYJLs8GPAEGGgrVtNjEEQd8j/d4P5QNBVGJ/qmeBCEF1gw5ZIHkIQQ/CPXHzVA5Bs+lIhEKjDUGwPm0AypQGQUrkUqlFNQRB4pvUniipBEFTgIBpnzoFQamecUGVyhBB/B10CElrFUGjAe7FpxcVQU+KD4ZEphNB8AXxid1VAUFR906gjs8GQSRVAmQtAQxB5lM04dUDEkHTYR/V6DEQQfxF1uRn8BBBtZZ67DaDEUFMxMlens0gQfHVsLpxQSBB\",\"dtype\":\"float64\",\"shape\":[39]},\"sum\":{\"__ndarray__\":\"AAAASOjio0EAAABFHoG+QQAAgLP2SMJBAACA1jexx0EAAIDQ8STQQQAAAGoLLs1BAACAPrvgwEEAAAAU0hOuQQAAAKBWBLVBAAAAsq+itEEAAABgAZu0QQAAAOdD3LRBAAAAIiiYuUEAAIBbMZbIQQAAAHJtIcVBAAAAr6ISyUEAAIDT3iDRQQAAgGdKb85BAADAOh4j1UEAAECrICHUQQAAAGluG9pBAABAz9mP00EAAABNRYnQQQAAAO6RCc9BAABAJkOH0UEAAIASsX/WQQAAQEejFOJBAABAHDTJ4EEAAAAh7MnZQQAAQO07tddBAACAK7r6xEEAAADxnjLPQQAAQGsCA9hBAADAY84r4kEAAMCORZzhQQAAgDM63eJBAACAAImk5UEAALAcxOH1QQAAAHFn9fVB\",\"dtype\":\"float64\",\"shape\":[39]}},\"selected\":{\"id\":\"1268\",\"type\":\"Selection\"},\"selection_policy\":{\"id\":\"1269\",\"type\":\"UnionRenderers\"}},\"id\":\"1211\",\"type\":\"ColumnDataSource\"},{\"attributes\":{\"line_alpha\":0.1,\"line_color\":\"#1f77b4\",\"line_width\":4,\"x\":{\"field\":\"CalendarYearIssued\"},\"y\":{\"field\":\"MaxInBillions\"}},\"id\":\"1368\",\"type\":\"Line\"},{\"attributes\":{\"align\":\"center\",\"plot\":null,\"text\":\"Austin Construction Permit Project Valuations\",\"text_font_size\":{\"value\":\"14pt\"}},\"id\":\"1212\",\"type\":\"Title\"},{\"attributes\":{},\"id\":\"1269\",\"type\":\"UnionRenderers\"},{\"attributes\":{},\"id\":\"1221\",\"type\":\"LinearScale\"},{\"attributes\":{},\"id\":\"1237\",\"type\":\"ResetTool\"},{\"attributes\":{\"line_color\":\"green\",\"line_width\":4,\"x\":{\"field\":\"CalendarYearIssued\"},\"y\":{\"field\":\"MaxInBillions\"}},\"id\":\"1367\",\"type\":\"Line\"},{\"attributes\":{\"axis_label\":\"Year Permits Issued\",\"axis_label_text_font_size\":{\"value\":\"12pt\"},\"axis_label_text_font_style\":\"normal\",\"formatter\":{\"id\":\"1266\",\"type\":\"BasicTickFormatter\"},\"major_label_text_font_size\":{\"value\":\"12pt\"},\"plot\":{\"id\":\"1213\",\"subtype\":\"Figure\",\"type\":\"Plot\"},\"ticker\":{\"id\":\"1224\",\"type\":\"BasicTicker\"}},\"id\":\"1223\",\"type\":\"LinearAxis\"},{\"attributes\":{\"plot\":{\"id\":\"1213\",\"subtype\":\"Figure\",\"type\":\"Plot\"},\"ticker\":{\"id\":\"1224\",\"type\":\"BasicTicker\"}},\"id\":\"1227\",\"type\":\"Grid\"},{\"attributes\":{},\"id\":\"1233\",\"type\":\"PanTool\"},{\"attributes\":{},\"id\":\"1224\",\"type\":\"BasicTicker\"},{\"attributes\":{\"source\":{\"id\":\"1211\",\"type\":\"ColumnDataSource\"}},\"id\":\"1370\",\"type\":\"CDSView\"},{\"attributes\":{\"axis_label\":\"Billion Dollars ($B)\",\"axis_label_text_font_size\":{\"value\":\"12pt\"},\"axis_label_text_font_style\":\"normal\",\"formatter\":{\"id\":\"1264\",\"type\":\"BasicTickFormatter\"},\"major_label_text_font_size\":{\"value\":\"12pt\"},\"plot\":{\"id\":\"1213\",\"subtype\":\"Figure\",\"type\":\"Plot\"},\"ticker\":{\"id\":\"1229\",\"type\":\"BasicTicker\"}},\"id\":\"1228\",\"type\":\"LinearAxis\"},{\"attributes\":{\"data_source\":{\"id\":\"1211\",\"type\":\"ColumnDataSource\"},\"glyph\":{\"id\":\"1367\",\"type\":\"Line\"},\"hover_glyph\":null,\"muted_glyph\":null,\"nonselection_glyph\":{\"id\":\"1368\",\"type\":\"Line\"},\"selection_glyph\":null,\"view\":{\"id\":\"1370\",\"type\":\"CDSView\"}},\"id\":\"1369\",\"type\":\"GlyphRenderer\"},{\"attributes\":{},\"id\":\"1264\",\"type\":\"BasicTickFormatter\"},{\"attributes\":{\"overlay\":{\"id\":\"1241\",\"type\":\"BoxAnnotation\"}},\"id\":\"1235\",\"type\":\"BoxZoomTool\"}],\"root_ids\":[\"1213\"]},\"title\":\"Bokeh Application\",\"version\":\"1.0.1\"}};\n",
       "  var render_items = [{\"docid\":\"dda2f6b8-50e6-4b92-9741-e061aab05c8f\",\"roots\":{\"1213\":\"c8bd723f-839f-4ce4-b6f4-642055586c92\"}}];\n",
       "  root.Bokeh.embed.embed_items_notebook(docs_json, render_items);\n",
       "\n",
       "  }\n",
       "  if (root.Bokeh !== undefined) {\n",
       "    embed_document(root);\n",
       "  } else {\n",
       "    var attempts = 0;\n",
       "    var timer = setInterval(function(root) {\n",
       "      if (root.Bokeh !== undefined) {\n",
       "        embed_document(root);\n",
       "        clearInterval(timer);\n",
       "      }\n",
       "      attempts++;\n",
       "      if (attempts > 100) {\n",
       "        console.log(\"Bokeh: ERROR: Unable to run BokehJS code because BokehJS library is missing\");\n",
       "        clearInterval(timer);\n",
       "      }\n",
       "    }, 10, root)\n",
       "  }\n",
       "})(window);"
      ],
      "application/vnd.bokehjs_exec.v0+json": ""
     },
     "metadata": {
      "application/vnd.bokehjs_exec.v0+json": {
       "id": "1213"
      }
     },
     "output_type": "display_data"
    }
   ],
   "source": [
    "avg_line = p.line(x='CalendarYearIssued'\n",
    "            , y='MaxInBillions'\n",
    "            , color=\"green\"\n",
    "            , line_width=4\n",
    "            , source=source)\n",
    "\n",
    "show(p)"
   ]
  },
  {
   "cell_type": "markdown",
   "metadata": {},
   "source": [
    "## Adding a Legend"
   ]
  },
  {
   "cell_type": "code",
   "execution_count": 12,
   "metadata": {},
   "outputs": [
    {
     "data": {
      "text/html": [
       "\n",
       "\n",
       "\n",
       "\n",
       "\n",
       "\n",
       "  <div class=\"bk-root\" id=\"68a4df74-304a-4b70-b66b-29f7899a17ee\"></div>\n"
      ]
     },
     "metadata": {},
     "output_type": "display_data"
    },
    {
     "data": {
      "application/javascript": [
       "(function(root) {\n",
       "  function embed_document(root) {\n",
       "    \n",
       "  var docs_json = {\"2c27229e-11b9-4af3-b733-0034fa92d04e\":{\"roots\":{\"references\":[{\"attributes\":{\"below\":[{\"id\":\"1223\",\"type\":\"LinearAxis\"}],\"left\":[{\"id\":\"1228\",\"type\":\"LinearAxis\"}],\"plot_height\":500,\"plot_width\":800,\"renderers\":[{\"id\":\"1223\",\"type\":\"LinearAxis\"},{\"id\":\"1227\",\"type\":\"Grid\"},{\"id\":\"1228\",\"type\":\"LinearAxis\"},{\"id\":\"1232\",\"type\":\"Grid\"},{\"id\":\"1241\",\"type\":\"BoxAnnotation\"},{\"id\":\"1251\",\"type\":\"GlyphRenderer\"},{\"id\":\"1369\",\"type\":\"GlyphRenderer\"},{\"id\":\"1448\",\"type\":\"Legend\"},{\"id\":\"1438\",\"type\":\"GlyphRenderer\"},{\"id\":\"1501\",\"type\":\"GlyphRenderer\"}],\"title\":{\"id\":\"1212\",\"type\":\"Title\"},\"toolbar\":{\"id\":\"1239\",\"type\":\"Toolbar\"},\"x_range\":{\"id\":\"1215\",\"type\":\"DataRange1d\"},\"x_scale\":{\"id\":\"1219\",\"type\":\"LinearScale\"},\"y_range\":{\"id\":\"1217\",\"type\":\"DataRange1d\"},\"y_scale\":{\"id\":\"1221\",\"type\":\"LinearScale\"}},\"id\":\"1213\",\"subtype\":\"Figure\",\"type\":\"Plot\"},{\"attributes\":{\"label\":{\"value\":\"Average Valuation per Project\"},\"renderers\":[{\"id\":\"1501\",\"type\":\"GlyphRenderer\"}]},\"id\":\"1511\",\"type\":\"LegendItem\"},{\"attributes\":{},\"id\":\"1236\",\"type\":\"SaveTool\"},{\"attributes\":{\"data_source\":{\"id\":\"1211\",\"type\":\"ColumnDataSource\"},\"glyph\":{\"id\":\"1249\",\"type\":\"Line\"},\"hover_glyph\":null,\"muted_glyph\":null,\"nonselection_glyph\":{\"id\":\"1250\",\"type\":\"Line\"},\"selection_glyph\":null,\"view\":{\"id\":\"1252\",\"type\":\"CDSView\"}},\"id\":\"1251\",\"type\":\"GlyphRenderer\"},{\"attributes\":{},\"id\":\"1229\",\"type\":\"BasicTicker\"},{\"attributes\":{},\"id\":\"1219\",\"type\":\"LinearScale\"},{\"attributes\":{\"line_alpha\":0.1,\"line_color\":\"#1f77b4\",\"line_width\":4,\"x\":{\"field\":\"CalendarYearIssued\"},\"y\":{\"field\":\"TotalInBillions\"}},\"id\":\"1250\",\"type\":\"Line\"},{\"attributes\":{\"source\":{\"id\":\"1211\",\"type\":\"ColumnDataSource\"}},\"id\":\"1252\",\"type\":\"CDSView\"},{\"attributes\":{},\"id\":\"1266\",\"type\":\"BasicTickFormatter\"},{\"attributes\":{\"active_drag\":\"auto\",\"active_inspect\":\"auto\",\"active_multi\":null,\"active_scroll\":\"auto\",\"active_tap\":\"auto\",\"tools\":[{\"id\":\"1233\",\"type\":\"PanTool\"},{\"id\":\"1234\",\"type\":\"WheelZoomTool\"},{\"id\":\"1235\",\"type\":\"BoxZoomTool\"},{\"id\":\"1236\",\"type\":\"SaveTool\"},{\"id\":\"1237\",\"type\":\"ResetTool\"},{\"id\":\"1238\",\"type\":\"HelpTool\"}]},\"id\":\"1239\",\"type\":\"Toolbar\"},{\"attributes\":{},\"id\":\"1238\",\"type\":\"HelpTool\"},{\"attributes\":{\"dimension\":1,\"plot\":{\"id\":\"1213\",\"subtype\":\"Figure\",\"type\":\"Plot\"},\"ticker\":{\"id\":\"1229\",\"type\":\"BasicTicker\"}},\"id\":\"1232\",\"type\":\"Grid\"},{\"attributes\":{\"items\":[{\"id\":\"1465\",\"type\":\"LegendItem\"},{\"id\":\"1511\",\"type\":\"LegendItem\"}],\"location\":\"top_left\",\"plot\":{\"id\":\"1213\",\"subtype\":\"Figure\",\"type\":\"Plot\"}},\"id\":\"1448\",\"type\":\"Legend\"},{\"attributes\":{},\"id\":\"1234\",\"type\":\"WheelZoomTool\"},{\"attributes\":{\"callback\":null},\"id\":\"1217\",\"type\":\"DataRange1d\"},{\"attributes\":{\"bottom_units\":\"screen\",\"fill_alpha\":{\"value\":0.5},\"fill_color\":{\"value\":\"lightgrey\"},\"left_units\":\"screen\",\"level\":\"overlay\",\"line_alpha\":{\"value\":1.0},\"line_color\":{\"value\":\"black\"},\"line_dash\":[4,4],\"line_width\":{\"value\":2},\"plot\":null,\"render_mode\":\"css\",\"right_units\":\"screen\",\"top_units\":\"screen\"},\"id\":\"1241\",\"type\":\"BoxAnnotation\"},{\"attributes\":{\"data_source\":{\"id\":\"1211\",\"type\":\"ColumnDataSource\"},\"glyph\":{\"id\":\"1436\",\"type\":\"Line\"},\"hover_glyph\":null,\"muted_glyph\":null,\"nonselection_glyph\":{\"id\":\"1437\",\"type\":\"Line\"},\"selection_glyph\":null,\"view\":{\"id\":\"1439\",\"type\":\"CDSView\"}},\"id\":\"1438\",\"type\":\"GlyphRenderer\"},{\"attributes\":{\"line_color\":\"orange\",\"line_width\":4,\"x\":{\"field\":\"CalendarYearIssued\"},\"y\":{\"field\":\"TotalInBillions\"}},\"id\":\"1249\",\"type\":\"Line\"},{\"attributes\":{},\"id\":\"1268\",\"type\":\"Selection\"},{\"attributes\":{\"data_source\":{\"id\":\"1211\",\"type\":\"ColumnDataSource\"},\"glyph\":{\"id\":\"1499\",\"type\":\"Line\"},\"hover_glyph\":null,\"muted_glyph\":null,\"nonselection_glyph\":{\"id\":\"1500\",\"type\":\"Line\"},\"selection_glyph\":null,\"view\":{\"id\":\"1502\",\"type\":\"CDSView\"}},\"id\":\"1501\",\"type\":\"GlyphRenderer\"},{\"attributes\":{\"callback\":null},\"id\":\"1215\",\"type\":\"DataRange1d\"},{\"attributes\":{\"callback\":null,\"data\":{\"AverageInBillions\":{\"__ndarray__\":\"GH01oZgbGj9lF+imZyQWP14IjacSBRg/sXSRKmrIGz/6LxnvpYUfPzg4v5x+lRs/viBd7KagET+Ea6TDiEoFP7VY5EUuaxc/EoiaavPLGD85qVy5eE0XP16gXN5mtBM/aw19RGHcFD+OxOiNeMogP2TBj3EF9R4/q4qFbmfIIT/YSNxXZq4lPyqosjiiXCU/EKe4awRQKj+Qb/3RIEcqPwf8W7vGSDA/l7oOGsLSLz84biQzEz8oP+lEBDbCsiU/6Gmd3TAvJj+7Abu2YcsmP8OyjYGRBzI/jIR9+6H/Nj/aefP21aU2P82f23I1GTU/0hoMJh+dIj/3ygs+LX4oP3dC5nPYES4/YnI1rutXMz98JCHtomMxP1IA5CguMDI/CwJ5odDNMj/hBzLt0wpCP5Q2LxZRdEE/\",\"dtype\":\"float64\",\"shape\":[39]},\"CalendarYearIssued\":[1980,1981,1982,1983,1984,1985,1986,1987,1988,1989,1990,1991,1992,1993,1994,1995,1996,1997,1998,1999,2000,2001,2002,2003,2004,2005,2006,2007,2008,2009,2010,2011,2012,2013,2014,2015,2016,2017,2018],\"MaxInBillions\":{\"__ndarray__\":\"GQRWDi2yjT+amZmZmZmZPwrXo3A9Cqc/O99PjZdukj8bL90kBoGlP5Kwle6zbKA/gcp8ML6isD9BguLHmLt2P13hXS7iO5E/MzMzMzMzsz8VgaoEnaakP8eZy7LMx3I/uB6F61G4nj+gFk6VmZm5P/yp8dJNYqA/ObTIdr6fqj+gFk6VmZm5P4enV8oyxKE//Pb5GEGdoD9I3GPpQxeUPyLjUSrhCbE/UrgehetRuD9U46WbxCCwP7gehetRuJ4/qvHSTWIQqD+cxCCwcmixPwRZT62+usA/Y9+hauz5oz/sUbgehevBPwtFup9TkL4/gSaAatURoj9lTSJ+oou5P9AS7/bc5qo/zoEq3Xl8wz8FdnTdDYK5P+hVb50XWMU/aupWfgIwwT+jgcfTzDzAPzMzMzMzM8M/\",\"dtype\":\"float64\",\"shape\":[39]},\"TotalInBillions\":{\"__ndarray__\":\"Lx/Z9FFaxT8NudoJfWDgPxYHdH8louM/wT8Kdnpw6T/qkWQot1XxPxMTezjmVO8/Gv4fnFkf4j8rK6FJzyXQPzt6+SYYkdY/FpWBwT0o1j9sin5v/h/WP0tKw+4QZtY/7b15I1N72z8JeR6LVmbqPxz8Wh1UsOY/vgtCFvXr6j8rdHcAOGTyP0An/tTqVvA/mjUq0CSy9j8TBLjuIJ31P2ropppHCPw/uOgijSMB9T+XlVuXcMHxP0tXq9S+qfA/SvwDRSnS8j9GEfn+ayj4PwU8qEX2aQNAAD63URYGAkD8r++awrD7P2+89FzKdPk/NYY7QsaG5j978D3QyL/wP/ztXxdNyPk/9/gfwdaCA0AN6ppKuOgCQLup2edXQQRA5uuNtRo9B0ACBwO72X4XQOumx8jvkxdA\",\"dtype\":\"float64\",\"shape\":[39]},\"count\":[1675,6059,6696,7501,9010,9305,8422,6213,3947,3660,3889,4656,5396,6440,6004,6201,6949,6266,7066,6738,7051,5407,5999,6291,6950,8682,8821,6420,5008,4942,4957,5602,7024,8263,8908,9123,10124,10668,11066],\"index\":[0,1,2,3,4,5,6,7,8,9,10,11,12,13,14,15,16,17,18,19,20,21,22,23,24,25,26,27,28,29,30,31,32,33,34,35,36,37,38],\"max\":{\"__ndarray__\":\"AAAAABSoa0EAAAAAhNd3QQAAAAAqdYVBAAAAAIgqcUEAAAAA9AaEQQAAAJDel35BAAAA4Ib8jkEAAAAA7CtVQQAAAADjDHBBAAAAAKPhkUEAAADYijuDQQAAAMCcfVFBAAAAADicfEEAAAD8g9eXQQAAAACAhH5BAAAAAKjLiEEAAAD8g9eXQQAAAADXi4BBAAAAsE3yfkEAAAAACrZyQQAAAECivI9BAAAAAFemlkEAAAAAbgqOQQAAAAA4nHxBAAAAAE5phkEAAAAAZDaQQQAAAOA7KZ9BAAAAYLaagkEAAAAAdrCgQQAAANj4dpxBAAAAsCTUgEEAAABsgsqXQQAAACDkDYlBAAAAXuElokEAAAA8lsGXQQAAABzV4KNBAAAAEtQBoEEAAADApD6eQQAAAACj4aFB\",\"dtype\":\"float64\",\"shape\":[39]},\"mean\":{\"__ndarray__\":\"2PT6gpVQ+EDWui4KHZ/0QOgPXDfFXvZA75tDz/Pf+UB9R4YNclv9QK4SAYGHsPlATHSdFrxq8EA/ALKgNNTjQNW7EHpyz/VAwEG3a/0X90AEfORBx7P1QI0g6R33WfJAchXDzJ1t80BlGumnhkb/QJ/2Ik/A1PxAAYJLs8GPAEGGgrVtNjEEQd8j/d4P5QNBVGJ/qmeBCEF1gw5ZIHkIQQ/CPXHzVA5Bs+lIhEKjDUGwPm0AypQGQUrkUqlFNQRB4pvUniipBEFTgIBpnzoFQamecUGVyhBB/B10CElrFUGjAe7FpxcVQU+KD4ZEphNB8AXxid1VAUFR906gjs8GQSRVAmQtAQxB5lM04dUDEkHTYR/V6DEQQfxF1uRn8BBBtZZ67DaDEUFMxMlens0gQfHVsLpxQSBB\",\"dtype\":\"float64\",\"shape\":[39]},\"sum\":{\"__ndarray__\":\"AAAASOjio0EAAABFHoG+QQAAgLP2SMJBAACA1jexx0EAAIDQ8STQQQAAAGoLLs1BAACAPrvgwEEAAAAU0hOuQQAAAKBWBLVBAAAAsq+itEEAAABgAZu0QQAAAOdD3LRBAAAAIiiYuUEAAIBbMZbIQQAAAHJtIcVBAAAAr6ISyUEAAIDT3iDRQQAAgGdKb85BAADAOh4j1UEAAECrICHUQQAAAGluG9pBAABAz9mP00EAAABNRYnQQQAAAO6RCc9BAABAJkOH0UEAAIASsX/WQQAAQEejFOJBAABAHDTJ4EEAAAAh7MnZQQAAQO07tddBAACAK7r6xEEAAADxnjLPQQAAQGsCA9hBAADAY84r4kEAAMCORZzhQQAAgDM63eJBAACAAImk5UEAALAcxOH1QQAAAHFn9fVB\",\"dtype\":\"float64\",\"shape\":[39]}},\"selected\":{\"id\":\"1268\",\"type\":\"Selection\"},\"selection_policy\":{\"id\":\"1269\",\"type\":\"UnionRenderers\"}},\"id\":\"1211\",\"type\":\"ColumnDataSource\"},{\"attributes\":{\"line_alpha\":0.1,\"line_color\":\"#1f77b4\",\"line_width\":4,\"x\":{\"field\":\"CalendarYearIssued\"},\"y\":{\"field\":\"MaxInBillions\"}},\"id\":\"1368\",\"type\":\"Line\"},{\"attributes\":{\"align\":\"center\",\"plot\":null,\"text\":\"Austin Construction Permit Project Valuations\",\"text_font_size\":{\"value\":\"14pt\"}},\"id\":\"1212\",\"type\":\"Title\"},{\"attributes\":{},\"id\":\"1269\",\"type\":\"UnionRenderers\"},{\"attributes\":{},\"id\":\"1221\",\"type\":\"LinearScale\"},{\"attributes\":{},\"id\":\"1237\",\"type\":\"ResetTool\"},{\"attributes\":{\"line_color\":\"green\",\"line_width\":4,\"x\":{\"field\":\"CalendarYearIssued\"},\"y\":{\"field\":\"MaxInBillions\"}},\"id\":\"1367\",\"type\":\"Line\"},{\"attributes\":{\"axis_label\":\"Year Permits Issued\",\"axis_label_text_font_size\":{\"value\":\"12pt\"},\"axis_label_text_font_style\":\"normal\",\"formatter\":{\"id\":\"1266\",\"type\":\"BasicTickFormatter\"},\"major_label_text_font_size\":{\"value\":\"12pt\"},\"plot\":{\"id\":\"1213\",\"subtype\":\"Figure\",\"type\":\"Plot\"},\"ticker\":{\"id\":\"1224\",\"type\":\"BasicTicker\"}},\"id\":\"1223\",\"type\":\"LinearAxis\"},{\"attributes\":{\"plot\":{\"id\":\"1213\",\"subtype\":\"Figure\",\"type\":\"Plot\"},\"ticker\":{\"id\":\"1224\",\"type\":\"BasicTicker\"}},\"id\":\"1227\",\"type\":\"Grid\"},{\"attributes\":{},\"id\":\"1233\",\"type\":\"PanTool\"},{\"attributes\":{\"line_color\":\"green\",\"line_width\":4,\"x\":{\"field\":\"CalendarYearIssued\"},\"y\":{\"field\":\"MaxInBillions\"}},\"id\":\"1499\",\"type\":\"Line\"},{\"attributes\":{},\"id\":\"1224\",\"type\":\"BasicTicker\"},{\"attributes\":{\"source\":{\"id\":\"1211\",\"type\":\"ColumnDataSource\"}},\"id\":\"1370\",\"type\":\"CDSView\"},{\"attributes\":{\"axis_label\":\"Billion Dollars ($B)\",\"axis_label_text_font_size\":{\"value\":\"12pt\"},\"axis_label_text_font_style\":\"normal\",\"formatter\":{\"id\":\"1264\",\"type\":\"BasicTickFormatter\"},\"major_label_text_font_size\":{\"value\":\"12pt\"},\"plot\":{\"id\":\"1213\",\"subtype\":\"Figure\",\"type\":\"Plot\"},\"ticker\":{\"id\":\"1229\",\"type\":\"BasicTicker\"}},\"id\":\"1228\",\"type\":\"LinearAxis\"},{\"attributes\":{\"source\":{\"id\":\"1211\",\"type\":\"ColumnDataSource\"}},\"id\":\"1439\",\"type\":\"CDSView\"},{\"attributes\":{\"data_source\":{\"id\":\"1211\",\"type\":\"ColumnDataSource\"},\"glyph\":{\"id\":\"1367\",\"type\":\"Line\"},\"hover_glyph\":null,\"muted_glyph\":null,\"nonselection_glyph\":{\"id\":\"1368\",\"type\":\"Line\"},\"selection_glyph\":null,\"view\":{\"id\":\"1370\",\"type\":\"CDSView\"}},\"id\":\"1369\",\"type\":\"GlyphRenderer\"},{\"attributes\":{\"line_alpha\":0.1,\"line_color\":\"#1f77b4\",\"line_width\":4,\"x\":{\"field\":\"CalendarYearIssued\"},\"y\":{\"field\":\"TotalInBillions\"}},\"id\":\"1437\",\"type\":\"Line\"},{\"attributes\":{\"label\":{\"value\":\"Total Valuation All Projects\"},\"renderers\":[{\"id\":\"1438\",\"type\":\"GlyphRenderer\"}]},\"id\":\"1465\",\"type\":\"LegendItem\"},{\"attributes\":{\"line_alpha\":0.1,\"line_color\":\"#1f77b4\",\"line_width\":4,\"x\":{\"field\":\"CalendarYearIssued\"},\"y\":{\"field\":\"MaxInBillions\"}},\"id\":\"1500\",\"type\":\"Line\"},{\"attributes\":{},\"id\":\"1264\",\"type\":\"BasicTickFormatter\"},{\"attributes\":{\"line_color\":\"orange\",\"line_width\":4,\"x\":{\"field\":\"CalendarYearIssued\"},\"y\":{\"field\":\"TotalInBillions\"}},\"id\":\"1436\",\"type\":\"Line\"},{\"attributes\":{\"source\":{\"id\":\"1211\",\"type\":\"ColumnDataSource\"}},\"id\":\"1502\",\"type\":\"CDSView\"},{\"attributes\":{\"overlay\":{\"id\":\"1241\",\"type\":\"BoxAnnotation\"}},\"id\":\"1235\",\"type\":\"BoxZoomTool\"}],\"root_ids\":[\"1213\"]},\"title\":\"Bokeh Application\",\"version\":\"1.0.1\"}};\n",
       "  var render_items = [{\"docid\":\"2c27229e-11b9-4af3-b733-0034fa92d04e\",\"roots\":{\"1213\":\"68a4df74-304a-4b70-b66b-29f7899a17ee\"}}];\n",
       "  root.Bokeh.embed.embed_items_notebook(docs_json, render_items);\n",
       "\n",
       "  }\n",
       "  if (root.Bokeh !== undefined) {\n",
       "    embed_document(root);\n",
       "  } else {\n",
       "    var attempts = 0;\n",
       "    var timer = setInterval(function(root) {\n",
       "      if (root.Bokeh !== undefined) {\n",
       "        embed_document(root);\n",
       "        clearInterval(timer);\n",
       "      }\n",
       "      attempts++;\n",
       "      if (attempts > 100) {\n",
       "        console.log(\"Bokeh: ERROR: Unable to run BokehJS code because BokehJS library is missing\");\n",
       "        clearInterval(timer);\n",
       "      }\n",
       "    }, 10, root)\n",
       "  }\n",
       "})(window);"
      ],
      "application/vnd.bokehjs_exec.v0+json": ""
     },
     "metadata": {
      "application/vnd.bokehjs_exec.v0+json": {
       "id": "1213"
      }
     },
     "output_type": "display_data"
    }
   ],
   "source": [
    "total_renderer = p.line(x='CalendarYearIssued'\n",
    "        , y='TotalInBillions'\n",
    "        , color='orange'\n",
    "        , line_width=4\n",
    "        , source=source\n",
    "        , legend='Total Valuation All Projects'\n",
    "      )\n",
    "\n",
    "avg_renderer = p.line(x='CalendarYearIssued'\n",
    "            , y='MaxInBillions'\n",
    "            , color='green'\n",
    "            , line_width=4\n",
    "            , source=source\n",
    "            , legend='Average Valuation per Project'\n",
    "      )\n",
    "\n",
    "p.legend.location = \"top_left\"\n",
    "\n",
    "show(p)"
   ]
  },
  {
   "cell_type": "markdown",
   "metadata": {},
   "source": [
    "## Adding a HoverTool"
   ]
  },
  {
   "cell_type": "code",
   "execution_count": 13,
   "metadata": {},
   "outputs": [
    {
     "data": {
      "text/html": [
       "\n",
       "\n",
       "\n",
       "\n",
       "\n",
       "\n",
       "  <div class=\"bk-root\" id=\"41e02410-d720-42b7-a4fe-6eb943908875\"></div>\n"
      ]
     },
     "metadata": {},
     "output_type": "display_data"
    },
    {
     "data": {
      "application/javascript": [
       "(function(root) {\n",
       "  function embed_document(root) {\n",
       "    \n",
       "  var docs_json = {\"6889c446-a00b-49e5-b1c1-86cf8a973c82\":{\"roots\":{\"references\":[{\"attributes\":{\"below\":[{\"id\":\"1223\",\"type\":\"LinearAxis\"}],\"left\":[{\"id\":\"1228\",\"type\":\"LinearAxis\"}],\"plot_height\":500,\"plot_width\":800,\"renderers\":[{\"id\":\"1223\",\"type\":\"LinearAxis\"},{\"id\":\"1227\",\"type\":\"Grid\"},{\"id\":\"1228\",\"type\":\"LinearAxis\"},{\"id\":\"1232\",\"type\":\"Grid\"},{\"id\":\"1241\",\"type\":\"BoxAnnotation\"},{\"id\":\"1251\",\"type\":\"GlyphRenderer\"},{\"id\":\"1369\",\"type\":\"GlyphRenderer\"},{\"id\":\"1448\",\"type\":\"Legend\"},{\"id\":\"1438\",\"type\":\"GlyphRenderer\"},{\"id\":\"1501\",\"type\":\"GlyphRenderer\"}],\"title\":{\"id\":\"1212\",\"type\":\"Title\"},\"toolbar\":{\"id\":\"1239\",\"type\":\"Toolbar\"},\"x_range\":{\"id\":\"1215\",\"type\":\"DataRange1d\"},\"x_scale\":{\"id\":\"1219\",\"type\":\"LinearScale\"},\"y_range\":{\"id\":\"1217\",\"type\":\"DataRange1d\"},\"y_scale\":{\"id\":\"1221\",\"type\":\"LinearScale\"}},\"id\":\"1213\",\"subtype\":\"Figure\",\"type\":\"Plot\"},{\"attributes\":{\"label\":{\"value\":\"Average Valuation per Project\"},\"renderers\":[{\"id\":\"1501\",\"type\":\"GlyphRenderer\"}]},\"id\":\"1511\",\"type\":\"LegendItem\"},{\"attributes\":{},\"id\":\"1236\",\"type\":\"SaveTool\"},{\"attributes\":{\"data_source\":{\"id\":\"1211\",\"type\":\"ColumnDataSource\"},\"glyph\":{\"id\":\"1249\",\"type\":\"Line\"},\"hover_glyph\":null,\"muted_glyph\":null,\"nonselection_glyph\":{\"id\":\"1250\",\"type\":\"Line\"},\"selection_glyph\":null,\"view\":{\"id\":\"1252\",\"type\":\"CDSView\"}},\"id\":\"1251\",\"type\":\"GlyphRenderer\"},{\"attributes\":{},\"id\":\"1229\",\"type\":\"BasicTicker\"},{\"attributes\":{},\"id\":\"1219\",\"type\":\"LinearScale\"},{\"attributes\":{\"line_alpha\":0.1,\"line_color\":\"#1f77b4\",\"line_width\":4,\"x\":{\"field\":\"CalendarYearIssued\"},\"y\":{\"field\":\"TotalInBillions\"}},\"id\":\"1250\",\"type\":\"Line\"},{\"attributes\":{\"source\":{\"id\":\"1211\",\"type\":\"ColumnDataSource\"}},\"id\":\"1252\",\"type\":\"CDSView\"},{\"attributes\":{},\"id\":\"1266\",\"type\":\"BasicTickFormatter\"},{\"attributes\":{\"active_drag\":\"auto\",\"active_inspect\":\"auto\",\"active_multi\":null,\"active_scroll\":\"auto\",\"active_tap\":\"auto\",\"tools\":[{\"id\":\"1233\",\"type\":\"PanTool\"},{\"id\":\"1234\",\"type\":\"WheelZoomTool\"},{\"id\":\"1235\",\"type\":\"BoxZoomTool\"},{\"id\":\"1236\",\"type\":\"SaveTool\"},{\"id\":\"1237\",\"type\":\"ResetTool\"},{\"id\":\"1238\",\"type\":\"HelpTool\"},{\"id\":\"1592\",\"type\":\"HoverTool\"},{\"id\":\"1610\",\"type\":\"HoverTool\"}]},\"id\":\"1239\",\"type\":\"Toolbar\"},{\"attributes\":{},\"id\":\"1238\",\"type\":\"HelpTool\"},{\"attributes\":{\"dimension\":1,\"plot\":{\"id\":\"1213\",\"subtype\":\"Figure\",\"type\":\"Plot\"},\"ticker\":{\"id\":\"1229\",\"type\":\"BasicTicker\"}},\"id\":\"1232\",\"type\":\"Grid\"},{\"attributes\":{\"items\":[{\"id\":\"1465\",\"type\":\"LegendItem\"},{\"id\":\"1511\",\"type\":\"LegendItem\"}],\"location\":\"top_left\",\"plot\":{\"id\":\"1213\",\"subtype\":\"Figure\",\"type\":\"Plot\"}},\"id\":\"1448\",\"type\":\"Legend\"},{\"attributes\":{},\"id\":\"1234\",\"type\":\"WheelZoomTool\"},{\"attributes\":{\"callback\":null},\"id\":\"1217\",\"type\":\"DataRange1d\"},{\"attributes\":{\"bottom_units\":\"screen\",\"fill_alpha\":{\"value\":0.5},\"fill_color\":{\"value\":\"lightgrey\"},\"left_units\":\"screen\",\"level\":\"overlay\",\"line_alpha\":{\"value\":1.0},\"line_color\":{\"value\":\"black\"},\"line_dash\":[4,4],\"line_width\":{\"value\":2},\"plot\":null,\"render_mode\":\"css\",\"right_units\":\"screen\",\"top_units\":\"screen\"},\"id\":\"1241\",\"type\":\"BoxAnnotation\"},{\"attributes\":{\"data_source\":{\"id\":\"1211\",\"type\":\"ColumnDataSource\"},\"glyph\":{\"id\":\"1436\",\"type\":\"Line\"},\"hover_glyph\":null,\"muted_glyph\":null,\"nonselection_glyph\":{\"id\":\"1437\",\"type\":\"Line\"},\"selection_glyph\":null,\"view\":{\"id\":\"1439\",\"type\":\"CDSView\"}},\"id\":\"1438\",\"type\":\"GlyphRenderer\"},{\"attributes\":{\"line_color\":\"orange\",\"line_width\":4,\"x\":{\"field\":\"CalendarYearIssued\"},\"y\":{\"field\":\"TotalInBillions\"}},\"id\":\"1249\",\"type\":\"Line\"},{\"attributes\":{},\"id\":\"1268\",\"type\":\"Selection\"},{\"attributes\":{\"data_source\":{\"id\":\"1211\",\"type\":\"ColumnDataSource\"},\"glyph\":{\"id\":\"1499\",\"type\":\"Line\"},\"hover_glyph\":null,\"muted_glyph\":null,\"nonselection_glyph\":{\"id\":\"1500\",\"type\":\"Line\"},\"selection_glyph\":null,\"view\":{\"id\":\"1502\",\"type\":\"CDSView\"}},\"id\":\"1501\",\"type\":\"GlyphRenderer\"},{\"attributes\":{\"callback\":null},\"id\":\"1215\",\"type\":\"DataRange1d\"},{\"attributes\":{\"callback\":null,\"data\":{\"AverageInBillions\":{\"__ndarray__\":\"GH01oZgbGj9lF+imZyQWP14IjacSBRg/sXSRKmrIGz/6LxnvpYUfPzg4v5x+lRs/viBd7KagET+Ea6TDiEoFP7VY5EUuaxc/EoiaavPLGD85qVy5eE0XP16gXN5mtBM/aw19RGHcFD+OxOiNeMogP2TBj3EF9R4/q4qFbmfIIT/YSNxXZq4lPyqosjiiXCU/EKe4awRQKj+Qb/3RIEcqPwf8W7vGSDA/l7oOGsLSLz84biQzEz8oP+lEBDbCsiU/6Gmd3TAvJj+7Abu2YcsmP8OyjYGRBzI/jIR9+6H/Nj/aefP21aU2P82f23I1GTU/0hoMJh+dIj/3ygs+LX4oP3dC5nPYES4/YnI1rutXMz98JCHtomMxP1IA5CguMDI/CwJ5odDNMj/hBzLt0wpCP5Q2LxZRdEE/\",\"dtype\":\"float64\",\"shape\":[39]},\"CalendarYearIssued\":[1980,1981,1982,1983,1984,1985,1986,1987,1988,1989,1990,1991,1992,1993,1994,1995,1996,1997,1998,1999,2000,2001,2002,2003,2004,2005,2006,2007,2008,2009,2010,2011,2012,2013,2014,2015,2016,2017,2018],\"MaxInBillions\":{\"__ndarray__\":\"GQRWDi2yjT+amZmZmZmZPwrXo3A9Cqc/O99PjZdukj8bL90kBoGlP5Kwle6zbKA/gcp8ML6isD9BguLHmLt2P13hXS7iO5E/MzMzMzMzsz8VgaoEnaakP8eZy7LMx3I/uB6F61G4nj+gFk6VmZm5P/yp8dJNYqA/ObTIdr6fqj+gFk6VmZm5P4enV8oyxKE//Pb5GEGdoD9I3GPpQxeUPyLjUSrhCbE/UrgehetRuD9U46WbxCCwP7gehetRuJ4/qvHSTWIQqD+cxCCwcmixPwRZT62+usA/Y9+hauz5oz/sUbgehevBPwtFup9TkL4/gSaAatURoj9lTSJ+oou5P9AS7/bc5qo/zoEq3Xl8wz8FdnTdDYK5P+hVb50XWMU/aupWfgIwwT+jgcfTzDzAPzMzMzMzM8M/\",\"dtype\":\"float64\",\"shape\":[39]},\"TotalInBillions\":{\"__ndarray__\":\"Lx/Z9FFaxT8NudoJfWDgPxYHdH8louM/wT8Kdnpw6T/qkWQot1XxPxMTezjmVO8/Gv4fnFkf4j8rK6FJzyXQPzt6+SYYkdY/FpWBwT0o1j9sin5v/h/WP0tKw+4QZtY/7b15I1N72z8JeR6LVmbqPxz8Wh1UsOY/vgtCFvXr6j8rdHcAOGTyP0An/tTqVvA/mjUq0CSy9j8TBLjuIJ31P2ropppHCPw/uOgijSMB9T+XlVuXcMHxP0tXq9S+qfA/SvwDRSnS8j9GEfn+ayj4PwU8qEX2aQNAAD63URYGAkD8r++awrD7P2+89FzKdPk/NYY7QsaG5j978D3QyL/wP/ztXxdNyPk/9/gfwdaCA0AN6ppKuOgCQLup2edXQQRA5uuNtRo9B0ACBwO72X4XQOumx8jvkxdA\",\"dtype\":\"float64\",\"shape\":[39]},\"count\":[1675,6059,6696,7501,9010,9305,8422,6213,3947,3660,3889,4656,5396,6440,6004,6201,6949,6266,7066,6738,7051,5407,5999,6291,6950,8682,8821,6420,5008,4942,4957,5602,7024,8263,8908,9123,10124,10668,11066],\"index\":[0,1,2,3,4,5,6,7,8,9,10,11,12,13,14,15,16,17,18,19,20,21,22,23,24,25,26,27,28,29,30,31,32,33,34,35,36,37,38],\"max\":{\"__ndarray__\":\"AAAAABSoa0EAAAAAhNd3QQAAAAAqdYVBAAAAAIgqcUEAAAAA9AaEQQAAAJDel35BAAAA4Ib8jkEAAAAA7CtVQQAAAADjDHBBAAAAAKPhkUEAAADYijuDQQAAAMCcfVFBAAAAADicfEEAAAD8g9eXQQAAAACAhH5BAAAAAKjLiEEAAAD8g9eXQQAAAADXi4BBAAAAsE3yfkEAAAAACrZyQQAAAECivI9BAAAAAFemlkEAAAAAbgqOQQAAAAA4nHxBAAAAAE5phkEAAAAAZDaQQQAAAOA7KZ9BAAAAYLaagkEAAAAAdrCgQQAAANj4dpxBAAAAsCTUgEEAAABsgsqXQQAAACDkDYlBAAAAXuElokEAAAA8lsGXQQAAABzV4KNBAAAAEtQBoEEAAADApD6eQQAAAACj4aFB\",\"dtype\":\"float64\",\"shape\":[39]},\"mean\":{\"__ndarray__\":\"2PT6gpVQ+EDWui4KHZ/0QOgPXDfFXvZA75tDz/Pf+UB9R4YNclv9QK4SAYGHsPlATHSdFrxq8EA/ALKgNNTjQNW7EHpyz/VAwEG3a/0X90AEfORBx7P1QI0g6R33WfJAchXDzJ1t80BlGumnhkb/QJ/2Ik/A1PxAAYJLs8GPAEGGgrVtNjEEQd8j/d4P5QNBVGJ/qmeBCEF1gw5ZIHkIQQ/CPXHzVA5Bs+lIhEKjDUGwPm0AypQGQUrkUqlFNQRB4pvUniipBEFTgIBpnzoFQamecUGVyhBB/B10CElrFUGjAe7FpxcVQU+KD4ZEphNB8AXxid1VAUFR906gjs8GQSRVAmQtAQxB5lM04dUDEkHTYR/V6DEQQfxF1uRn8BBBtZZ67DaDEUFMxMlens0gQfHVsLpxQSBB\",\"dtype\":\"float64\",\"shape\":[39]},\"sum\":{\"__ndarray__\":\"AAAASOjio0EAAABFHoG+QQAAgLP2SMJBAACA1jexx0EAAIDQ8STQQQAAAGoLLs1BAACAPrvgwEEAAAAU0hOuQQAAAKBWBLVBAAAAsq+itEEAAABgAZu0QQAAAOdD3LRBAAAAIiiYuUEAAIBbMZbIQQAAAHJtIcVBAAAAr6ISyUEAAIDT3iDRQQAAgGdKb85BAADAOh4j1UEAAECrICHUQQAAAGluG9pBAABAz9mP00EAAABNRYnQQQAAAO6RCc9BAABAJkOH0UEAAIASsX/WQQAAQEejFOJBAABAHDTJ4EEAAAAh7MnZQQAAQO07tddBAACAK7r6xEEAAADxnjLPQQAAQGsCA9hBAADAY84r4kEAAMCORZzhQQAAgDM63eJBAACAAImk5UEAALAcxOH1QQAAAHFn9fVB\",\"dtype\":\"float64\",\"shape\":[39]}},\"selected\":{\"id\":\"1268\",\"type\":\"Selection\"},\"selection_policy\":{\"id\":\"1269\",\"type\":\"UnionRenderers\"}},\"id\":\"1211\",\"type\":\"ColumnDataSource\"},{\"attributes\":{\"line_alpha\":0.1,\"line_color\":\"#1f77b4\",\"line_width\":4,\"x\":{\"field\":\"CalendarYearIssued\"},\"y\":{\"field\":\"MaxInBillions\"}},\"id\":\"1368\",\"type\":\"Line\"},{\"attributes\":{\"align\":\"center\",\"plot\":null,\"text\":\"Austin Construction Permit Project Valuations\",\"text_font_size\":{\"value\":\"14pt\"}},\"id\":\"1212\",\"type\":\"Title\"},{\"attributes\":{},\"id\":\"1269\",\"type\":\"UnionRenderers\"},{\"attributes\":{},\"id\":\"1221\",\"type\":\"LinearScale\"},{\"attributes\":{\"callback\":null,\"renderers\":[{\"id\":\"1438\",\"type\":\"GlyphRenderer\"}],\"tooltips\":[[\"index\",\"$index\"],[\"(x,y)\",\"($x, $y)\"],[\"Calendar Year Issued\",\"@CalendarYearIssued\"],[\"Total In Billion $\",\"@TotalInBillions\"]]},\"id\":\"1592\",\"type\":\"HoverTool\"},{\"attributes\":{},\"id\":\"1237\",\"type\":\"ResetTool\"},{\"attributes\":{\"line_color\":\"green\",\"line_width\":4,\"x\":{\"field\":\"CalendarYearIssued\"},\"y\":{\"field\":\"MaxInBillions\"}},\"id\":\"1367\",\"type\":\"Line\"},{\"attributes\":{\"axis_label\":\"Year Permits Issued\",\"axis_label_text_font_size\":{\"value\":\"12pt\"},\"axis_label_text_font_style\":\"normal\",\"formatter\":{\"id\":\"1266\",\"type\":\"BasicTickFormatter\"},\"major_label_text_font_size\":{\"value\":\"12pt\"},\"plot\":{\"id\":\"1213\",\"subtype\":\"Figure\",\"type\":\"Plot\"},\"ticker\":{\"id\":\"1224\",\"type\":\"BasicTicker\"}},\"id\":\"1223\",\"type\":\"LinearAxis\"},{\"attributes\":{\"plot\":{\"id\":\"1213\",\"subtype\":\"Figure\",\"type\":\"Plot\"},\"ticker\":{\"id\":\"1224\",\"type\":\"BasicTicker\"}},\"id\":\"1227\",\"type\":\"Grid\"},{\"attributes\":{},\"id\":\"1233\",\"type\":\"PanTool\"},{\"attributes\":{\"line_color\":\"green\",\"line_width\":4,\"x\":{\"field\":\"CalendarYearIssued\"},\"y\":{\"field\":\"MaxInBillions\"}},\"id\":\"1499\",\"type\":\"Line\"},{\"attributes\":{},\"id\":\"1224\",\"type\":\"BasicTicker\"},{\"attributes\":{\"source\":{\"id\":\"1211\",\"type\":\"ColumnDataSource\"}},\"id\":\"1370\",\"type\":\"CDSView\"},{\"attributes\":{\"axis_label\":\"Billion Dollars ($B)\",\"axis_label_text_font_size\":{\"value\":\"12pt\"},\"axis_label_text_font_style\":\"normal\",\"formatter\":{\"id\":\"1264\",\"type\":\"BasicTickFormatter\"},\"major_label_text_font_size\":{\"value\":\"12pt\"},\"plot\":{\"id\":\"1213\",\"subtype\":\"Figure\",\"type\":\"Plot\"},\"ticker\":{\"id\":\"1229\",\"type\":\"BasicTicker\"}},\"id\":\"1228\",\"type\":\"LinearAxis\"},{\"attributes\":{\"source\":{\"id\":\"1211\",\"type\":\"ColumnDataSource\"}},\"id\":\"1439\",\"type\":\"CDSView\"},{\"attributes\":{\"data_source\":{\"id\":\"1211\",\"type\":\"ColumnDataSource\"},\"glyph\":{\"id\":\"1367\",\"type\":\"Line\"},\"hover_glyph\":null,\"muted_glyph\":null,\"nonselection_glyph\":{\"id\":\"1368\",\"type\":\"Line\"},\"selection_glyph\":null,\"view\":{\"id\":\"1370\",\"type\":\"CDSView\"}},\"id\":\"1369\",\"type\":\"GlyphRenderer\"},{\"attributes\":{\"line_alpha\":0.1,\"line_color\":\"#1f77b4\",\"line_width\":4,\"x\":{\"field\":\"CalendarYearIssued\"},\"y\":{\"field\":\"TotalInBillions\"}},\"id\":\"1437\",\"type\":\"Line\"},{\"attributes\":{\"label\":{\"value\":\"Total Valuation All Projects\"},\"renderers\":[{\"id\":\"1438\",\"type\":\"GlyphRenderer\"}]},\"id\":\"1465\",\"type\":\"LegendItem\"},{\"attributes\":{\"callback\":null,\"renderers\":[{\"id\":\"1501\",\"type\":\"GlyphRenderer\"}],\"tooltips\":[[\"index\",\"$index\"],[\"(x,y)\",\"($x, $y)\"],[\"Calendar Year Issued\",\"@CalendarYearIssued\"],[\"Average in $\",\"@mean{(0,0)}\"]]},\"id\":\"1610\",\"type\":\"HoverTool\"},{\"attributes\":{\"line_alpha\":0.1,\"line_color\":\"#1f77b4\",\"line_width\":4,\"x\":{\"field\":\"CalendarYearIssued\"},\"y\":{\"field\":\"MaxInBillions\"}},\"id\":\"1500\",\"type\":\"Line\"},{\"attributes\":{},\"id\":\"1264\",\"type\":\"BasicTickFormatter\"},{\"attributes\":{\"line_color\":\"orange\",\"line_width\":4,\"x\":{\"field\":\"CalendarYearIssued\"},\"y\":{\"field\":\"TotalInBillions\"}},\"id\":\"1436\",\"type\":\"Line\"},{\"attributes\":{\"source\":{\"id\":\"1211\",\"type\":\"ColumnDataSource\"}},\"id\":\"1502\",\"type\":\"CDSView\"},{\"attributes\":{\"overlay\":{\"id\":\"1241\",\"type\":\"BoxAnnotation\"}},\"id\":\"1235\",\"type\":\"BoxZoomTool\"}],\"root_ids\":[\"1213\"]},\"title\":\"Bokeh Application\",\"version\":\"1.0.1\"}};\n",
       "  var render_items = [{\"docid\":\"6889c446-a00b-49e5-b1c1-86cf8a973c82\",\"roots\":{\"1213\":\"41e02410-d720-42b7-a4fe-6eb943908875\"}}];\n",
       "  root.Bokeh.embed.embed_items_notebook(docs_json, render_items);\n",
       "\n",
       "  }\n",
       "  if (root.Bokeh !== undefined) {\n",
       "    embed_document(root);\n",
       "  } else {\n",
       "    var attempts = 0;\n",
       "    var timer = setInterval(function(root) {\n",
       "      if (root.Bokeh !== undefined) {\n",
       "        embed_document(root);\n",
       "        clearInterval(timer);\n",
       "      }\n",
       "      attempts++;\n",
       "      if (attempts > 100) {\n",
       "        console.log(\"Bokeh: ERROR: Unable to run BokehJS code because BokehJS library is missing\");\n",
       "        clearInterval(timer);\n",
       "      }\n",
       "    }, 10, root)\n",
       "  }\n",
       "})(window);"
      ],
      "application/vnd.bokehjs_exec.v0+json": ""
     },
     "metadata": {
      "application/vnd.bokehjs_exec.v0+json": {
       "id": "1213"
      }
     },
     "output_type": "display_data"
    }
   ],
   "source": [
    "from bokeh.models import HoverTool\n",
    "\n",
    "# Add a hover functionality for `Total Valuation All Projects` line\n",
    "deftooltips = [\n",
    "    (\"index\", \"$index\"),\n",
    "    (\"(x,y)\", \"($x, $y)\"),\n",
    "    (\"Calendar Year Issued\", \"@CalendarYearIssued\"),\n",
    "    (\"Total In Billion $\", \"@TotalInBillions\"),\n",
    "]\n",
    "\n",
    "total_hover = HoverTool(tooltips=deftooltips, renderers=[total_renderer])\n",
    "p.add_tools(total_hover)\n",
    "\n",
    "# Add a hover functionality for `Average Valuation per Project` line\n",
    "deftooltips = [\n",
    "    (\"index\", \"$index\"),\n",
    "    (\"(x,y)\", \"($x, $y)\"),\n",
    "    (\"Calendar Year Issued\", \"@CalendarYearIssued\"),\n",
    "    (\"Average in $\", \"@mean{(0,0)}\"),\n",
    "]\n",
    "\n",
    "avg_hover = HoverTool(tooltips=deftooltips, renderers=[avg_renderer])\n",
    "p.add_tools(avg_hover)\n",
    "\n",
    "show(p)"
   ]
  },
  {
   "cell_type": "markdown",
   "metadata": {},
   "source": [
    "## Configuring Plot Tools"
   ]
  },
  {
   "cell_type": "code",
   "execution_count": 14,
   "metadata": {},
   "outputs": [
    {
     "data": {
      "text/html": [
       "\n",
       "\n",
       "\n",
       "\n",
       "\n",
       "\n",
       "  <div class=\"bk-root\" id=\"517d0b5d-72ed-41e6-8397-ec71d076f91a\"></div>\n"
      ]
     },
     "metadata": {},
     "output_type": "display_data"
    },
    {
     "data": {
      "application/javascript": [
       "(function(root) {\n",
       "  function embed_document(root) {\n",
       "    \n",
       "  var docs_json = {\"37d60488-9ccd-486d-9b41-4c4fc15674fe\":{\"roots\":{\"references\":[{\"attributes\":{\"below\":[{\"id\":\"1223\",\"type\":\"LinearAxis\"}],\"left\":[{\"id\":\"1228\",\"type\":\"LinearAxis\"}],\"plot_height\":500,\"plot_width\":800,\"renderers\":[{\"id\":\"1223\",\"type\":\"LinearAxis\"},{\"id\":\"1227\",\"type\":\"Grid\"},{\"id\":\"1228\",\"type\":\"LinearAxis\"},{\"id\":\"1232\",\"type\":\"Grid\"},{\"id\":\"1241\",\"type\":\"BoxAnnotation\"},{\"id\":\"1251\",\"type\":\"GlyphRenderer\"},{\"id\":\"1369\",\"type\":\"GlyphRenderer\"},{\"id\":\"1448\",\"type\":\"Legend\"},{\"id\":\"1438\",\"type\":\"GlyphRenderer\"},{\"id\":\"1501\",\"type\":\"GlyphRenderer\"},{\"id\":\"1679\",\"type\":\"GlyphRenderer\"}],\"title\":{\"id\":\"1212\",\"type\":\"Title\"},\"toolbar\":{\"id\":\"1239\",\"type\":\"Toolbar\"},\"x_range\":{\"id\":\"1215\",\"type\":\"DataRange1d\"},\"x_scale\":{\"id\":\"1219\",\"type\":\"LinearScale\"},\"y_range\":{\"id\":\"1217\",\"type\":\"DataRange1d\"},\"y_scale\":{\"id\":\"1221\",\"type\":\"LinearScale\"}},\"id\":\"1213\",\"subtype\":\"Figure\",\"type\":\"Plot\"},{\"attributes\":{\"fill_color\":{\"value\":\"white\"},\"line_color\":{\"value\":\"orange\"},\"size\":{\"units\":\"screen\",\"value\":6},\"x\":{\"field\":\"CalendarYearIssued\"},\"y\":{\"field\":\"TotalInBillions\"}},\"id\":\"1677\",\"type\":\"Circle\"},{\"attributes\":{\"label\":{\"value\":\"Average Valuation per Project\"},\"renderers\":[{\"id\":\"1501\",\"type\":\"GlyphRenderer\"}]},\"id\":\"1511\",\"type\":\"LegendItem\"},{\"attributes\":{},\"id\":\"1236\",\"type\":\"SaveTool\"},{\"attributes\":{\"data_source\":{\"id\":\"1211\",\"type\":\"ColumnDataSource\"},\"glyph\":{\"id\":\"1249\",\"type\":\"Line\"},\"hover_glyph\":null,\"muted_glyph\":null,\"nonselection_glyph\":{\"id\":\"1250\",\"type\":\"Line\"},\"selection_glyph\":null,\"view\":{\"id\":\"1252\",\"type\":\"CDSView\"}},\"id\":\"1251\",\"type\":\"GlyphRenderer\"},{\"attributes\":{},\"id\":\"1229\",\"type\":\"BasicTicker\"},{\"attributes\":{},\"id\":\"1219\",\"type\":\"LinearScale\"},{\"attributes\":{\"line_alpha\":0.1,\"line_color\":\"#1f77b4\",\"line_width\":4,\"x\":{\"field\":\"CalendarYearIssued\"},\"y\":{\"field\":\"TotalInBillions\"}},\"id\":\"1250\",\"type\":\"Line\"},{\"attributes\":{\"source\":{\"id\":\"1211\",\"type\":\"ColumnDataSource\"}},\"id\":\"1252\",\"type\":\"CDSView\"},{\"attributes\":{},\"id\":\"1266\",\"type\":\"BasicTickFormatter\"},{\"attributes\":{\"active_drag\":\"auto\",\"active_inspect\":\"auto\",\"active_multi\":null,\"active_scroll\":\"auto\",\"active_tap\":\"auto\",\"tools\":[{\"id\":\"1233\",\"type\":\"PanTool\"},{\"id\":\"1234\",\"type\":\"WheelZoomTool\"},{\"id\":\"1235\",\"type\":\"BoxZoomTool\"},{\"id\":\"1236\",\"type\":\"SaveTool\"},{\"id\":\"1237\",\"type\":\"ResetTool\"},{\"id\":\"1238\",\"type\":\"HelpTool\"},{\"id\":\"1592\",\"type\":\"HoverTool\"},{\"id\":\"1610\",\"type\":\"HoverTool\"},{\"id\":\"1697\",\"type\":\"PointDrawTool\"}]},\"id\":\"1239\",\"type\":\"Toolbar\"},{\"attributes\":{\"source\":{\"id\":\"1211\",\"type\":\"ColumnDataSource\"}},\"id\":\"1680\",\"type\":\"CDSView\"},{\"attributes\":{},\"id\":\"1238\",\"type\":\"HelpTool\"},{\"attributes\":{\"dimension\":1,\"plot\":{\"id\":\"1213\",\"subtype\":\"Figure\",\"type\":\"Plot\"},\"ticker\":{\"id\":\"1229\",\"type\":\"BasicTicker\"}},\"id\":\"1232\",\"type\":\"Grid\"},{\"attributes\":{\"items\":[{\"id\":\"1465\",\"type\":\"LegendItem\"},{\"id\":\"1511\",\"type\":\"LegendItem\"}],\"location\":\"top_left\",\"plot\":{\"id\":\"1213\",\"subtype\":\"Figure\",\"type\":\"Plot\"}},\"id\":\"1448\",\"type\":\"Legend\"},{\"attributes\":{},\"id\":\"1234\",\"type\":\"WheelZoomTool\"},{\"attributes\":{\"callback\":null},\"id\":\"1217\",\"type\":\"DataRange1d\"},{\"attributes\":{\"bottom_units\":\"screen\",\"fill_alpha\":{\"value\":0.5},\"fill_color\":{\"value\":\"lightgrey\"},\"left_units\":\"screen\",\"level\":\"overlay\",\"line_alpha\":{\"value\":1.0},\"line_color\":{\"value\":\"black\"},\"line_dash\":[4,4],\"line_width\":{\"value\":2},\"plot\":null,\"render_mode\":\"css\",\"right_units\":\"screen\",\"top_units\":\"screen\"},\"id\":\"1241\",\"type\":\"BoxAnnotation\"},{\"attributes\":{\"data_source\":{\"id\":\"1211\",\"type\":\"ColumnDataSource\"},\"glyph\":{\"id\":\"1436\",\"type\":\"Line\"},\"hover_glyph\":null,\"muted_glyph\":null,\"nonselection_glyph\":{\"id\":\"1437\",\"type\":\"Line\"},\"selection_glyph\":null,\"view\":{\"id\":\"1439\",\"type\":\"CDSView\"}},\"id\":\"1438\",\"type\":\"GlyphRenderer\"},{\"attributes\":{\"line_color\":\"orange\",\"line_width\":4,\"x\":{\"field\":\"CalendarYearIssued\"},\"y\":{\"field\":\"TotalInBillions\"}},\"id\":\"1249\",\"type\":\"Line\"},{\"attributes\":{},\"id\":\"1268\",\"type\":\"Selection\"},{\"attributes\":{\"data_source\":{\"id\":\"1211\",\"type\":\"ColumnDataSource\"},\"glyph\":{\"id\":\"1499\",\"type\":\"Line\"},\"hover_glyph\":null,\"muted_glyph\":null,\"nonselection_glyph\":{\"id\":\"1500\",\"type\":\"Line\"},\"selection_glyph\":null,\"view\":{\"id\":\"1502\",\"type\":\"CDSView\"}},\"id\":\"1501\",\"type\":\"GlyphRenderer\"},{\"attributes\":{\"callback\":null},\"id\":\"1215\",\"type\":\"DataRange1d\"},{\"attributes\":{\"callback\":null,\"data\":{\"AverageInBillions\":{\"__ndarray__\":\"GH01oZgbGj9lF+imZyQWP14IjacSBRg/sXSRKmrIGz/6LxnvpYUfPzg4v5x+lRs/viBd7KagET+Ea6TDiEoFP7VY5EUuaxc/EoiaavPLGD85qVy5eE0XP16gXN5mtBM/aw19RGHcFD+OxOiNeMogP2TBj3EF9R4/q4qFbmfIIT/YSNxXZq4lPyqosjiiXCU/EKe4awRQKj+Qb/3RIEcqPwf8W7vGSDA/l7oOGsLSLz84biQzEz8oP+lEBDbCsiU/6Gmd3TAvJj+7Abu2YcsmP8OyjYGRBzI/jIR9+6H/Nj/aefP21aU2P82f23I1GTU/0hoMJh+dIj/3ygs+LX4oP3dC5nPYES4/YnI1rutXMz98JCHtomMxP1IA5CguMDI/CwJ5odDNMj/hBzLt0wpCP5Q2LxZRdEE/\",\"dtype\":\"float64\",\"shape\":[39]},\"CalendarYearIssued\":[1980,1981,1982,1983,1984,1985,1986,1987,1988,1989,1990,1991,1992,1993,1994,1995,1996,1997,1998,1999,2000,2001,2002,2003,2004,2005,2006,2007,2008,2009,2010,2011,2012,2013,2014,2015,2016,2017,2018],\"MaxInBillions\":{\"__ndarray__\":\"GQRWDi2yjT+amZmZmZmZPwrXo3A9Cqc/O99PjZdukj8bL90kBoGlP5Kwle6zbKA/gcp8ML6isD9BguLHmLt2P13hXS7iO5E/MzMzMzMzsz8VgaoEnaakP8eZy7LMx3I/uB6F61G4nj+gFk6VmZm5P/yp8dJNYqA/ObTIdr6fqj+gFk6VmZm5P4enV8oyxKE//Pb5GEGdoD9I3GPpQxeUPyLjUSrhCbE/UrgehetRuD9U46WbxCCwP7gehetRuJ4/qvHSTWIQqD+cxCCwcmixPwRZT62+usA/Y9+hauz5oz/sUbgehevBPwtFup9TkL4/gSaAatURoj9lTSJ+oou5P9AS7/bc5qo/zoEq3Xl8wz8FdnTdDYK5P+hVb50XWMU/aupWfgIwwT+jgcfTzDzAPzMzMzMzM8M/\",\"dtype\":\"float64\",\"shape\":[39]},\"TotalInBillions\":{\"__ndarray__\":\"Lx/Z9FFaxT8NudoJfWDgPxYHdH8louM/wT8Kdnpw6T/qkWQot1XxPxMTezjmVO8/Gv4fnFkf4j8rK6FJzyXQPzt6+SYYkdY/FpWBwT0o1j9sin5v/h/WP0tKw+4QZtY/7b15I1N72z8JeR6LVmbqPxz8Wh1UsOY/vgtCFvXr6j8rdHcAOGTyP0An/tTqVvA/mjUq0CSy9j8TBLjuIJ31P2ropppHCPw/uOgijSMB9T+XlVuXcMHxP0tXq9S+qfA/SvwDRSnS8j9GEfn+ayj4PwU8qEX2aQNAAD63URYGAkD8r++awrD7P2+89FzKdPk/NYY7QsaG5j978D3QyL/wP/ztXxdNyPk/9/gfwdaCA0AN6ppKuOgCQLup2edXQQRA5uuNtRo9B0ACBwO72X4XQOumx8jvkxdA\",\"dtype\":\"float64\",\"shape\":[39]},\"count\":[1675,6059,6696,7501,9010,9305,8422,6213,3947,3660,3889,4656,5396,6440,6004,6201,6949,6266,7066,6738,7051,5407,5999,6291,6950,8682,8821,6420,5008,4942,4957,5602,7024,8263,8908,9123,10124,10668,11066],\"index\":[0,1,2,3,4,5,6,7,8,9,10,11,12,13,14,15,16,17,18,19,20,21,22,23,24,25,26,27,28,29,30,31,32,33,34,35,36,37,38],\"max\":{\"__ndarray__\":\"AAAAABSoa0EAAAAAhNd3QQAAAAAqdYVBAAAAAIgqcUEAAAAA9AaEQQAAAJDel35BAAAA4Ib8jkEAAAAA7CtVQQAAAADjDHBBAAAAAKPhkUEAAADYijuDQQAAAMCcfVFBAAAAADicfEEAAAD8g9eXQQAAAACAhH5BAAAAAKjLiEEAAAD8g9eXQQAAAADXi4BBAAAAsE3yfkEAAAAACrZyQQAAAECivI9BAAAAAFemlkEAAAAAbgqOQQAAAAA4nHxBAAAAAE5phkEAAAAAZDaQQQAAAOA7KZ9BAAAAYLaagkEAAAAAdrCgQQAAANj4dpxBAAAAsCTUgEEAAABsgsqXQQAAACDkDYlBAAAAXuElokEAAAA8lsGXQQAAABzV4KNBAAAAEtQBoEEAAADApD6eQQAAAACj4aFB\",\"dtype\":\"float64\",\"shape\":[39]},\"mean\":{\"__ndarray__\":\"2PT6gpVQ+EDWui4KHZ/0QOgPXDfFXvZA75tDz/Pf+UB9R4YNclv9QK4SAYGHsPlATHSdFrxq8EA/ALKgNNTjQNW7EHpyz/VAwEG3a/0X90AEfORBx7P1QI0g6R33WfJAchXDzJ1t80BlGumnhkb/QJ/2Ik/A1PxAAYJLs8GPAEGGgrVtNjEEQd8j/d4P5QNBVGJ/qmeBCEF1gw5ZIHkIQQ/CPXHzVA5Bs+lIhEKjDUGwPm0AypQGQUrkUqlFNQRB4pvUniipBEFTgIBpnzoFQamecUGVyhBB/B10CElrFUGjAe7FpxcVQU+KD4ZEphNB8AXxid1VAUFR906gjs8GQSRVAmQtAQxB5lM04dUDEkHTYR/V6DEQQfxF1uRn8BBBtZZ67DaDEUFMxMlens0gQfHVsLpxQSBB\",\"dtype\":\"float64\",\"shape\":[39]},\"sum\":{\"__ndarray__\":\"AAAASOjio0EAAABFHoG+QQAAgLP2SMJBAACA1jexx0EAAIDQ8STQQQAAAGoLLs1BAACAPrvgwEEAAAAU0hOuQQAAAKBWBLVBAAAAsq+itEEAAABgAZu0QQAAAOdD3LRBAAAAIiiYuUEAAIBbMZbIQQAAAHJtIcVBAAAAr6ISyUEAAIDT3iDRQQAAgGdKb85BAADAOh4j1UEAAECrICHUQQAAAGluG9pBAABAz9mP00EAAABNRYnQQQAAAO6RCc9BAABAJkOH0UEAAIASsX/WQQAAQEejFOJBAABAHDTJ4EEAAAAh7MnZQQAAQO07tddBAACAK7r6xEEAAADxnjLPQQAAQGsCA9hBAADAY84r4kEAAMCORZzhQQAAgDM63eJBAACAAImk5UEAALAcxOH1QQAAAHFn9fVB\",\"dtype\":\"float64\",\"shape\":[39]}},\"selected\":{\"id\":\"1268\",\"type\":\"Selection\"},\"selection_policy\":{\"id\":\"1269\",\"type\":\"UnionRenderers\"}},\"id\":\"1211\",\"type\":\"ColumnDataSource\"},{\"attributes\":{\"line_alpha\":0.1,\"line_color\":\"#1f77b4\",\"line_width\":4,\"x\":{\"field\":\"CalendarYearIssued\"},\"y\":{\"field\":\"MaxInBillions\"}},\"id\":\"1368\",\"type\":\"Line\"},{\"attributes\":{\"align\":\"center\",\"plot\":null,\"text\":\"Austin Construction Permit Project Valuations\",\"text_font_size\":{\"value\":\"14pt\"}},\"id\":\"1212\",\"type\":\"Title\"},{\"attributes\":{},\"id\":\"1269\",\"type\":\"UnionRenderers\"},{\"attributes\":{},\"id\":\"1221\",\"type\":\"LinearScale\"},{\"attributes\":{\"callback\":null,\"renderers\":[{\"id\":\"1438\",\"type\":\"GlyphRenderer\"}],\"tooltips\":[[\"index\",\"$index\"],[\"(x,y)\",\"($x, $y)\"],[\"Calendar Year Issued\",\"@CalendarYearIssued\"],[\"Total In Billion $\",\"@TotalInBillions\"]]},\"id\":\"1592\",\"type\":\"HoverTool\"},{\"attributes\":{},\"id\":\"1237\",\"type\":\"ResetTool\"},{\"attributes\":{\"line_color\":\"green\",\"line_width\":4,\"x\":{\"field\":\"CalendarYearIssued\"},\"y\":{\"field\":\"MaxInBillions\"}},\"id\":\"1367\",\"type\":\"Line\"},{\"attributes\":{\"axis_label\":\"Year Permits Issued\",\"axis_label_text_font_size\":{\"value\":\"12pt\"},\"axis_label_text_font_style\":\"normal\",\"formatter\":{\"id\":\"1266\",\"type\":\"BasicTickFormatter\"},\"major_label_text_font_size\":{\"value\":\"12pt\"},\"plot\":{\"id\":\"1213\",\"subtype\":\"Figure\",\"type\":\"Plot\"},\"ticker\":{\"id\":\"1224\",\"type\":\"BasicTicker\"}},\"id\":\"1223\",\"type\":\"LinearAxis\"},{\"attributes\":{\"plot\":{\"id\":\"1213\",\"subtype\":\"Figure\",\"type\":\"Plot\"},\"ticker\":{\"id\":\"1224\",\"type\":\"BasicTicker\"}},\"id\":\"1227\",\"type\":\"Grid\"},{\"attributes\":{},\"id\":\"1233\",\"type\":\"PanTool\"},{\"attributes\":{\"line_color\":\"green\",\"line_width\":4,\"x\":{\"field\":\"CalendarYearIssued\"},\"y\":{\"field\":\"MaxInBillions\"}},\"id\":\"1499\",\"type\":\"Line\"},{\"attributes\":{},\"id\":\"1224\",\"type\":\"BasicTicker\"},{\"attributes\":{\"source\":{\"id\":\"1211\",\"type\":\"ColumnDataSource\"}},\"id\":\"1370\",\"type\":\"CDSView\"},{\"attributes\":{\"fill_alpha\":{\"value\":0.1},\"fill_color\":{\"value\":\"#1f77b4\"},\"line_alpha\":{\"value\":0.1},\"line_color\":{\"value\":\"#1f77b4\"},\"size\":{\"units\":\"screen\",\"value\":6},\"x\":{\"field\":\"CalendarYearIssued\"},\"y\":{\"field\":\"TotalInBillions\"}},\"id\":\"1678\",\"type\":\"Circle\"},{\"attributes\":{\"axis_label\":\"Billion Dollars ($B)\",\"axis_label_text_font_size\":{\"value\":\"12pt\"},\"axis_label_text_font_style\":\"normal\",\"formatter\":{\"id\":\"1264\",\"type\":\"BasicTickFormatter\"},\"major_label_text_font_size\":{\"value\":\"12pt\"},\"plot\":{\"id\":\"1213\",\"subtype\":\"Figure\",\"type\":\"Plot\"},\"ticker\":{\"id\":\"1229\",\"type\":\"BasicTicker\"}},\"id\":\"1228\",\"type\":\"LinearAxis\"},{\"attributes\":{\"source\":{\"id\":\"1211\",\"type\":\"ColumnDataSource\"}},\"id\":\"1439\",\"type\":\"CDSView\"},{\"attributes\":{\"data_source\":{\"id\":\"1211\",\"type\":\"ColumnDataSource\"},\"glyph\":{\"id\":\"1367\",\"type\":\"Line\"},\"hover_glyph\":null,\"muted_glyph\":null,\"nonselection_glyph\":{\"id\":\"1368\",\"type\":\"Line\"},\"selection_glyph\":null,\"view\":{\"id\":\"1370\",\"type\":\"CDSView\"}},\"id\":\"1369\",\"type\":\"GlyphRenderer\"},{\"attributes\":{\"line_alpha\":0.1,\"line_color\":\"#1f77b4\",\"line_width\":4,\"x\":{\"field\":\"CalendarYearIssued\"},\"y\":{\"field\":\"TotalInBillions\"}},\"id\":\"1437\",\"type\":\"Line\"},{\"attributes\":{\"label\":{\"value\":\"Total Valuation All Projects\"},\"renderers\":[{\"id\":\"1438\",\"type\":\"GlyphRenderer\"}]},\"id\":\"1465\",\"type\":\"LegendItem\"},{\"attributes\":{\"callback\":null,\"renderers\":[{\"id\":\"1501\",\"type\":\"GlyphRenderer\"}],\"tooltips\":[[\"index\",\"$index\"],[\"(x,y)\",\"($x, $y)\"],[\"Calendar Year Issued\",\"@CalendarYearIssued\"],[\"Average in $\",\"@mean{(0,0)}\"]]},\"id\":\"1610\",\"type\":\"HoverTool\"},{\"attributes\":{\"line_alpha\":0.1,\"line_color\":\"#1f77b4\",\"line_width\":4,\"x\":{\"field\":\"CalendarYearIssued\"},\"y\":{\"field\":\"MaxInBillions\"}},\"id\":\"1500\",\"type\":\"Line\"},{\"attributes\":{},\"id\":\"1264\",\"type\":\"BasicTickFormatter\"},{\"attributes\":{\"line_color\":\"orange\",\"line_width\":4,\"x\":{\"field\":\"CalendarYearIssued\"},\"y\":{\"field\":\"TotalInBillions\"}},\"id\":\"1436\",\"type\":\"Line\"},{\"attributes\":{\"data_source\":{\"id\":\"1211\",\"type\":\"ColumnDataSource\"},\"glyph\":{\"id\":\"1677\",\"type\":\"Circle\"},\"hover_glyph\":null,\"muted_glyph\":null,\"nonselection_glyph\":{\"id\":\"1678\",\"type\":\"Circle\"},\"selection_glyph\":null,\"view\":{\"id\":\"1680\",\"type\":\"CDSView\"}},\"id\":\"1679\",\"type\":\"GlyphRenderer\"},{\"attributes\":{\"source\":{\"id\":\"1211\",\"type\":\"ColumnDataSource\"}},\"id\":\"1502\",\"type\":\"CDSView\"},{\"attributes\":{\"overlay\":{\"id\":\"1241\",\"type\":\"BoxAnnotation\"}},\"id\":\"1235\",\"type\":\"BoxZoomTool\"},{\"attributes\":{\"renderers\":[{\"id\":\"1679\",\"type\":\"GlyphRenderer\"}]},\"id\":\"1697\",\"type\":\"PointDrawTool\"}],\"root_ids\":[\"1213\"]},\"title\":\"Bokeh Application\",\"version\":\"1.0.1\"}};\n",
       "  var render_items = [{\"docid\":\"37d60488-9ccd-486d-9b41-4c4fc15674fe\",\"roots\":{\"1213\":\"517d0b5d-72ed-41e6-8397-ec71d076f91a\"}}];\n",
       "  root.Bokeh.embed.embed_items_notebook(docs_json, render_items);\n",
       "\n",
       "  }\n",
       "  if (root.Bokeh !== undefined) {\n",
       "    embed_document(root);\n",
       "  } else {\n",
       "    var attempts = 0;\n",
       "    var timer = setInterval(function(root) {\n",
       "      if (root.Bokeh !== undefined) {\n",
       "        embed_document(root);\n",
       "        clearInterval(timer);\n",
       "      }\n",
       "      attempts++;\n",
       "      if (attempts > 100) {\n",
       "        console.log(\"Bokeh: ERROR: Unable to run BokehJS code because BokehJS library is missing\");\n",
       "        clearInterval(timer);\n",
       "      }\n",
       "    }, 10, root)\n",
       "  }\n",
       "})(window);"
      ],
      "application/vnd.bokehjs_exec.v0+json": ""
     },
     "metadata": {
      "application/vnd.bokehjs_exec.v0+json": {
       "id": "1213"
      }
     },
     "output_type": "display_data"
    }
   ],
   "source": [
    "from bokeh.models import PointDrawTool\n",
    "\n",
    "circles_renderer = p.circle(x='CalendarYearIssued'\n",
    "              , y='TotalInBillions'\n",
    "              , fill_color='white'\n",
    "              , line_color='orange'\n",
    "              , size=6\n",
    "              , source=source)\n",
    "\n",
    "p.add_tools(PointDrawTool(renderers=[circles_renderer]))\n",
    "\n",
    "show(p)"
   ]
  },
  {
   "cell_type": "code",
   "execution_count": 15,
   "metadata": {},
   "outputs": [
    {
     "data": {
      "text/html": [
       "\n",
       "\n",
       "\n",
       "\n",
       "\n",
       "\n",
       "  <div class=\"bk-root\" id=\"373553d4-30a4-4700-8f03-35c74fa73c37\"></div>\n"
      ]
     },
     "metadata": {},
     "output_type": "display_data"
    },
    {
     "data": {
      "application/javascript": [
       "(function(root) {\n",
       "  function embed_document(root) {\n",
       "    \n",
       "  var docs_json = {\"61aa934d-e72c-4206-9885-9f79d08bd863\":{\"roots\":{\"references\":[{\"attributes\":{\"below\":[{\"id\":\"1223\",\"type\":\"LinearAxis\"}],\"left\":[{\"id\":\"1228\",\"type\":\"LinearAxis\"}],\"plot_height\":500,\"plot_width\":800,\"renderers\":[{\"id\":\"1223\",\"type\":\"LinearAxis\"},{\"id\":\"1227\",\"type\":\"Grid\"},{\"id\":\"1228\",\"type\":\"LinearAxis\"},{\"id\":\"1232\",\"type\":\"Grid\"},{\"id\":\"1241\",\"type\":\"BoxAnnotation\"},{\"id\":\"1251\",\"type\":\"GlyphRenderer\"},{\"id\":\"1369\",\"type\":\"GlyphRenderer\"},{\"id\":\"1448\",\"type\":\"Legend\"},{\"id\":\"1438\",\"type\":\"GlyphRenderer\"},{\"id\":\"1501\",\"type\":\"GlyphRenderer\"},{\"id\":\"1679\",\"type\":\"GlyphRenderer\"}],\"title\":{\"id\":\"1212\",\"type\":\"Title\"},\"toolbar\":{\"id\":\"1239\",\"type\":\"Toolbar\"},\"toolbar_location\":\"above\",\"x_range\":{\"id\":\"1215\",\"type\":\"DataRange1d\"},\"x_scale\":{\"id\":\"1219\",\"type\":\"LinearScale\"},\"y_range\":{\"id\":\"1217\",\"type\":\"DataRange1d\"},\"y_scale\":{\"id\":\"1221\",\"type\":\"LinearScale\"}},\"id\":\"1213\",\"subtype\":\"Figure\",\"type\":\"Plot\"},{\"attributes\":{\"fill_color\":{\"value\":\"white\"},\"line_color\":{\"value\":\"orange\"},\"size\":{\"units\":\"screen\",\"value\":6},\"x\":{\"field\":\"CalendarYearIssued\"},\"y\":{\"field\":\"TotalInBillions\"}},\"id\":\"1677\",\"type\":\"Circle\"},{\"attributes\":{\"label\":{\"value\":\"Average Valuation per Project\"},\"renderers\":[{\"id\":\"1501\",\"type\":\"GlyphRenderer\"}]},\"id\":\"1511\",\"type\":\"LegendItem\"},{\"attributes\":{\"data_source\":{\"id\":\"1211\",\"type\":\"ColumnDataSource\"},\"glyph\":{\"id\":\"1249\",\"type\":\"Line\"},\"hover_glyph\":null,\"muted_glyph\":null,\"nonselection_glyph\":{\"id\":\"1250\",\"type\":\"Line\"},\"selection_glyph\":null,\"view\":{\"id\":\"1252\",\"type\":\"CDSView\"}},\"id\":\"1251\",\"type\":\"GlyphRenderer\"},{\"attributes\":{},\"id\":\"1229\",\"type\":\"BasicTicker\"},{\"attributes\":{},\"id\":\"1219\",\"type\":\"LinearScale\"},{\"attributes\":{\"line_alpha\":0.1,\"line_color\":\"#1f77b4\",\"line_width\":4,\"x\":{\"field\":\"CalendarYearIssued\"},\"y\":{\"field\":\"TotalInBillions\"}},\"id\":\"1250\",\"type\":\"Line\"},{\"attributes\":{\"source\":{\"id\":\"1211\",\"type\":\"ColumnDataSource\"}},\"id\":\"1252\",\"type\":\"CDSView\"},{\"attributes\":{},\"id\":\"1266\",\"type\":\"BasicTickFormatter\"},{\"attributes\":{\"active_drag\":\"auto\",\"active_inspect\":\"auto\",\"active_multi\":null,\"active_scroll\":\"auto\",\"active_tap\":\"auto\",\"tools\":[{\"id\":\"1610\",\"type\":\"HoverTool\"},{\"id\":\"1592\",\"type\":\"HoverTool\"},{\"id\":\"1763\",\"type\":\"WheelZoomTool\"},{\"id\":\"1764\",\"type\":\"ResetTool\"}]},\"id\":\"1239\",\"type\":\"Toolbar\"},{\"attributes\":{\"source\":{\"id\":\"1211\",\"type\":\"ColumnDataSource\"}},\"id\":\"1680\",\"type\":\"CDSView\"},{\"attributes\":{\"dimension\":1,\"plot\":{\"id\":\"1213\",\"subtype\":\"Figure\",\"type\":\"Plot\"},\"ticker\":{\"id\":\"1229\",\"type\":\"BasicTicker\"}},\"id\":\"1232\",\"type\":\"Grid\"},{\"attributes\":{\"items\":[{\"id\":\"1465\",\"type\":\"LegendItem\"},{\"id\":\"1511\",\"type\":\"LegendItem\"}],\"location\":\"top_left\",\"plot\":{\"id\":\"1213\",\"subtype\":\"Figure\",\"type\":\"Plot\"}},\"id\":\"1448\",\"type\":\"Legend\"},{\"attributes\":{},\"id\":\"1268\",\"type\":\"Selection\"},{\"attributes\":{\"callback\":null},\"id\":\"1217\",\"type\":\"DataRange1d\"},{\"attributes\":{\"bottom_units\":\"screen\",\"fill_alpha\":{\"value\":0.5},\"fill_color\":{\"value\":\"lightgrey\"},\"left_units\":\"screen\",\"level\":\"overlay\",\"line_alpha\":{\"value\":1.0},\"line_color\":{\"value\":\"black\"},\"line_dash\":[4,4],\"line_width\":{\"value\":2},\"plot\":null,\"render_mode\":\"css\",\"right_units\":\"screen\",\"top_units\":\"screen\"},\"id\":\"1241\",\"type\":\"BoxAnnotation\"},{\"attributes\":{\"data_source\":{\"id\":\"1211\",\"type\":\"ColumnDataSource\"},\"glyph\":{\"id\":\"1436\",\"type\":\"Line\"},\"hover_glyph\":null,\"muted_glyph\":null,\"nonselection_glyph\":{\"id\":\"1437\",\"type\":\"Line\"},\"selection_glyph\":null,\"view\":{\"id\":\"1439\",\"type\":\"CDSView\"}},\"id\":\"1438\",\"type\":\"GlyphRenderer\"},{\"attributes\":{\"line_color\":\"orange\",\"line_width\":4,\"x\":{\"field\":\"CalendarYearIssued\"},\"y\":{\"field\":\"TotalInBillions\"}},\"id\":\"1249\",\"type\":\"Line\"},{\"attributes\":{},\"id\":\"1764\",\"type\":\"ResetTool\"},{\"attributes\":{\"data_source\":{\"id\":\"1211\",\"type\":\"ColumnDataSource\"},\"glyph\":{\"id\":\"1499\",\"type\":\"Line\"},\"hover_glyph\":null,\"muted_glyph\":null,\"nonselection_glyph\":{\"id\":\"1500\",\"type\":\"Line\"},\"selection_glyph\":null,\"view\":{\"id\":\"1502\",\"type\":\"CDSView\"}},\"id\":\"1501\",\"type\":\"GlyphRenderer\"},{\"attributes\":{\"callback\":null},\"id\":\"1215\",\"type\":\"DataRange1d\"},{\"attributes\":{\"callback\":null,\"data\":{\"AverageInBillions\":{\"__ndarray__\":\"GH01oZgbGj9lF+imZyQWP14IjacSBRg/sXSRKmrIGz/6LxnvpYUfPzg4v5x+lRs/viBd7KagET+Ea6TDiEoFP7VY5EUuaxc/EoiaavPLGD85qVy5eE0XP16gXN5mtBM/aw19RGHcFD+OxOiNeMogP2TBj3EF9R4/q4qFbmfIIT/YSNxXZq4lPyqosjiiXCU/EKe4awRQKj+Qb/3RIEcqPwf8W7vGSDA/l7oOGsLSLz84biQzEz8oP+lEBDbCsiU/6Gmd3TAvJj+7Abu2YcsmP8OyjYGRBzI/jIR9+6H/Nj/aefP21aU2P82f23I1GTU/0hoMJh+dIj/3ygs+LX4oP3dC5nPYES4/YnI1rutXMz98JCHtomMxP1IA5CguMDI/CwJ5odDNMj/hBzLt0wpCP5Q2LxZRdEE/\",\"dtype\":\"float64\",\"shape\":[39]},\"CalendarYearIssued\":[1980,1981,1982,1983,1984,1985,1986,1987,1988,1989,1990,1991,1992,1993,1994,1995,1996,1997,1998,1999,2000,2001,2002,2003,2004,2005,2006,2007,2008,2009,2010,2011,2012,2013,2014,2015,2016,2017,2018],\"MaxInBillions\":{\"__ndarray__\":\"GQRWDi2yjT+amZmZmZmZPwrXo3A9Cqc/O99PjZdukj8bL90kBoGlP5Kwle6zbKA/gcp8ML6isD9BguLHmLt2P13hXS7iO5E/MzMzMzMzsz8VgaoEnaakP8eZy7LMx3I/uB6F61G4nj+gFk6VmZm5P/yp8dJNYqA/ObTIdr6fqj+gFk6VmZm5P4enV8oyxKE//Pb5GEGdoD9I3GPpQxeUPyLjUSrhCbE/UrgehetRuD9U46WbxCCwP7gehetRuJ4/qvHSTWIQqD+cxCCwcmixPwRZT62+usA/Y9+hauz5oz/sUbgehevBPwtFup9TkL4/gSaAatURoj9lTSJ+oou5P9AS7/bc5qo/zoEq3Xl8wz8FdnTdDYK5P+hVb50XWMU/aupWfgIwwT+jgcfTzDzAPzMzMzMzM8M/\",\"dtype\":\"float64\",\"shape\":[39]},\"TotalInBillions\":{\"__ndarray__\":\"Lx/Z9FFaxT8NudoJfWDgPxYHdH8louM/wT8Kdnpw6T/qkWQot1XxPxMTezjmVO8/Gv4fnFkf4j8rK6FJzyXQPzt6+SYYkdY/FpWBwT0o1j9sin5v/h/WP0tKw+4QZtY/7b15I1N72z8JeR6LVmbqPxz8Wh1UsOY/vgtCFvXr6j8rdHcAOGTyP0An/tTqVvA/mjUq0CSy9j8TBLjuIJ31P2ropppHCPw/uOgijSMB9T+XlVuXcMHxP0tXq9S+qfA/SvwDRSnS8j9GEfn+ayj4PwU8qEX2aQNAAD63URYGAkD8r++awrD7P2+89FzKdPk/NYY7QsaG5j978D3QyL/wP/ztXxdNyPk/9/gfwdaCA0AN6ppKuOgCQLup2edXQQRA5uuNtRo9B0ACBwO72X4XQOumx8jvkxdA\",\"dtype\":\"float64\",\"shape\":[39]},\"count\":[1675,6059,6696,7501,9010,9305,8422,6213,3947,3660,3889,4656,5396,6440,6004,6201,6949,6266,7066,6738,7051,5407,5999,6291,6950,8682,8821,6420,5008,4942,4957,5602,7024,8263,8908,9123,10124,10668,11066],\"index\":[0,1,2,3,4,5,6,7,8,9,10,11,12,13,14,15,16,17,18,19,20,21,22,23,24,25,26,27,28,29,30,31,32,33,34,35,36,37,38],\"max\":{\"__ndarray__\":\"AAAAABSoa0EAAAAAhNd3QQAAAAAqdYVBAAAAAIgqcUEAAAAA9AaEQQAAAJDel35BAAAA4Ib8jkEAAAAA7CtVQQAAAADjDHBBAAAAAKPhkUEAAADYijuDQQAAAMCcfVFBAAAAADicfEEAAAD8g9eXQQAAAACAhH5BAAAAAKjLiEEAAAD8g9eXQQAAAADXi4BBAAAAsE3yfkEAAAAACrZyQQAAAECivI9BAAAAAFemlkEAAAAAbgqOQQAAAAA4nHxBAAAAAE5phkEAAAAAZDaQQQAAAOA7KZ9BAAAAYLaagkEAAAAAdrCgQQAAANj4dpxBAAAAsCTUgEEAAABsgsqXQQAAACDkDYlBAAAAXuElokEAAAA8lsGXQQAAABzV4KNBAAAAEtQBoEEAAADApD6eQQAAAACj4aFB\",\"dtype\":\"float64\",\"shape\":[39]},\"mean\":{\"__ndarray__\":\"2PT6gpVQ+EDWui4KHZ/0QOgPXDfFXvZA75tDz/Pf+UB9R4YNclv9QK4SAYGHsPlATHSdFrxq8EA/ALKgNNTjQNW7EHpyz/VAwEG3a/0X90AEfORBx7P1QI0g6R33WfJAchXDzJ1t80BlGumnhkb/QJ/2Ik/A1PxAAYJLs8GPAEGGgrVtNjEEQd8j/d4P5QNBVGJ/qmeBCEF1gw5ZIHkIQQ/CPXHzVA5Bs+lIhEKjDUGwPm0AypQGQUrkUqlFNQRB4pvUniipBEFTgIBpnzoFQamecUGVyhBB/B10CElrFUGjAe7FpxcVQU+KD4ZEphNB8AXxid1VAUFR906gjs8GQSRVAmQtAQxB5lM04dUDEkHTYR/V6DEQQfxF1uRn8BBBtZZ67DaDEUFMxMlens0gQfHVsLpxQSBB\",\"dtype\":\"float64\",\"shape\":[39]},\"sum\":{\"__ndarray__\":\"AAAASOjio0EAAABFHoG+QQAAgLP2SMJBAACA1jexx0EAAIDQ8STQQQAAAGoLLs1BAACAPrvgwEEAAAAU0hOuQQAAAKBWBLVBAAAAsq+itEEAAABgAZu0QQAAAOdD3LRBAAAAIiiYuUEAAIBbMZbIQQAAAHJtIcVBAAAAr6ISyUEAAIDT3iDRQQAAgGdKb85BAADAOh4j1UEAAECrICHUQQAAAGluG9pBAABAz9mP00EAAABNRYnQQQAAAO6RCc9BAABAJkOH0UEAAIASsX/WQQAAQEejFOJBAABAHDTJ4EEAAAAh7MnZQQAAQO07tddBAACAK7r6xEEAAADxnjLPQQAAQGsCA9hBAADAY84r4kEAAMCORZzhQQAAgDM63eJBAACAAImk5UEAALAcxOH1QQAAAHFn9fVB\",\"dtype\":\"float64\",\"shape\":[39]}},\"selected\":{\"id\":\"1268\",\"type\":\"Selection\"},\"selection_policy\":{\"id\":\"1269\",\"type\":\"UnionRenderers\"}},\"id\":\"1211\",\"type\":\"ColumnDataSource\"},{\"attributes\":{\"line_alpha\":0.1,\"line_color\":\"#1f77b4\",\"line_width\":4,\"x\":{\"field\":\"CalendarYearIssued\"},\"y\":{\"field\":\"MaxInBillions\"}},\"id\":\"1368\",\"type\":\"Line\"},{\"attributes\":{\"align\":\"center\",\"plot\":null,\"text\":\"Austin Construction Permit Project Valuations\",\"text_font_size\":{\"value\":\"14pt\"}},\"id\":\"1212\",\"type\":\"Title\"},{\"attributes\":{},\"id\":\"1269\",\"type\":\"UnionRenderers\"},{\"attributes\":{},\"id\":\"1221\",\"type\":\"LinearScale\"},{\"attributes\":{\"callback\":null,\"renderers\":[{\"id\":\"1438\",\"type\":\"GlyphRenderer\"}],\"tooltips\":[[\"index\",\"$index\"],[\"(x,y)\",\"($x, $y)\"],[\"Calendar Year Issued\",\"@CalendarYearIssued\"],[\"Total In Billion $\",\"@TotalInBillions\"]]},\"id\":\"1592\",\"type\":\"HoverTool\"},{\"attributes\":{\"line_color\":\"green\",\"line_width\":4,\"x\":{\"field\":\"CalendarYearIssued\"},\"y\":{\"field\":\"MaxInBillions\"}},\"id\":\"1367\",\"type\":\"Line\"},{\"attributes\":{\"axis_label\":\"Year Permits Issued\",\"axis_label_text_font_size\":{\"value\":\"12pt\"},\"axis_label_text_font_style\":\"normal\",\"formatter\":{\"id\":\"1266\",\"type\":\"BasicTickFormatter\"},\"major_label_text_font_size\":{\"value\":\"12pt\"},\"plot\":{\"id\":\"1213\",\"subtype\":\"Figure\",\"type\":\"Plot\"},\"ticker\":{\"id\":\"1224\",\"type\":\"BasicTicker\"}},\"id\":\"1223\",\"type\":\"LinearAxis\"},{\"attributes\":{\"plot\":{\"id\":\"1213\",\"subtype\":\"Figure\",\"type\":\"Plot\"},\"ticker\":{\"id\":\"1224\",\"type\":\"BasicTicker\"}},\"id\":\"1227\",\"type\":\"Grid\"},{\"attributes\":{\"line_color\":\"green\",\"line_width\":4,\"x\":{\"field\":\"CalendarYearIssued\"},\"y\":{\"field\":\"MaxInBillions\"}},\"id\":\"1499\",\"type\":\"Line\"},{\"attributes\":{},\"id\":\"1224\",\"type\":\"BasicTicker\"},{\"attributes\":{\"source\":{\"id\":\"1211\",\"type\":\"ColumnDataSource\"}},\"id\":\"1370\",\"type\":\"CDSView\"},{\"attributes\":{\"fill_alpha\":{\"value\":0.1},\"fill_color\":{\"value\":\"#1f77b4\"},\"line_alpha\":{\"value\":0.1},\"line_color\":{\"value\":\"#1f77b4\"},\"size\":{\"units\":\"screen\",\"value\":6},\"x\":{\"field\":\"CalendarYearIssued\"},\"y\":{\"field\":\"TotalInBillions\"}},\"id\":\"1678\",\"type\":\"Circle\"},{\"attributes\":{\"axis_label\":\"Billion Dollars ($B)\",\"axis_label_text_font_size\":{\"value\":\"12pt\"},\"axis_label_text_font_style\":\"normal\",\"formatter\":{\"id\":\"1264\",\"type\":\"BasicTickFormatter\"},\"major_label_text_font_size\":{\"value\":\"12pt\"},\"plot\":{\"id\":\"1213\",\"subtype\":\"Figure\",\"type\":\"Plot\"},\"ticker\":{\"id\":\"1229\",\"type\":\"BasicTicker\"}},\"id\":\"1228\",\"type\":\"LinearAxis\"},{\"attributes\":{\"source\":{\"id\":\"1211\",\"type\":\"ColumnDataSource\"}},\"id\":\"1439\",\"type\":\"CDSView\"},{\"attributes\":{\"data_source\":{\"id\":\"1211\",\"type\":\"ColumnDataSource\"},\"glyph\":{\"id\":\"1367\",\"type\":\"Line\"},\"hover_glyph\":null,\"muted_glyph\":null,\"nonselection_glyph\":{\"id\":\"1368\",\"type\":\"Line\"},\"selection_glyph\":null,\"view\":{\"id\":\"1370\",\"type\":\"CDSView\"}},\"id\":\"1369\",\"type\":\"GlyphRenderer\"},{\"attributes\":{\"line_alpha\":0.1,\"line_color\":\"#1f77b4\",\"line_width\":4,\"x\":{\"field\":\"CalendarYearIssued\"},\"y\":{\"field\":\"TotalInBillions\"}},\"id\":\"1437\",\"type\":\"Line\"},{\"attributes\":{\"label\":{\"value\":\"Total Valuation All Projects\"},\"renderers\":[{\"id\":\"1438\",\"type\":\"GlyphRenderer\"}]},\"id\":\"1465\",\"type\":\"LegendItem\"},{\"attributes\":{\"callback\":null,\"renderers\":[{\"id\":\"1501\",\"type\":\"GlyphRenderer\"}],\"tooltips\":[[\"index\",\"$index\"],[\"(x,y)\",\"($x, $y)\"],[\"Calendar Year Issued\",\"@CalendarYearIssued\"],[\"Average in $\",\"@mean{(0,0)}\"]]},\"id\":\"1610\",\"type\":\"HoverTool\"},{\"attributes\":{\"line_alpha\":0.1,\"line_color\":\"#1f77b4\",\"line_width\":4,\"x\":{\"field\":\"CalendarYearIssued\"},\"y\":{\"field\":\"MaxInBillions\"}},\"id\":\"1500\",\"type\":\"Line\"},{\"attributes\":{},\"id\":\"1264\",\"type\":\"BasicTickFormatter\"},{\"attributes\":{\"line_color\":\"orange\",\"line_width\":4,\"x\":{\"field\":\"CalendarYearIssued\"},\"y\":{\"field\":\"TotalInBillions\"}},\"id\":\"1436\",\"type\":\"Line\"},{\"attributes\":{\"data_source\":{\"id\":\"1211\",\"type\":\"ColumnDataSource\"},\"glyph\":{\"id\":\"1677\",\"type\":\"Circle\"},\"hover_glyph\":null,\"muted_glyph\":null,\"nonselection_glyph\":{\"id\":\"1678\",\"type\":\"Circle\"},\"selection_glyph\":null,\"view\":{\"id\":\"1680\",\"type\":\"CDSView\"}},\"id\":\"1679\",\"type\":\"GlyphRenderer\"},{\"attributes\":{\"source\":{\"id\":\"1211\",\"type\":\"ColumnDataSource\"}},\"id\":\"1502\",\"type\":\"CDSView\"},{\"attributes\":{},\"id\":\"1763\",\"type\":\"WheelZoomTool\"}],\"root_ids\":[\"1213\"]},\"title\":\"Bokeh Application\",\"version\":\"1.0.1\"}};\n",
       "  var render_items = [{\"docid\":\"61aa934d-e72c-4206-9885-9f79d08bd863\",\"roots\":{\"1213\":\"373553d4-30a4-4700-8f03-35c74fa73c37\"}}];\n",
       "  root.Bokeh.embed.embed_items_notebook(docs_json, render_items);\n",
       "\n",
       "  }\n",
       "  if (root.Bokeh !== undefined) {\n",
       "    embed_document(root);\n",
       "  } else {\n",
       "    var attempts = 0;\n",
       "    var timer = setInterval(function(root) {\n",
       "      if (root.Bokeh !== undefined) {\n",
       "        embed_document(root);\n",
       "        clearInterval(timer);\n",
       "      }\n",
       "      attempts++;\n",
       "      if (attempts > 100) {\n",
       "        console.log(\"Bokeh: ERROR: Unable to run BokehJS code because BokehJS library is missing\");\n",
       "        clearInterval(timer);\n",
       "      }\n",
       "    }, 10, root)\n",
       "  }\n",
       "})(window);"
      ],
      "application/vnd.bokehjs_exec.v0+json": ""
     },
     "metadata": {
      "application/vnd.bokehjs_exec.v0+json": {
       "id": "1213"
      }
     },
     "output_type": "display_data"
    }
   ],
   "source": [
    "from bokeh.models import WheelZoomTool, ResetTool\n",
    "\n",
    "tools = [avg_hover, total_hover, WheelZoomTool(), ResetTool()]\n",
    "p.tools = tools\n",
    "\n",
    "p.toolbar_location='above'\n",
    "\n",
    "show(p)"
   ]
  },
  {
   "cell_type": "markdown",
   "metadata": {},
   "source": [
    "## Creating Widgets"
   ]
  },
  {
   "cell_type": "code",
   "execution_count": 16,
   "metadata": {},
   "outputs": [
    {
     "data": {
      "text/html": [
       "\n",
       "\n",
       "\n",
       "\n",
       "\n",
       "\n",
       "  <div class=\"bk-root\" id=\"bfe65004-4af6-4659-90ce-939243d5530f\"></div>\n"
      ]
     },
     "metadata": {},
     "output_type": "display_data"
    },
    {
     "data": {
      "application/javascript": [
       "(function(root) {\n",
       "  function embed_document(root) {\n",
       "    \n",
       "  var docs_json = {\"8852addb-8ce5-4b29-b1c5-76ddda0a4144\":{\"roots\":{\"references\":[{\"attributes\":{\"callback\":null,\"options\":[[\"0\",\"1980\"],[\"1\",\"1981\"],[\"2\",\"1982\"],[\"3\",\"1983\"],[\"4\",\"1984\"],[\"5\",\"1985\"],[\"6\",\"1986\"],[\"7\",\"1987\"],[\"8\",\"1988\"],[\"9\",\"1989\"],[\"10\",\"1990\"],[\"11\",\"1991\"],[\"12\",\"1992\"],[\"13\",\"1993\"],[\"14\",\"1994\"],[\"15\",\"1995\"],[\"16\",\"1996\"],[\"17\",\"1997\"],[\"18\",\"1998\"],[\"19\",\"1999\"],[\"20\",\"2000\"],[\"21\",\"2001\"],[\"22\",\"2002\"],[\"23\",\"2003\"],[\"24\",\"2004\"],[\"25\",\"2005\"],[\"26\",\"2006\"],[\"27\",\"2007\"],[\"28\",\"2008\"],[\"29\",\"2009\"],[\"30\",\"2010\"],[\"31\",\"2011\"],[\"32\",\"2012\"],[\"33\",\"2013\"],[\"34\",\"2014\"],[\"35\",\"2015\"],[\"36\",\"2016\"],[\"37\",\"2017\"],[\"38\",\"2018\"]],\"title\":\"Year\",\"value\":[\"0\",\"1\",\"2\",\"3\",\"4\",\"5\",\"6\",\"7\",\"8\",\"9\",\"10\",\"11\",\"12\",\"13\",\"14\",\"15\",\"16\",\"17\",\"18\",\"19\",\"20\",\"21\",\"22\",\"23\",\"24\",\"25\",\"26\",\"27\",\"28\",\"29\",\"30\",\"31\",\"32\",\"33\",\"34\",\"35\",\"36\",\"37\",\"38\"]},\"id\":\"1823\",\"type\":\"MultiSelect\"}],\"root_ids\":[\"1823\"]},\"title\":\"Bokeh Application\",\"version\":\"1.0.1\"}};\n",
       "  var render_items = [{\"docid\":\"8852addb-8ce5-4b29-b1c5-76ddda0a4144\",\"roots\":{\"1823\":\"bfe65004-4af6-4659-90ce-939243d5530f\"}}];\n",
       "  root.Bokeh.embed.embed_items_notebook(docs_json, render_items);\n",
       "\n",
       "  }\n",
       "  if (root.Bokeh !== undefined) {\n",
       "    embed_document(root);\n",
       "  } else {\n",
       "    var attempts = 0;\n",
       "    var timer = setInterval(function(root) {\n",
       "      if (root.Bokeh !== undefined) {\n",
       "        embed_document(root);\n",
       "        clearInterval(timer);\n",
       "      }\n",
       "      attempts++;\n",
       "      if (attempts > 100) {\n",
       "        console.log(\"Bokeh: ERROR: Unable to run BokehJS code because BokehJS library is missing\");\n",
       "        clearInterval(timer);\n",
       "      }\n",
       "    }, 10, root)\n",
       "  }\n",
       "})(window);"
      ],
      "application/vnd.bokehjs_exec.v0+json": ""
     },
     "metadata": {
      "application/vnd.bokehjs_exec.v0+json": {
       "id": "1823"
      }
     },
     "output_type": "display_data"
    }
   ],
   "source": [
    "from bokeh.models import Button, MultiSelect\n",
    "\n",
    "year_list = data['CalendarYearIssued'].astype(str).unique().tolist()\n",
    "\n",
    "year_selection = MultiSelect(title='Year'\n",
    "                             , value=[str(i) for i,j in enumerate(year_list)]\n",
    "                             , options = [(str(i),j) for i,j in enumerate(year_list)]\n",
    "                            )\n",
    "\n",
    "show(year_selection)"
   ]
  },
  {
   "cell_type": "code",
   "execution_count": 17,
   "metadata": {},
   "outputs": [
    {
     "name": "stderr",
     "output_type": "stream",
     "text": [
      "WARNING:bokeh.embed.util:\n",
      "You are generating standalone HTML/JS output, but trying to use real Python\n",
      "callbacks (i.e. with on_change or on_event). This combination cannot work.\n",
      "\n",
      "Only JavaScript callbacks may be used with standalone output. For more\n",
      "information on JavaScript callbacks with Bokeh, see:\n",
      "\n",
      "    http://bokeh.pydata.org/en/latest/docs/user_guide/interaction/callbacks.html\n",
      "\n",
      "Alternatively, to use real Python callbacks, a Bokeh server application may\n",
      "be used. For more information on building and running Bokeh applications, see:\n",
      "\n",
      "    http://bokeh.pydata.org/en/latest/docs/user_guide/server.html\n",
      "\n"
     ]
    },
    {
     "data": {
      "text/html": [
       "\n",
       "\n",
       "\n",
       "\n",
       "\n",
       "\n",
       "  <div class=\"bk-root\" id=\"2aec870f-f56c-4d02-a253-739f9da7cdd3\"></div>\n"
      ]
     },
     "metadata": {},
     "output_type": "display_data"
    },
    {
     "data": {
      "application/javascript": [
       "(function(root) {\n",
       "  function embed_document(root) {\n",
       "    \n",
       "  var docs_json = {\"140c1263-66cd-45fd-b6ae-6438b50900db\":{\"roots\":{\"references\":[{\"attributes\":{\"callback\":null,\"icon\":null,\"label\":\"Update Plot\"},\"id\":\"1839\",\"type\":\"Button\"}],\"root_ids\":[\"1839\"]},\"title\":\"Bokeh Application\",\"version\":\"1.0.1\"}};\n",
       "  var render_items = [{\"docid\":\"140c1263-66cd-45fd-b6ae-6438b50900db\",\"roots\":{\"1839\":\"2aec870f-f56c-4d02-a253-739f9da7cdd3\"}}];\n",
       "  root.Bokeh.embed.embed_items_notebook(docs_json, render_items);\n",
       "\n",
       "  }\n",
       "  if (root.Bokeh !== undefined) {\n",
       "    embed_document(root);\n",
       "  } else {\n",
       "    var attempts = 0;\n",
       "    var timer = setInterval(function(root) {\n",
       "      if (root.Bokeh !== undefined) {\n",
       "        embed_document(root);\n",
       "        clearInterval(timer);\n",
       "      }\n",
       "      attempts++;\n",
       "      if (attempts > 100) {\n",
       "        console.log(\"Bokeh: ERROR: Unable to run BokehJS code because BokehJS library is missing\");\n",
       "        clearInterval(timer);\n",
       "      }\n",
       "    }, 10, root)\n",
       "  }\n",
       "})(window);"
      ],
      "application/vnd.bokehjs_exec.v0+json": ""
     },
     "metadata": {
      "application/vnd.bokehjs_exec.v0+json": {
       "id": "1839"
      }
     },
     "output_type": "display_data"
    }
   ],
   "source": [
    "def update_run():\n",
    "    years_to_plot = [x[1] for x in year_selection.options if x[0] in year_selection.value]\n",
    "    new_data = df[df['CalendarYearIssued'].isin(years_to_plot)]\n",
    "    new_source = ColumnDataSource(new_data)\n",
    "    source.data.update(new_source.data)\n",
    "\n",
    "update_plot = Button(label='Update Plot')\n",
    "update_plot.on_click(update_run)\n",
    "show(update_plot)"
   ]
  },
  {
   "cell_type": "code",
   "execution_count": 18,
   "metadata": {},
   "outputs": [
    {
     "name": "stderr",
     "output_type": "stream",
     "text": [
      "WARNING:bokeh.embed.util:\n",
      "You are generating standalone HTML/JS output, but trying to use real Python\n",
      "callbacks (i.e. with on_change or on_event). This combination cannot work.\n",
      "\n",
      "Only JavaScript callbacks may be used with standalone output. For more\n",
      "information on JavaScript callbacks with Bokeh, see:\n",
      "\n",
      "    http://bokeh.pydata.org/en/latest/docs/user_guide/interaction/callbacks.html\n",
      "\n",
      "Alternatively, to use real Python callbacks, a Bokeh server application may\n",
      "be used. For more information on building and running Bokeh applications, see:\n",
      "\n",
      "    http://bokeh.pydata.org/en/latest/docs/user_guide/server.html\n",
      "\n"
     ]
    },
    {
     "data": {
      "text/html": [
       "\n",
       "\n",
       "\n",
       "\n",
       "\n",
       "\n",
       "  <div class=\"bk-root\" id=\"6975dcee-ce0c-4908-9efe-40b52d14b616\"></div>\n"
      ]
     },
     "metadata": {},
     "output_type": "display_data"
    },
    {
     "data": {
      "application/javascript": [
       "(function(root) {\n",
       "  function embed_document(root) {\n",
       "    \n",
       "  var docs_json = {\"8b06a988-7a3e-4691-aef8-ea37fa444a3b\":{\"roots\":{\"references\":[{\"attributes\":{\"callback\":null,\"icon\":null,\"label\":\"Select All\"},\"id\":\"1855\",\"type\":\"Button\"}],\"root_ids\":[\"1855\"]},\"title\":\"Bokeh Application\",\"version\":\"1.0.1\"}};\n",
       "  var render_items = [{\"docid\":\"8b06a988-7a3e-4691-aef8-ea37fa444a3b\",\"roots\":{\"1855\":\"6975dcee-ce0c-4908-9efe-40b52d14b616\"}}];\n",
       "  root.Bokeh.embed.embed_items_notebook(docs_json, render_items);\n",
       "\n",
       "  }\n",
       "  if (root.Bokeh !== undefined) {\n",
       "    embed_document(root);\n",
       "  } else {\n",
       "    var attempts = 0;\n",
       "    var timer = setInterval(function(root) {\n",
       "      if (root.Bokeh !== undefined) {\n",
       "        embed_document(root);\n",
       "        clearInterval(timer);\n",
       "      }\n",
       "      attempts++;\n",
       "      if (attempts > 100) {\n",
       "        console.log(\"Bokeh: ERROR: Unable to run BokehJS code because BokehJS library is missing\");\n",
       "        clearInterval(timer);\n",
       "      }\n",
       "    }, 10, root)\n",
       "  }\n",
       "})(window);"
      ],
      "application/vnd.bokehjs_exec.v0+json": ""
     },
     "metadata": {
      "application/vnd.bokehjs_exec.v0+json": {
       "id": "1855"
      }
     },
     "output_type": "display_data"
    }
   ],
   "source": [
    "def update_selectall():\n",
    "    year_selection.value = [x[0] for x in year_selection.options]\n",
    "\n",
    "select_all = Button(label='Select All')\n",
    "select_all.on_click(update_selectall)\n",
    "\n",
    "show(select_all)"
   ]
  },
  {
   "cell_type": "code",
   "execution_count": 19,
   "metadata": {},
   "outputs": [
    {
     "name": "stderr",
     "output_type": "stream",
     "text": [
      "WARNING:bokeh.embed.util:\n",
      "You are generating standalone HTML/JS output, but trying to use real Python\n",
      "callbacks (i.e. with on_change or on_event). This combination cannot work.\n",
      "\n",
      "Only JavaScript callbacks may be used with standalone output. For more\n",
      "information on JavaScript callbacks with Bokeh, see:\n",
      "\n",
      "    http://bokeh.pydata.org/en/latest/docs/user_guide/interaction/callbacks.html\n",
      "\n",
      "Alternatively, to use real Python callbacks, a Bokeh server application may\n",
      "be used. For more information on building and running Bokeh applications, see:\n",
      "\n",
      "    http://bokeh.pydata.org/en/latest/docs/user_guide/server.html\n",
      "\n"
     ]
    },
    {
     "data": {
      "text/html": [
       "\n",
       "\n",
       "\n",
       "\n",
       "\n",
       "\n",
       "  <div class=\"bk-root\" id=\"1b7b66de-81c1-4b07-be1c-7371dc094a21\"></div>\n"
      ]
     },
     "metadata": {},
     "output_type": "display_data"
    },
    {
     "data": {
      "application/javascript": [
       "(function(root) {\n",
       "  function embed_document(root) {\n",
       "    \n",
       "  var docs_json = {\"41579b06-d526-4fec-9e50-c1121c5e2f59\":{\"roots\":{\"references\":[{\"attributes\":{\"children\":[{\"id\":\"1871\",\"type\":\"Div\"},{\"id\":\"1823\",\"type\":\"MultiSelect\"},{\"id\":\"1855\",\"type\":\"Button\"},{\"id\":\"1839\",\"type\":\"Button\"}],\"width\":150},\"id\":\"1872\",\"type\":\"WidgetBox\"},{\"attributes\":{\"callback\":null,\"icon\":null,\"label\":\"Select All\"},\"id\":\"1855\",\"type\":\"Button\"},{\"attributes\":{\"callback\":null,\"options\":[[\"0\",\"1980\"],[\"1\",\"1981\"],[\"2\",\"1982\"],[\"3\",\"1983\"],[\"4\",\"1984\"],[\"5\",\"1985\"],[\"6\",\"1986\"],[\"7\",\"1987\"],[\"8\",\"1988\"],[\"9\",\"1989\"],[\"10\",\"1990\"],[\"11\",\"1991\"],[\"12\",\"1992\"],[\"13\",\"1993\"],[\"14\",\"1994\"],[\"15\",\"1995\"],[\"16\",\"1996\"],[\"17\",\"1997\"],[\"18\",\"1998\"],[\"19\",\"1999\"],[\"20\",\"2000\"],[\"21\",\"2001\"],[\"22\",\"2002\"],[\"23\",\"2003\"],[\"24\",\"2004\"],[\"25\",\"2005\"],[\"26\",\"2006\"],[\"27\",\"2007\"],[\"28\",\"2008\"],[\"29\",\"2009\"],[\"30\",\"2010\"],[\"31\",\"2011\"],[\"32\",\"2012\"],[\"33\",\"2013\"],[\"34\",\"2014\"],[\"35\",\"2015\"],[\"36\",\"2016\"],[\"37\",\"2017\"],[\"38\",\"2018\"]],\"title\":\"Year\",\"value\":[\"0\",\"1\",\"2\",\"3\",\"4\",\"5\",\"6\",\"7\",\"8\",\"9\",\"10\",\"11\",\"12\",\"13\",\"14\",\"15\",\"16\",\"17\",\"18\",\"19\",\"20\",\"21\",\"22\",\"23\",\"24\",\"25\",\"26\",\"27\",\"28\",\"29\",\"30\",\"31\",\"32\",\"33\",\"34\",\"35\",\"36\",\"37\",\"38\"]},\"id\":\"1823\",\"type\":\"MultiSelect\"},{\"attributes\":{\"callback\":null,\"icon\":null,\"label\":\"Update Plot\"},\"id\":\"1839\",\"type\":\"Button\"},{\"attributes\":{\"text\":\"<h1>Widgets Box</h1>\"},\"id\":\"1871\",\"type\":\"Div\"}],\"root_ids\":[\"1872\"]},\"title\":\"Bokeh Application\",\"version\":\"1.0.1\"}};\n",
       "  var render_items = [{\"docid\":\"41579b06-d526-4fec-9e50-c1121c5e2f59\",\"roots\":{\"1872\":\"1b7b66de-81c1-4b07-be1c-7371dc094a21\"}}];\n",
       "  root.Bokeh.embed.embed_items_notebook(docs_json, render_items);\n",
       "\n",
       "  }\n",
       "  if (root.Bokeh !== undefined) {\n",
       "    embed_document(root);\n",
       "  } else {\n",
       "    var attempts = 0;\n",
       "    var timer = setInterval(function(root) {\n",
       "      if (root.Bokeh !== undefined) {\n",
       "        embed_document(root);\n",
       "        clearInterval(timer);\n",
       "      }\n",
       "      attempts++;\n",
       "      if (attempts > 100) {\n",
       "        console.log(\"Bokeh: ERROR: Unable to run BokehJS code because BokehJS library is missing\");\n",
       "        clearInterval(timer);\n",
       "      }\n",
       "    }, 10, root)\n",
       "  }\n",
       "})(window);"
      ],
      "application/vnd.bokehjs_exec.v0+json": ""
     },
     "metadata": {
      "application/vnd.bokehjs_exec.v0+json": {
       "id": "1872"
      }
     },
     "output_type": "display_data"
    }
   ],
   "source": [
    "from bokeh.layouts import WidgetBox\n",
    "from bokeh.models import Div\n",
    "\n",
    "controls = WidgetBox(Div(text='<h1>Widgets Box</h1>'), year_selection, select_all, update_plot, width=150)\n",
    "\n",
    "show(controls)"
   ]
  },
  {
   "cell_type": "code",
   "execution_count": 20,
   "metadata": {},
   "outputs": [
    {
     "name": "stderr",
     "output_type": "stream",
     "text": [
      "WARNING:bokeh.embed.util:\n",
      "You are generating standalone HTML/JS output, but trying to use real Python\n",
      "callbacks (i.e. with on_change or on_event). This combination cannot work.\n",
      "\n",
      "Only JavaScript callbacks may be used with standalone output. For more\n",
      "information on JavaScript callbacks with Bokeh, see:\n",
      "\n",
      "    http://bokeh.pydata.org/en/latest/docs/user_guide/interaction/callbacks.html\n",
      "\n",
      "Alternatively, to use real Python callbacks, a Bokeh server application may\n",
      "be used. For more information on building and running Bokeh applications, see:\n",
      "\n",
      "    http://bokeh.pydata.org/en/latest/docs/user_guide/server.html\n",
      "\n"
     ]
    },
    {
     "data": {
      "text/html": [
       "\n",
       "\n",
       "\n",
       "\n",
       "\n",
       "\n",
       "  <div class=\"bk-root\" id=\"324568d2-bcef-490d-b826-c0f20f694528\"></div>\n"
      ]
     },
     "metadata": {},
     "output_type": "display_data"
    },
    {
     "data": {
      "application/javascript": [
       "(function(root) {\n",
       "  function embed_document(root) {\n",
       "    \n",
       "  var docs_json = {\"d3002ef4-3910-4467-aabf-f51d006c6b96\":{\"roots\":{\"references\":[{\"attributes\":{\"children\":[{\"id\":\"1899\",\"type\":\"ToolbarBox\"},{\"id\":\"1897\",\"type\":\"Column\"}]},\"id\":\"1900\",\"type\":\"Column\"},{\"attributes\":{\"fill_color\":{\"value\":\"white\"},\"line_color\":{\"value\":\"orange\"},\"size\":{\"units\":\"screen\",\"value\":6},\"x\":{\"field\":\"CalendarYearIssued\"},\"y\":{\"field\":\"TotalInBillions\"}},\"id\":\"1677\",\"type\":\"Circle\"},{\"attributes\":{\"callback\":null,\"icon\":null,\"label\":\"Update Plot\"},\"id\":\"1839\",\"type\":\"Button\"},{\"attributes\":{\"label\":{\"value\":\"Average Valuation per Project\"},\"renderers\":[{\"id\":\"1501\",\"type\":\"GlyphRenderer\"}]},\"id\":\"1511\",\"type\":\"LegendItem\"},{\"attributes\":{\"below\":[{\"id\":\"1223\",\"type\":\"LinearAxis\"}],\"left\":[{\"id\":\"1228\",\"type\":\"LinearAxis\"}],\"plot_height\":500,\"plot_width\":800,\"renderers\":[{\"id\":\"1223\",\"type\":\"LinearAxis\"},{\"id\":\"1227\",\"type\":\"Grid\"},{\"id\":\"1228\",\"type\":\"LinearAxis\"},{\"id\":\"1232\",\"type\":\"Grid\"},{\"id\":\"1241\",\"type\":\"BoxAnnotation\"},{\"id\":\"1251\",\"type\":\"GlyphRenderer\"},{\"id\":\"1369\",\"type\":\"GlyphRenderer\"},{\"id\":\"1448\",\"type\":\"Legend\"},{\"id\":\"1438\",\"type\":\"GlyphRenderer\"},{\"id\":\"1501\",\"type\":\"GlyphRenderer\"},{\"id\":\"1679\",\"type\":\"GlyphRenderer\"}],\"title\":{\"id\":\"1212\",\"type\":\"Title\"},\"toolbar\":{\"id\":\"1239\",\"type\":\"Toolbar\"},\"toolbar_location\":null,\"x_range\":{\"id\":\"1215\",\"type\":\"DataRange1d\"},\"x_scale\":{\"id\":\"1219\",\"type\":\"LinearScale\"},\"y_range\":{\"id\":\"1217\",\"type\":\"DataRange1d\"},\"y_scale\":{\"id\":\"1221\",\"type\":\"LinearScale\"}},\"id\":\"1213\",\"subtype\":\"Figure\",\"type\":\"Plot\"},{\"attributes\":{\"data_source\":{\"id\":\"1211\",\"type\":\"ColumnDataSource\"},\"glyph\":{\"id\":\"1249\",\"type\":\"Line\"},\"hover_glyph\":null,\"muted_glyph\":null,\"nonselection_glyph\":{\"id\":\"1250\",\"type\":\"Line\"},\"selection_glyph\":null,\"view\":{\"id\":\"1252\",\"type\":\"CDSView\"}},\"id\":\"1251\",\"type\":\"GlyphRenderer\"},{\"attributes\":{\"tools\":[{\"id\":\"1610\",\"type\":\"HoverTool\"},{\"id\":\"1592\",\"type\":\"HoverTool\"},{\"id\":\"1763\",\"type\":\"WheelZoomTool\"},{\"id\":\"1764\",\"type\":\"ResetTool\"}]},\"id\":\"1898\",\"type\":\"ProxyToolbar\"},{\"attributes\":{},\"id\":\"1229\",\"type\":\"BasicTicker\"},{\"attributes\":{},\"id\":\"1219\",\"type\":\"LinearScale\"},{\"attributes\":{\"line_alpha\":0.1,\"line_color\":\"#1f77b4\",\"line_width\":4,\"x\":{\"field\":\"CalendarYearIssued\"},\"y\":{\"field\":\"TotalInBillions\"}},\"id\":\"1250\",\"type\":\"Line\"},{\"attributes\":{\"source\":{\"id\":\"1211\",\"type\":\"ColumnDataSource\"}},\"id\":\"1252\",\"type\":\"CDSView\"},{\"attributes\":{},\"id\":\"1266\",\"type\":\"BasicTickFormatter\"},{\"attributes\":{\"active_drag\":\"auto\",\"active_inspect\":\"auto\",\"active_multi\":null,\"active_scroll\":\"auto\",\"active_tap\":\"auto\",\"tools\":[{\"id\":\"1610\",\"type\":\"HoverTool\"},{\"id\":\"1592\",\"type\":\"HoverTool\"},{\"id\":\"1763\",\"type\":\"WheelZoomTool\"},{\"id\":\"1764\",\"type\":\"ResetTool\"}]},\"id\":\"1239\",\"type\":\"Toolbar\"},{\"attributes\":{\"source\":{\"id\":\"1211\",\"type\":\"ColumnDataSource\"}},\"id\":\"1680\",\"type\":\"CDSView\"},{\"attributes\":{\"dimension\":1,\"plot\":{\"id\":\"1213\",\"subtype\":\"Figure\",\"type\":\"Plot\"},\"ticker\":{\"id\":\"1229\",\"type\":\"BasicTicker\"}},\"id\":\"1232\",\"type\":\"Grid\"},{\"attributes\":{\"items\":[{\"id\":\"1465\",\"type\":\"LegendItem\"},{\"id\":\"1511\",\"type\":\"LegendItem\"}],\"location\":\"top_left\",\"plot\":{\"id\":\"1213\",\"subtype\":\"Figure\",\"type\":\"Plot\"}},\"id\":\"1448\",\"type\":\"Legend\"},{\"attributes\":{},\"id\":\"1268\",\"type\":\"Selection\"},{\"attributes\":{\"callback\":null},\"id\":\"1217\",\"type\":\"DataRange1d\"},{\"attributes\":{\"bottom_units\":\"screen\",\"fill_alpha\":{\"value\":0.5},\"fill_color\":{\"value\":\"lightgrey\"},\"left_units\":\"screen\",\"level\":\"overlay\",\"line_alpha\":{\"value\":1.0},\"line_color\":{\"value\":\"black\"},\"line_dash\":[4,4],\"line_width\":{\"value\":2},\"plot\":null,\"render_mode\":\"css\",\"right_units\":\"screen\",\"top_units\":\"screen\"},\"id\":\"1241\",\"type\":\"BoxAnnotation\"},{\"attributes\":{\"data_source\":{\"id\":\"1211\",\"type\":\"ColumnDataSource\"},\"glyph\":{\"id\":\"1436\",\"type\":\"Line\"},\"hover_glyph\":null,\"muted_glyph\":null,\"nonselection_glyph\":{\"id\":\"1437\",\"type\":\"Line\"},\"selection_glyph\":null,\"view\":{\"id\":\"1439\",\"type\":\"CDSView\"}},\"id\":\"1438\",\"type\":\"GlyphRenderer\"},{\"attributes\":{\"line_color\":\"orange\",\"line_width\":4,\"x\":{\"field\":\"CalendarYearIssued\"},\"y\":{\"field\":\"TotalInBillions\"}},\"id\":\"1249\",\"type\":\"Line\"},{\"attributes\":{},\"id\":\"1764\",\"type\":\"ResetTool\"},{\"attributes\":{\"data_source\":{\"id\":\"1211\",\"type\":\"ColumnDataSource\"},\"glyph\":{\"id\":\"1499\",\"type\":\"Line\"},\"hover_glyph\":null,\"muted_glyph\":null,\"nonselection_glyph\":{\"id\":\"1500\",\"type\":\"Line\"},\"selection_glyph\":null,\"view\":{\"id\":\"1502\",\"type\":\"CDSView\"}},\"id\":\"1501\",\"type\":\"GlyphRenderer\"},{\"attributes\":{\"callback\":null},\"id\":\"1215\",\"type\":\"DataRange1d\"},{\"attributes\":{\"toolbar\":{\"id\":\"1898\",\"type\":\"ProxyToolbar\"},\"toolbar_location\":\"above\"},\"id\":\"1899\",\"type\":\"ToolbarBox\"},{\"attributes\":{\"callback\":null,\"data\":{\"AverageInBillions\":{\"__ndarray__\":\"GH01oZgbGj9lF+imZyQWP14IjacSBRg/sXSRKmrIGz/6LxnvpYUfPzg4v5x+lRs/viBd7KagET+Ea6TDiEoFP7VY5EUuaxc/EoiaavPLGD85qVy5eE0XP16gXN5mtBM/aw19RGHcFD+OxOiNeMogP2TBj3EF9R4/q4qFbmfIIT/YSNxXZq4lPyqosjiiXCU/EKe4awRQKj+Qb/3RIEcqPwf8W7vGSDA/l7oOGsLSLz84biQzEz8oP+lEBDbCsiU/6Gmd3TAvJj+7Abu2YcsmP8OyjYGRBzI/jIR9+6H/Nj/aefP21aU2P82f23I1GTU/0hoMJh+dIj/3ygs+LX4oP3dC5nPYES4/YnI1rutXMz98JCHtomMxP1IA5CguMDI/CwJ5odDNMj/hBzLt0wpCP5Q2LxZRdEE/\",\"dtype\":\"float64\",\"shape\":[39]},\"CalendarYearIssued\":[1980,1981,1982,1983,1984,1985,1986,1987,1988,1989,1990,1991,1992,1993,1994,1995,1996,1997,1998,1999,2000,2001,2002,2003,2004,2005,2006,2007,2008,2009,2010,2011,2012,2013,2014,2015,2016,2017,2018],\"MaxInBillions\":{\"__ndarray__\":\"GQRWDi2yjT+amZmZmZmZPwrXo3A9Cqc/O99PjZdukj8bL90kBoGlP5Kwle6zbKA/gcp8ML6isD9BguLHmLt2P13hXS7iO5E/MzMzMzMzsz8VgaoEnaakP8eZy7LMx3I/uB6F61G4nj+gFk6VmZm5P/yp8dJNYqA/ObTIdr6fqj+gFk6VmZm5P4enV8oyxKE//Pb5GEGdoD9I3GPpQxeUPyLjUSrhCbE/UrgehetRuD9U46WbxCCwP7gehetRuJ4/qvHSTWIQqD+cxCCwcmixPwRZT62+usA/Y9+hauz5oz/sUbgehevBPwtFup9TkL4/gSaAatURoj9lTSJ+oou5P9AS7/bc5qo/zoEq3Xl8wz8FdnTdDYK5P+hVb50XWMU/aupWfgIwwT+jgcfTzDzAPzMzMzMzM8M/\",\"dtype\":\"float64\",\"shape\":[39]},\"TotalInBillions\":{\"__ndarray__\":\"Lx/Z9FFaxT8NudoJfWDgPxYHdH8louM/wT8Kdnpw6T/qkWQot1XxPxMTezjmVO8/Gv4fnFkf4j8rK6FJzyXQPzt6+SYYkdY/FpWBwT0o1j9sin5v/h/WP0tKw+4QZtY/7b15I1N72z8JeR6LVmbqPxz8Wh1UsOY/vgtCFvXr6j8rdHcAOGTyP0An/tTqVvA/mjUq0CSy9j8TBLjuIJ31P2ropppHCPw/uOgijSMB9T+XlVuXcMHxP0tXq9S+qfA/SvwDRSnS8j9GEfn+ayj4PwU8qEX2aQNAAD63URYGAkD8r++awrD7P2+89FzKdPk/NYY7QsaG5j978D3QyL/wP/ztXxdNyPk/9/gfwdaCA0AN6ppKuOgCQLup2edXQQRA5uuNtRo9B0ACBwO72X4XQOumx8jvkxdA\",\"dtype\":\"float64\",\"shape\":[39]},\"count\":[1675,6059,6696,7501,9010,9305,8422,6213,3947,3660,3889,4656,5396,6440,6004,6201,6949,6266,7066,6738,7051,5407,5999,6291,6950,8682,8821,6420,5008,4942,4957,5602,7024,8263,8908,9123,10124,10668,11066],\"index\":[0,1,2,3,4,5,6,7,8,9,10,11,12,13,14,15,16,17,18,19,20,21,22,23,24,25,26,27,28,29,30,31,32,33,34,35,36,37,38],\"max\":{\"__ndarray__\":\"AAAAABSoa0EAAAAAhNd3QQAAAAAqdYVBAAAAAIgqcUEAAAAA9AaEQQAAAJDel35BAAAA4Ib8jkEAAAAA7CtVQQAAAADjDHBBAAAAAKPhkUEAAADYijuDQQAAAMCcfVFBAAAAADicfEEAAAD8g9eXQQAAAACAhH5BAAAAAKjLiEEAAAD8g9eXQQAAAADXi4BBAAAAsE3yfkEAAAAACrZyQQAAAECivI9BAAAAAFemlkEAAAAAbgqOQQAAAAA4nHxBAAAAAE5phkEAAAAAZDaQQQAAAOA7KZ9BAAAAYLaagkEAAAAAdrCgQQAAANj4dpxBAAAAsCTUgEEAAABsgsqXQQAAACDkDYlBAAAAXuElokEAAAA8lsGXQQAAABzV4KNBAAAAEtQBoEEAAADApD6eQQAAAACj4aFB\",\"dtype\":\"float64\",\"shape\":[39]},\"mean\":{\"__ndarray__\":\"2PT6gpVQ+EDWui4KHZ/0QOgPXDfFXvZA75tDz/Pf+UB9R4YNclv9QK4SAYGHsPlATHSdFrxq8EA/ALKgNNTjQNW7EHpyz/VAwEG3a/0X90AEfORBx7P1QI0g6R33WfJAchXDzJ1t80BlGumnhkb/QJ/2Ik/A1PxAAYJLs8GPAEGGgrVtNjEEQd8j/d4P5QNBVGJ/qmeBCEF1gw5ZIHkIQQ/CPXHzVA5Bs+lIhEKjDUGwPm0AypQGQUrkUqlFNQRB4pvUniipBEFTgIBpnzoFQamecUGVyhBB/B10CElrFUGjAe7FpxcVQU+KD4ZEphNB8AXxid1VAUFR906gjs8GQSRVAmQtAQxB5lM04dUDEkHTYR/V6DEQQfxF1uRn8BBBtZZ67DaDEUFMxMlens0gQfHVsLpxQSBB\",\"dtype\":\"float64\",\"shape\":[39]},\"sum\":{\"__ndarray__\":\"AAAASOjio0EAAABFHoG+QQAAgLP2SMJBAACA1jexx0EAAIDQ8STQQQAAAGoLLs1BAACAPrvgwEEAAAAU0hOuQQAAAKBWBLVBAAAAsq+itEEAAABgAZu0QQAAAOdD3LRBAAAAIiiYuUEAAIBbMZbIQQAAAHJtIcVBAAAAr6ISyUEAAIDT3iDRQQAAgGdKb85BAADAOh4j1UEAAECrICHUQQAAAGluG9pBAABAz9mP00EAAABNRYnQQQAAAO6RCc9BAABAJkOH0UEAAIASsX/WQQAAQEejFOJBAABAHDTJ4EEAAAAh7MnZQQAAQO07tddBAACAK7r6xEEAAADxnjLPQQAAQGsCA9hBAADAY84r4kEAAMCORZzhQQAAgDM63eJBAACAAImk5UEAALAcxOH1QQAAAHFn9fVB\",\"dtype\":\"float64\",\"shape\":[39]}},\"selected\":{\"id\":\"1268\",\"type\":\"Selection\"},\"selection_policy\":{\"id\":\"1269\",\"type\":\"UnionRenderers\"}},\"id\":\"1211\",\"type\":\"ColumnDataSource\"},{\"attributes\":{\"line_alpha\":0.1,\"line_color\":\"#1f77b4\",\"line_width\":4,\"x\":{\"field\":\"CalendarYearIssued\"},\"y\":{\"field\":\"MaxInBillions\"}},\"id\":\"1368\",\"type\":\"Line\"},{\"attributes\":{\"align\":\"center\",\"plot\":null,\"text\":\"Austin Construction Permit Project Valuations\",\"text_font_size\":{\"value\":\"14pt\"}},\"id\":\"1212\",\"type\":\"Title\"},{\"attributes\":{},\"id\":\"1269\",\"type\":\"UnionRenderers\"},{\"attributes\":{\"children\":[{\"id\":\"1872\",\"type\":\"WidgetBox\"},{\"id\":\"1213\",\"subtype\":\"Figure\",\"type\":\"Plot\"}]},\"id\":\"1896\",\"type\":\"Row\"},{\"attributes\":{},\"id\":\"1221\",\"type\":\"LinearScale\"},{\"attributes\":{\"callback\":null,\"renderers\":[{\"id\":\"1438\",\"type\":\"GlyphRenderer\"}],\"tooltips\":[[\"index\",\"$index\"],[\"(x,y)\",\"($x, $y)\"],[\"Calendar Year Issued\",\"@CalendarYearIssued\"],[\"Total In Billion $\",\"@TotalInBillions\"]]},\"id\":\"1592\",\"type\":\"HoverTool\"},{\"attributes\":{\"line_color\":\"green\",\"line_width\":4,\"x\":{\"field\":\"CalendarYearIssued\"},\"y\":{\"field\":\"MaxInBillions\"}},\"id\":\"1367\",\"type\":\"Line\"},{\"attributes\":{\"axis_label\":\"Year Permits Issued\",\"axis_label_text_font_size\":{\"value\":\"12pt\"},\"axis_label_text_font_style\":\"normal\",\"formatter\":{\"id\":\"1266\",\"type\":\"BasicTickFormatter\"},\"major_label_text_font_size\":{\"value\":\"12pt\"},\"plot\":{\"id\":\"1213\",\"subtype\":\"Figure\",\"type\":\"Plot\"},\"ticker\":{\"id\":\"1224\",\"type\":\"BasicTicker\"}},\"id\":\"1223\",\"type\":\"LinearAxis\"},{\"attributes\":{\"plot\":{\"id\":\"1213\",\"subtype\":\"Figure\",\"type\":\"Plot\"},\"ticker\":{\"id\":\"1224\",\"type\":\"BasicTicker\"}},\"id\":\"1227\",\"type\":\"Grid\"},{\"attributes\":{\"children\":[{\"id\":\"1896\",\"type\":\"Row\"}]},\"id\":\"1897\",\"type\":\"Column\"},{\"attributes\":{\"line_color\":\"green\",\"line_width\":4,\"x\":{\"field\":\"CalendarYearIssued\"},\"y\":{\"field\":\"MaxInBillions\"}},\"id\":\"1499\",\"type\":\"Line\"},{\"attributes\":{},\"id\":\"1224\",\"type\":\"BasicTicker\"},{\"attributes\":{\"source\":{\"id\":\"1211\",\"type\":\"ColumnDataSource\"}},\"id\":\"1370\",\"type\":\"CDSView\"},{\"attributes\":{\"fill_alpha\":{\"value\":0.1},\"fill_color\":{\"value\":\"#1f77b4\"},\"line_alpha\":{\"value\":0.1},\"line_color\":{\"value\":\"#1f77b4\"},\"size\":{\"units\":\"screen\",\"value\":6},\"x\":{\"field\":\"CalendarYearIssued\"},\"y\":{\"field\":\"TotalInBillions\"}},\"id\":\"1678\",\"type\":\"Circle\"},{\"attributes\":{\"axis_label\":\"Billion Dollars ($B)\",\"axis_label_text_font_size\":{\"value\":\"12pt\"},\"axis_label_text_font_style\":\"normal\",\"formatter\":{\"id\":\"1264\",\"type\":\"BasicTickFormatter\"},\"major_label_text_font_size\":{\"value\":\"12pt\"},\"plot\":{\"id\":\"1213\",\"subtype\":\"Figure\",\"type\":\"Plot\"},\"ticker\":{\"id\":\"1229\",\"type\":\"BasicTicker\"}},\"id\":\"1228\",\"type\":\"LinearAxis\"},{\"attributes\":{\"source\":{\"id\":\"1211\",\"type\":\"ColumnDataSource\"}},\"id\":\"1439\",\"type\":\"CDSView\"},{\"attributes\":{\"callback\":null,\"icon\":null,\"label\":\"Select All\"},\"id\":\"1855\",\"type\":\"Button\"},{\"attributes\":{\"data_source\":{\"id\":\"1211\",\"type\":\"ColumnDataSource\"},\"glyph\":{\"id\":\"1367\",\"type\":\"Line\"},\"hover_glyph\":null,\"muted_glyph\":null,\"nonselection_glyph\":{\"id\":\"1368\",\"type\":\"Line\"},\"selection_glyph\":null,\"view\":{\"id\":\"1370\",\"type\":\"CDSView\"}},\"id\":\"1369\",\"type\":\"GlyphRenderer\"},{\"attributes\":{\"line_alpha\":0.1,\"line_color\":\"#1f77b4\",\"line_width\":4,\"x\":{\"field\":\"CalendarYearIssued\"},\"y\":{\"field\":\"TotalInBillions\"}},\"id\":\"1437\",\"type\":\"Line\"},{\"attributes\":{\"callback\":null,\"options\":[[\"0\",\"1980\"],[\"1\",\"1981\"],[\"2\",\"1982\"],[\"3\",\"1983\"],[\"4\",\"1984\"],[\"5\",\"1985\"],[\"6\",\"1986\"],[\"7\",\"1987\"],[\"8\",\"1988\"],[\"9\",\"1989\"],[\"10\",\"1990\"],[\"11\",\"1991\"],[\"12\",\"1992\"],[\"13\",\"1993\"],[\"14\",\"1994\"],[\"15\",\"1995\"],[\"16\",\"1996\"],[\"17\",\"1997\"],[\"18\",\"1998\"],[\"19\",\"1999\"],[\"20\",\"2000\"],[\"21\",\"2001\"],[\"22\",\"2002\"],[\"23\",\"2003\"],[\"24\",\"2004\"],[\"25\",\"2005\"],[\"26\",\"2006\"],[\"27\",\"2007\"],[\"28\",\"2008\"],[\"29\",\"2009\"],[\"30\",\"2010\"],[\"31\",\"2011\"],[\"32\",\"2012\"],[\"33\",\"2013\"],[\"34\",\"2014\"],[\"35\",\"2015\"],[\"36\",\"2016\"],[\"37\",\"2017\"],[\"38\",\"2018\"]],\"title\":\"Year\",\"value\":[\"0\",\"1\",\"2\",\"3\",\"4\",\"5\",\"6\",\"7\",\"8\",\"9\",\"10\",\"11\",\"12\",\"13\",\"14\",\"15\",\"16\",\"17\",\"18\",\"19\",\"20\",\"21\",\"22\",\"23\",\"24\",\"25\",\"26\",\"27\",\"28\",\"29\",\"30\",\"31\",\"32\",\"33\",\"34\",\"35\",\"36\",\"37\",\"38\"]},\"id\":\"1823\",\"type\":\"MultiSelect\"},{\"attributes\":{\"label\":{\"value\":\"Total Valuation All Projects\"},\"renderers\":[{\"id\":\"1438\",\"type\":\"GlyphRenderer\"}]},\"id\":\"1465\",\"type\":\"LegendItem\"},{\"attributes\":{\"callback\":null,\"renderers\":[{\"id\":\"1501\",\"type\":\"GlyphRenderer\"}],\"tooltips\":[[\"index\",\"$index\"],[\"(x,y)\",\"($x, $y)\"],[\"Calendar Year Issued\",\"@CalendarYearIssued\"],[\"Average in $\",\"@mean{(0,0)}\"]]},\"id\":\"1610\",\"type\":\"HoverTool\"},{\"attributes\":{\"line_alpha\":0.1,\"line_color\":\"#1f77b4\",\"line_width\":4,\"x\":{\"field\":\"CalendarYearIssued\"},\"y\":{\"field\":\"MaxInBillions\"}},\"id\":\"1500\",\"type\":\"Line\"},{\"attributes\":{\"text\":\"<h1>Widgets Box</h1>\"},\"id\":\"1871\",\"type\":\"Div\"},{\"attributes\":{\"line_color\":\"orange\",\"line_width\":4,\"x\":{\"field\":\"CalendarYearIssued\"},\"y\":{\"field\":\"TotalInBillions\"}},\"id\":\"1436\",\"type\":\"Line\"},{\"attributes\":{\"data_source\":{\"id\":\"1211\",\"type\":\"ColumnDataSource\"},\"glyph\":{\"id\":\"1677\",\"type\":\"Circle\"},\"hover_glyph\":null,\"muted_glyph\":null,\"nonselection_glyph\":{\"id\":\"1678\",\"type\":\"Circle\"},\"selection_glyph\":null,\"view\":{\"id\":\"1680\",\"type\":\"CDSView\"}},\"id\":\"1679\",\"type\":\"GlyphRenderer\"},{\"attributes\":{\"source\":{\"id\":\"1211\",\"type\":\"ColumnDataSource\"}},\"id\":\"1502\",\"type\":\"CDSView\"},{\"attributes\":{},\"id\":\"1264\",\"type\":\"BasicTickFormatter\"},{\"attributes\":{},\"id\":\"1763\",\"type\":\"WheelZoomTool\"},{\"attributes\":{\"children\":[{\"id\":\"1871\",\"type\":\"Div\"},{\"id\":\"1823\",\"type\":\"MultiSelect\"},{\"id\":\"1855\",\"type\":\"Button\"},{\"id\":\"1839\",\"type\":\"Button\"}],\"width\":150},\"id\":\"1872\",\"type\":\"WidgetBox\"}],\"root_ids\":[\"1900\"]},\"title\":\"Bokeh Application\",\"version\":\"1.0.1\"}};\n",
       "  var render_items = [{\"docid\":\"d3002ef4-3910-4467-aabf-f51d006c6b96\",\"roots\":{\"1900\":\"324568d2-bcef-490d-b826-c0f20f694528\"}}];\n",
       "  root.Bokeh.embed.embed_items_notebook(docs_json, render_items);\n",
       "\n",
       "  }\n",
       "  if (root.Bokeh !== undefined) {\n",
       "    embed_document(root);\n",
       "  } else {\n",
       "    var attempts = 0;\n",
       "    var timer = setInterval(function(root) {\n",
       "      if (root.Bokeh !== undefined) {\n",
       "        embed_document(root);\n",
       "        clearInterval(timer);\n",
       "      }\n",
       "      attempts++;\n",
       "      if (attempts > 100) {\n",
       "        console.log(\"Bokeh: ERROR: Unable to run BokehJS code because BokehJS library is missing\");\n",
       "        clearInterval(timer);\n",
       "      }\n",
       "    }, 10, root)\n",
       "  }\n",
       "})(window);"
      ],
      "application/vnd.bokehjs_exec.v0+json": ""
     },
     "metadata": {
      "application/vnd.bokehjs_exec.v0+json": {
       "id": "1900"
      }
     },
     "output_type": "display_data"
    }
   ],
   "source": [
    "from bokeh.layouts import gridplot\n",
    "\n",
    "layout = gridplot(children=[[controls, p]])\n",
    "\n",
    "show(layout)"
   ]
  },
  {
   "cell_type": "markdown",
   "metadata": {},
   "source": [
    "## Creating Tabs"
   ]
  },
  {
   "cell_type": "code",
   "execution_count": 21,
   "metadata": {},
   "outputs": [
    {
     "data": {
      "text/html": [
       "\n",
       "\n",
       "\n",
       "\n",
       "\n",
       "\n",
       "  <div class=\"bk-root\" id=\"4e2e0f8e-d156-4ad9-8398-3fd99dae2d47\"></div>\n"
      ]
     },
     "metadata": {},
     "output_type": "display_data"
    },
    {
     "data": {
      "application/javascript": [
       "(function(root) {\n",
       "  function embed_document(root) {\n",
       "    \n",
       "  var docs_json = {\"19f49a49-326d-41db-80d3-6f021183b216\":{\"roots\":{\"references\":[{\"attributes\":{\"children\":[{\"id\":\"2018\",\"type\":\"ToolbarBox\"},{\"id\":\"2016\",\"type\":\"Column\"}]},\"id\":\"2019\",\"type\":\"Column\"},{\"attributes\":{\"fill_alpha\":{\"value\":0.1},\"fill_color\":{\"value\":\"#1f77b4\"},\"line_alpha\":{\"value\":0.1},\"line_color\":{\"value\":\"#1f77b4\"},\"top\":{\"field\":\"count\"},\"width\":{\"value\":0.9},\"x\":{\"field\":\"CalendarYearIssued\"}},\"id\":\"2003\",\"type\":\"VBar\"},{\"attributes\":{\"fill_color\":{\"value\":\"purple\"},\"line_color\":{\"value\":\"purple\"},\"top\":{\"field\":\"count\"},\"width\":{\"value\":0.9},\"x\":{\"field\":\"CalendarYearIssued\"}},\"id\":\"2002\",\"type\":\"VBar\"},{\"attributes\":{\"tools\":[{\"id\":\"1986\",\"type\":\"PanTool\"},{\"id\":\"1987\",\"type\":\"WheelZoomTool\"},{\"id\":\"1988\",\"type\":\"BoxZoomTool\"},{\"id\":\"1989\",\"type\":\"SaveTool\"},{\"id\":\"1990\",\"type\":\"ResetTool\"},{\"id\":\"1991\",\"type\":\"HelpTool\"}]},\"id\":\"2017\",\"type\":\"ProxyToolbar\"},{\"attributes\":{\"active_drag\":\"auto\",\"active_inspect\":\"auto\",\"active_multi\":null,\"active_scroll\":\"auto\",\"active_tap\":\"auto\",\"tools\":[{\"id\":\"1986\",\"type\":\"PanTool\"},{\"id\":\"1987\",\"type\":\"WheelZoomTool\"},{\"id\":\"1988\",\"type\":\"BoxZoomTool\"},{\"id\":\"1989\",\"type\":\"SaveTool\"},{\"id\":\"1990\",\"type\":\"ResetTool\"},{\"id\":\"1991\",\"type\":\"HelpTool\"}]},\"id\":\"1992\",\"type\":\"Toolbar\"},{\"attributes\":{},\"id\":\"1986\",\"type\":\"PanTool\"},{\"attributes\":{\"toolbar\":{\"id\":\"2017\",\"type\":\"ProxyToolbar\"},\"toolbar_location\":\"above\"},\"id\":\"2018\",\"type\":\"ToolbarBox\"},{\"attributes\":{},\"id\":\"1987\",\"type\":\"WheelZoomTool\"},{\"attributes\":{\"overlay\":{\"id\":\"1994\",\"type\":\"BoxAnnotation\"}},\"id\":\"1988\",\"type\":\"BoxZoomTool\"},{\"attributes\":{},\"id\":\"1268\",\"type\":\"Selection\"},{\"attributes\":{\"below\":[{\"id\":\"1976\",\"type\":\"LinearAxis\"}],\"left\":[{\"id\":\"1981\",\"type\":\"LinearAxis\"}],\"plot_height\":500,\"plot_width\":800,\"renderers\":[{\"id\":\"1976\",\"type\":\"LinearAxis\"},{\"id\":\"1980\",\"type\":\"Grid\"},{\"id\":\"1981\",\"type\":\"LinearAxis\"},{\"id\":\"1985\",\"type\":\"Grid\"},{\"id\":\"1994\",\"type\":\"BoxAnnotation\"},{\"id\":\"2004\",\"type\":\"GlyphRenderer\"}],\"title\":{\"id\":\"1965\",\"type\":\"Title\"},\"toolbar\":{\"id\":\"1992\",\"type\":\"Toolbar\"},\"toolbar_location\":null,\"x_range\":{\"id\":\"1968\",\"type\":\"DataRange1d\"},\"x_scale\":{\"id\":\"1972\",\"type\":\"LinearScale\"},\"y_range\":{\"id\":\"1970\",\"type\":\"DataRange1d\"},\"y_scale\":{\"id\":\"1974\",\"type\":\"LinearScale\"}},\"id\":\"1966\",\"subtype\":\"Figure\",\"type\":\"Plot\"},{\"attributes\":{},\"id\":\"1989\",\"type\":\"SaveTool\"},{\"attributes\":{},\"id\":\"1990\",\"type\":\"ResetTool\"},{\"attributes\":{\"align\":\"center\",\"plot\":null,\"text\":\"Count of Issued Construction Permits\",\"text_font_size\":{\"value\":\"14pt\"}},\"id\":\"1965\",\"type\":\"Title\"},{\"attributes\":{\"callback\":null,\"data\":{\"AverageInBillions\":{\"__ndarray__\":\"GH01oZgbGj9lF+imZyQWP14IjacSBRg/sXSRKmrIGz/6LxnvpYUfPzg4v5x+lRs/viBd7KagET+Ea6TDiEoFP7VY5EUuaxc/EoiaavPLGD85qVy5eE0XP16gXN5mtBM/aw19RGHcFD+OxOiNeMogP2TBj3EF9R4/q4qFbmfIIT/YSNxXZq4lPyqosjiiXCU/EKe4awRQKj+Qb/3RIEcqPwf8W7vGSDA/l7oOGsLSLz84biQzEz8oP+lEBDbCsiU/6Gmd3TAvJj+7Abu2YcsmP8OyjYGRBzI/jIR9+6H/Nj/aefP21aU2P82f23I1GTU/0hoMJh+dIj/3ygs+LX4oP3dC5nPYES4/YnI1rutXMz98JCHtomMxP1IA5CguMDI/CwJ5odDNMj/hBzLt0wpCP5Q2LxZRdEE/\",\"dtype\":\"float64\",\"shape\":[39]},\"CalendarYearIssued\":[1980,1981,1982,1983,1984,1985,1986,1987,1988,1989,1990,1991,1992,1993,1994,1995,1996,1997,1998,1999,2000,2001,2002,2003,2004,2005,2006,2007,2008,2009,2010,2011,2012,2013,2014,2015,2016,2017,2018],\"MaxInBillions\":{\"__ndarray__\":\"GQRWDi2yjT+amZmZmZmZPwrXo3A9Cqc/O99PjZdukj8bL90kBoGlP5Kwle6zbKA/gcp8ML6isD9BguLHmLt2P13hXS7iO5E/MzMzMzMzsz8VgaoEnaakP8eZy7LMx3I/uB6F61G4nj+gFk6VmZm5P/yp8dJNYqA/ObTIdr6fqj+gFk6VmZm5P4enV8oyxKE//Pb5GEGdoD9I3GPpQxeUPyLjUSrhCbE/UrgehetRuD9U46WbxCCwP7gehetRuJ4/qvHSTWIQqD+cxCCwcmixPwRZT62+usA/Y9+hauz5oz/sUbgehevBPwtFup9TkL4/gSaAatURoj9lTSJ+oou5P9AS7/bc5qo/zoEq3Xl8wz8FdnTdDYK5P+hVb50XWMU/aupWfgIwwT+jgcfTzDzAPzMzMzMzM8M/\",\"dtype\":\"float64\",\"shape\":[39]},\"TotalInBillions\":{\"__ndarray__\":\"Lx/Z9FFaxT8NudoJfWDgPxYHdH8louM/wT8Kdnpw6T/qkWQot1XxPxMTezjmVO8/Gv4fnFkf4j8rK6FJzyXQPzt6+SYYkdY/FpWBwT0o1j9sin5v/h/WP0tKw+4QZtY/7b15I1N72z8JeR6LVmbqPxz8Wh1UsOY/vgtCFvXr6j8rdHcAOGTyP0An/tTqVvA/mjUq0CSy9j8TBLjuIJ31P2ropppHCPw/uOgijSMB9T+XlVuXcMHxP0tXq9S+qfA/SvwDRSnS8j9GEfn+ayj4PwU8qEX2aQNAAD63URYGAkD8r++awrD7P2+89FzKdPk/NYY7QsaG5j978D3QyL/wP/ztXxdNyPk/9/gfwdaCA0AN6ppKuOgCQLup2edXQQRA5uuNtRo9B0ACBwO72X4XQOumx8jvkxdA\",\"dtype\":\"float64\",\"shape\":[39]},\"count\":[1675,6059,6696,7501,9010,9305,8422,6213,3947,3660,3889,4656,5396,6440,6004,6201,6949,6266,7066,6738,7051,5407,5999,6291,6950,8682,8821,6420,5008,4942,4957,5602,7024,8263,8908,9123,10124,10668,11066],\"index\":[0,1,2,3,4,5,6,7,8,9,10,11,12,13,14,15,16,17,18,19,20,21,22,23,24,25,26,27,28,29,30,31,32,33,34,35,36,37,38],\"max\":{\"__ndarray__\":\"AAAAABSoa0EAAAAAhNd3QQAAAAAqdYVBAAAAAIgqcUEAAAAA9AaEQQAAAJDel35BAAAA4Ib8jkEAAAAA7CtVQQAAAADjDHBBAAAAAKPhkUEAAADYijuDQQAAAMCcfVFBAAAAADicfEEAAAD8g9eXQQAAAACAhH5BAAAAAKjLiEEAAAD8g9eXQQAAAADXi4BBAAAAsE3yfkEAAAAACrZyQQAAAECivI9BAAAAAFemlkEAAAAAbgqOQQAAAAA4nHxBAAAAAE5phkEAAAAAZDaQQQAAAOA7KZ9BAAAAYLaagkEAAAAAdrCgQQAAANj4dpxBAAAAsCTUgEEAAABsgsqXQQAAACDkDYlBAAAAXuElokEAAAA8lsGXQQAAABzV4KNBAAAAEtQBoEEAAADApD6eQQAAAACj4aFB\",\"dtype\":\"float64\",\"shape\":[39]},\"mean\":{\"__ndarray__\":\"2PT6gpVQ+EDWui4KHZ/0QOgPXDfFXvZA75tDz/Pf+UB9R4YNclv9QK4SAYGHsPlATHSdFrxq8EA/ALKgNNTjQNW7EHpyz/VAwEG3a/0X90AEfORBx7P1QI0g6R33WfJAchXDzJ1t80BlGumnhkb/QJ/2Ik/A1PxAAYJLs8GPAEGGgrVtNjEEQd8j/d4P5QNBVGJ/qmeBCEF1gw5ZIHkIQQ/CPXHzVA5Bs+lIhEKjDUGwPm0AypQGQUrkUqlFNQRB4pvUniipBEFTgIBpnzoFQamecUGVyhBB/B10CElrFUGjAe7FpxcVQU+KD4ZEphNB8AXxid1VAUFR906gjs8GQSRVAmQtAQxB5lM04dUDEkHTYR/V6DEQQfxF1uRn8BBBtZZ67DaDEUFMxMlens0gQfHVsLpxQSBB\",\"dtype\":\"float64\",\"shape\":[39]},\"sum\":{\"__ndarray__\":\"AAAASOjio0EAAABFHoG+QQAAgLP2SMJBAACA1jexx0EAAIDQ8STQQQAAAGoLLs1BAACAPrvgwEEAAAAU0hOuQQAAAKBWBLVBAAAAsq+itEEAAABgAZu0QQAAAOdD3LRBAAAAIiiYuUEAAIBbMZbIQQAAAHJtIcVBAAAAr6ISyUEAAIDT3iDRQQAAgGdKb85BAADAOh4j1UEAAECrICHUQQAAAGluG9pBAABAz9mP00EAAABNRYnQQQAAAO6RCc9BAABAJkOH0UEAAIASsX/WQQAAQEejFOJBAABAHDTJ4EEAAAAh7MnZQQAAQO07tddBAACAK7r6xEEAAADxnjLPQQAAQGsCA9hBAADAY84r4kEAAMCORZzhQQAAgDM63eJBAACAAImk5UEAALAcxOH1QQAAAHFn9fVB\",\"dtype\":\"float64\",\"shape\":[39]}},\"selected\":{\"id\":\"1268\",\"type\":\"Selection\"},\"selection_policy\":{\"id\":\"1269\",\"type\":\"UnionRenderers\"}},\"id\":\"1211\",\"type\":\"ColumnDataSource\"},{\"attributes\":{},\"id\":\"1991\",\"type\":\"HelpTool\"},{\"attributes\":{\"callback\":null},\"id\":\"1968\",\"type\":\"DataRange1d\"},{\"attributes\":{\"data_source\":{\"id\":\"1211\",\"type\":\"ColumnDataSource\"},\"glyph\":{\"id\":\"2002\",\"type\":\"VBar\"},\"hover_glyph\":null,\"muted_glyph\":null,\"nonselection_glyph\":{\"id\":\"2003\",\"type\":\"VBar\"},\"selection_glyph\":null,\"view\":{\"id\":\"2005\",\"type\":\"CDSView\"}},\"id\":\"2004\",\"type\":\"GlyphRenderer\"},{\"attributes\":{},\"id\":\"1269\",\"type\":\"UnionRenderers\"},{\"attributes\":{\"callback\":null},\"id\":\"1970\",\"type\":\"DataRange1d\"},{\"attributes\":{\"bottom_units\":\"screen\",\"fill_alpha\":{\"value\":0.5},\"fill_color\":{\"value\":\"lightgrey\"},\"left_units\":\"screen\",\"level\":\"overlay\",\"line_alpha\":{\"value\":1.0},\"line_color\":{\"value\":\"black\"},\"line_dash\":[4,4],\"line_width\":{\"value\":2},\"plot\":null,\"render_mode\":\"css\",\"right_units\":\"screen\",\"top_units\":\"screen\"},\"id\":\"1994\",\"type\":\"BoxAnnotation\"},{\"attributes\":{},\"id\":\"1972\",\"type\":\"LinearScale\"},{\"attributes\":{},\"id\":\"1974\",\"type\":\"LinearScale\"},{\"attributes\":{\"axis_label\":\"Year Permits Issued\",\"axis_label_text_font_size\":{\"value\":\"12pt\"},\"axis_label_text_font_style\":\"normal\",\"formatter\":{\"id\":\"2010\",\"type\":\"BasicTickFormatter\"},\"major_label_text_font_size\":{\"value\":\"12pt\"},\"plot\":{\"id\":\"1966\",\"subtype\":\"Figure\",\"type\":\"Plot\"},\"ticker\":{\"id\":\"1977\",\"type\":\"BasicTicker\"}},\"id\":\"1976\",\"type\":\"LinearAxis\"},{\"attributes\":{\"source\":{\"id\":\"1211\",\"type\":\"ColumnDataSource\"}},\"id\":\"2005\",\"type\":\"CDSView\"},{\"attributes\":{},\"id\":\"1977\",\"type\":\"BasicTicker\"},{\"attributes\":{\"children\":[{\"id\":\"2015\",\"type\":\"Row\"}]},\"id\":\"2016\",\"type\":\"Column\"},{\"attributes\":{\"plot\":{\"id\":\"1966\",\"subtype\":\"Figure\",\"type\":\"Plot\"},\"ticker\":{\"id\":\"1977\",\"type\":\"BasicTicker\"}},\"id\":\"1980\",\"type\":\"Grid\"},{\"attributes\":{\"children\":[{\"id\":\"1966\",\"subtype\":\"Figure\",\"type\":\"Plot\"}]},\"id\":\"2015\",\"type\":\"Row\"},{\"attributes\":{\"axis_label\":\"Number of Permits Issued\",\"axis_label_text_font_size\":{\"value\":\"12pt\"},\"axis_label_text_font_style\":\"normal\",\"formatter\":{\"id\":\"2008\",\"type\":\"BasicTickFormatter\"},\"major_label_text_font_size\":{\"value\":\"12pt\"},\"plot\":{\"id\":\"1966\",\"subtype\":\"Figure\",\"type\":\"Plot\"},\"ticker\":{\"id\":\"1982\",\"type\":\"BasicTicker\"}},\"id\":\"1981\",\"type\":\"LinearAxis\"},{\"attributes\":{},\"id\":\"2008\",\"type\":\"BasicTickFormatter\"},{\"attributes\":{},\"id\":\"1982\",\"type\":\"BasicTicker\"},{\"attributes\":{},\"id\":\"2010\",\"type\":\"BasicTickFormatter\"},{\"attributes\":{\"dimension\":1,\"plot\":{\"id\":\"1966\",\"subtype\":\"Figure\",\"type\":\"Plot\"},\"ticker\":{\"id\":\"1982\",\"type\":\"BasicTicker\"}},\"id\":\"1985\",\"type\":\"Grid\"}],\"root_ids\":[\"2019\"]},\"title\":\"Bokeh Application\",\"version\":\"1.0.1\"}};\n",
       "  var render_items = [{\"docid\":\"19f49a49-326d-41db-80d3-6f021183b216\",\"roots\":{\"2019\":\"4e2e0f8e-d156-4ad9-8398-3fd99dae2d47\"}}];\n",
       "  root.Bokeh.embed.embed_items_notebook(docs_json, render_items);\n",
       "\n",
       "  }\n",
       "  if (root.Bokeh !== undefined) {\n",
       "    embed_document(root);\n",
       "  } else {\n",
       "    var attempts = 0;\n",
       "    var timer = setInterval(function(root) {\n",
       "      if (root.Bokeh !== undefined) {\n",
       "        embed_document(root);\n",
       "        clearInterval(timer);\n",
       "      }\n",
       "      attempts++;\n",
       "      if (attempts > 100) {\n",
       "        console.log(\"Bokeh: ERROR: Unable to run BokehJS code because BokehJS library is missing\");\n",
       "        clearInterval(timer);\n",
       "      }\n",
       "    }, 10, root)\n",
       "  }\n",
       "})(window);"
      ],
      "application/vnd.bokehjs_exec.v0+json": ""
     },
     "metadata": {
      "application/vnd.bokehjs_exec.v0+json": {
       "id": "2019"
      }
     },
     "output_type": "display_data"
    }
   ],
   "source": [
    "# Create figure\n",
    "p2 = figure(plot_height=400\n",
    "           , plot_width=700\n",
    "           , title='Count of Issued Construction Permits'\n",
    "        )\n",
    "\n",
    "# Creating glyphs\n",
    "renderer = p2.vbar(x='CalendarYearIssued'\n",
    "        , top='count'\n",
    "        , color='purple'\n",
    "        , width=0.9\n",
    "        , source=source\n",
    "      )\n",
    "\n",
    "# Add labels\n",
    "p2.xaxis.axis_label = 'Year Permits Issued'\n",
    "p2.yaxis.axis_label = 'Number of Permits Issued'\n",
    "\n",
    "# Style chart\n",
    "p2 = style(p2)\n",
    "\n",
    "# Create layout\n",
    "layout2 = gridplot(children=[[p2]])\n",
    "\n",
    "# Render chart visible\n",
    "show(layout2)"
   ]
  },
  {
   "cell_type": "code",
   "execution_count": 22,
   "metadata": {},
   "outputs": [
    {
     "name": "stderr",
     "output_type": "stream",
     "text": [
      "WARNING:bokeh.embed.util:\n",
      "You are generating standalone HTML/JS output, but trying to use real Python\n",
      "callbacks (i.e. with on_change or on_event). This combination cannot work.\n",
      "\n",
      "Only JavaScript callbacks may be used with standalone output. For more\n",
      "information on JavaScript callbacks with Bokeh, see:\n",
      "\n",
      "    http://bokeh.pydata.org/en/latest/docs/user_guide/interaction/callbacks.html\n",
      "\n",
      "Alternatively, to use real Python callbacks, a Bokeh server application may\n",
      "be used. For more information on building and running Bokeh applications, see:\n",
      "\n",
      "    http://bokeh.pydata.org/en/latest/docs/user_guide/server.html\n",
      "\n"
     ]
    },
    {
     "data": {
      "text/html": [
       "\n",
       "\n",
       "\n",
       "\n",
       "\n",
       "\n",
       "  <div class=\"bk-root\" id=\"3ce1447a-3b38-40fc-9ece-c60c4200d4d1\"></div>\n"
      ]
     },
     "metadata": {},
     "output_type": "display_data"
    },
    {
     "data": {
      "application/javascript": [
       "(function(root) {\n",
       "  function embed_document(root) {\n",
       "    \n",
       "  var docs_json = {\"e5ca5119-a60b-48f5-ab3b-f71e0ddc5f02\":{\"roots\":{\"references\":[{\"attributes\":{\"callback\":null,\"tabs\":[{\"id\":\"2098\",\"type\":\"Panel\"},{\"id\":\"2099\",\"type\":\"Panel\"}]},\"id\":\"2100\",\"type\":\"Tabs\"},{\"attributes\":{\"callback\":null,\"icon\":null,\"label\":\"Update Plot\"},\"id\":\"1839\",\"type\":\"Button\"},{\"attributes\":{\"below\":[{\"id\":\"1223\",\"type\":\"LinearAxis\"}],\"left\":[{\"id\":\"1228\",\"type\":\"LinearAxis\"}],\"plot_height\":500,\"plot_width\":800,\"renderers\":[{\"id\":\"1223\",\"type\":\"LinearAxis\"},{\"id\":\"1227\",\"type\":\"Grid\"},{\"id\":\"1228\",\"type\":\"LinearAxis\"},{\"id\":\"1232\",\"type\":\"Grid\"},{\"id\":\"1241\",\"type\":\"BoxAnnotation\"},{\"id\":\"1251\",\"type\":\"GlyphRenderer\"},{\"id\":\"1369\",\"type\":\"GlyphRenderer\"},{\"id\":\"1448\",\"type\":\"Legend\"},{\"id\":\"1438\",\"type\":\"GlyphRenderer\"},{\"id\":\"1501\",\"type\":\"GlyphRenderer\"},{\"id\":\"1679\",\"type\":\"GlyphRenderer\"}],\"title\":{\"id\":\"1212\",\"type\":\"Title\"},\"toolbar\":{\"id\":\"1239\",\"type\":\"Toolbar\"},\"toolbar_location\":null,\"x_range\":{\"id\":\"1215\",\"type\":\"DataRange1d\"},\"x_scale\":{\"id\":\"1219\",\"type\":\"LinearScale\"},\"y_range\":{\"id\":\"1217\",\"type\":\"DataRange1d\"},\"y_scale\":{\"id\":\"1221\",\"type\":\"LinearScale\"}},\"id\":\"1213\",\"subtype\":\"Figure\",\"type\":\"Plot\"},{\"attributes\":{\"tools\":[{\"id\":\"1986\",\"type\":\"PanTool\"},{\"id\":\"1987\",\"type\":\"WheelZoomTool\"},{\"id\":\"1988\",\"type\":\"BoxZoomTool\"},{\"id\":\"1989\",\"type\":\"SaveTool\"},{\"id\":\"1990\",\"type\":\"ResetTool\"},{\"id\":\"1991\",\"type\":\"HelpTool\"}]},\"id\":\"2017\",\"type\":\"ProxyToolbar\"},{\"attributes\":{\"toolbar\":{\"id\":\"2017\",\"type\":\"ProxyToolbar\"},\"toolbar_location\":\"above\"},\"id\":\"2018\",\"type\":\"ToolbarBox\"},{\"attributes\":{\"line_alpha\":0.1,\"line_color\":\"#1f77b4\",\"line_width\":4,\"x\":{\"field\":\"CalendarYearIssued\"},\"y\":{\"field\":\"TotalInBillions\"}},\"id\":\"1250\",\"type\":\"Line\"},{\"attributes\":{\"children\":[{\"id\":\"2018\",\"type\":\"ToolbarBox\"},{\"id\":\"2016\",\"type\":\"Column\"}]},\"id\":\"2019\",\"type\":\"Column\"},{\"attributes\":{\"dimension\":1,\"plot\":{\"id\":\"1213\",\"subtype\":\"Figure\",\"type\":\"Plot\"},\"ticker\":{\"id\":\"1229\",\"type\":\"BasicTicker\"}},\"id\":\"1232\",\"type\":\"Grid\"},{\"attributes\":{},\"id\":\"1764\",\"type\":\"ResetTool\"},{\"attributes\":{\"callback\":null,\"data\":{\"AverageInBillions\":{\"__ndarray__\":\"GH01oZgbGj9lF+imZyQWP14IjacSBRg/sXSRKmrIGz/6LxnvpYUfPzg4v5x+lRs/viBd7KagET+Ea6TDiEoFP7VY5EUuaxc/EoiaavPLGD85qVy5eE0XP16gXN5mtBM/aw19RGHcFD+OxOiNeMogP2TBj3EF9R4/q4qFbmfIIT/YSNxXZq4lPyqosjiiXCU/EKe4awRQKj+Qb/3RIEcqPwf8W7vGSDA/l7oOGsLSLz84biQzEz8oP+lEBDbCsiU/6Gmd3TAvJj+7Abu2YcsmP8OyjYGRBzI/jIR9+6H/Nj/aefP21aU2P82f23I1GTU/0hoMJh+dIj/3ygs+LX4oP3dC5nPYES4/YnI1rutXMz98JCHtomMxP1IA5CguMDI/CwJ5odDNMj/hBzLt0wpCP5Q2LxZRdEE/\",\"dtype\":\"float64\",\"shape\":[39]},\"CalendarYearIssued\":[1980,1981,1982,1983,1984,1985,1986,1987,1988,1989,1990,1991,1992,1993,1994,1995,1996,1997,1998,1999,2000,2001,2002,2003,2004,2005,2006,2007,2008,2009,2010,2011,2012,2013,2014,2015,2016,2017,2018],\"MaxInBillions\":{\"__ndarray__\":\"GQRWDi2yjT+amZmZmZmZPwrXo3A9Cqc/O99PjZdukj8bL90kBoGlP5Kwle6zbKA/gcp8ML6isD9BguLHmLt2P13hXS7iO5E/MzMzMzMzsz8VgaoEnaakP8eZy7LMx3I/uB6F61G4nj+gFk6VmZm5P/yp8dJNYqA/ObTIdr6fqj+gFk6VmZm5P4enV8oyxKE//Pb5GEGdoD9I3GPpQxeUPyLjUSrhCbE/UrgehetRuD9U46WbxCCwP7gehetRuJ4/qvHSTWIQqD+cxCCwcmixPwRZT62+usA/Y9+hauz5oz/sUbgehevBPwtFup9TkL4/gSaAatURoj9lTSJ+oou5P9AS7/bc5qo/zoEq3Xl8wz8FdnTdDYK5P+hVb50XWMU/aupWfgIwwT+jgcfTzDzAPzMzMzMzM8M/\",\"dtype\":\"float64\",\"shape\":[39]},\"TotalInBillions\":{\"__ndarray__\":\"Lx/Z9FFaxT8NudoJfWDgPxYHdH8louM/wT8Kdnpw6T/qkWQot1XxPxMTezjmVO8/Gv4fnFkf4j8rK6FJzyXQPzt6+SYYkdY/FpWBwT0o1j9sin5v/h/WP0tKw+4QZtY/7b15I1N72z8JeR6LVmbqPxz8Wh1UsOY/vgtCFvXr6j8rdHcAOGTyP0An/tTqVvA/mjUq0CSy9j8TBLjuIJ31P2ropppHCPw/uOgijSMB9T+XlVuXcMHxP0tXq9S+qfA/SvwDRSnS8j9GEfn+ayj4PwU8qEX2aQNAAD63URYGAkD8r++awrD7P2+89FzKdPk/NYY7QsaG5j978D3QyL/wP/ztXxdNyPk/9/gfwdaCA0AN6ppKuOgCQLup2edXQQRA5uuNtRo9B0ACBwO72X4XQOumx8jvkxdA\",\"dtype\":\"float64\",\"shape\":[39]},\"count\":[1675,6059,6696,7501,9010,9305,8422,6213,3947,3660,3889,4656,5396,6440,6004,6201,6949,6266,7066,6738,7051,5407,5999,6291,6950,8682,8821,6420,5008,4942,4957,5602,7024,8263,8908,9123,10124,10668,11066],\"index\":[0,1,2,3,4,5,6,7,8,9,10,11,12,13,14,15,16,17,18,19,20,21,22,23,24,25,26,27,28,29,30,31,32,33,34,35,36,37,38],\"max\":{\"__ndarray__\":\"AAAAABSoa0EAAAAAhNd3QQAAAAAqdYVBAAAAAIgqcUEAAAAA9AaEQQAAAJDel35BAAAA4Ib8jkEAAAAA7CtVQQAAAADjDHBBAAAAAKPhkUEAAADYijuDQQAAAMCcfVFBAAAAADicfEEAAAD8g9eXQQAAAACAhH5BAAAAAKjLiEEAAAD8g9eXQQAAAADXi4BBAAAAsE3yfkEAAAAACrZyQQAAAECivI9BAAAAAFemlkEAAAAAbgqOQQAAAAA4nHxBAAAAAE5phkEAAAAAZDaQQQAAAOA7KZ9BAAAAYLaagkEAAAAAdrCgQQAAANj4dpxBAAAAsCTUgEEAAABsgsqXQQAAACDkDYlBAAAAXuElokEAAAA8lsGXQQAAABzV4KNBAAAAEtQBoEEAAADApD6eQQAAAACj4aFB\",\"dtype\":\"float64\",\"shape\":[39]},\"mean\":{\"__ndarray__\":\"2PT6gpVQ+EDWui4KHZ/0QOgPXDfFXvZA75tDz/Pf+UB9R4YNclv9QK4SAYGHsPlATHSdFrxq8EA/ALKgNNTjQNW7EHpyz/VAwEG3a/0X90AEfORBx7P1QI0g6R33WfJAchXDzJ1t80BlGumnhkb/QJ/2Ik/A1PxAAYJLs8GPAEGGgrVtNjEEQd8j/d4P5QNBVGJ/qmeBCEF1gw5ZIHkIQQ/CPXHzVA5Bs+lIhEKjDUGwPm0AypQGQUrkUqlFNQRB4pvUniipBEFTgIBpnzoFQamecUGVyhBB/B10CElrFUGjAe7FpxcVQU+KD4ZEphNB8AXxid1VAUFR906gjs8GQSRVAmQtAQxB5lM04dUDEkHTYR/V6DEQQfxF1uRn8BBBtZZ67DaDEUFMxMlens0gQfHVsLpxQSBB\",\"dtype\":\"float64\",\"shape\":[39]},\"sum\":{\"__ndarray__\":\"AAAASOjio0EAAABFHoG+QQAAgLP2SMJBAACA1jexx0EAAIDQ8STQQQAAAGoLLs1BAACAPrvgwEEAAAAU0hOuQQAAAKBWBLVBAAAAsq+itEEAAABgAZu0QQAAAOdD3LRBAAAAIiiYuUEAAIBbMZbIQQAAAHJtIcVBAAAAr6ISyUEAAIDT3iDRQQAAgGdKb85BAADAOh4j1UEAAECrICHUQQAAAGluG9pBAABAz9mP00EAAABNRYnQQQAAAO6RCc9BAABAJkOH0UEAAIASsX/WQQAAQEejFOJBAABAHDTJ4EEAAAAh7MnZQQAAQO07tddBAACAK7r6xEEAAADxnjLPQQAAQGsCA9hBAADAY84r4kEAAMCORZzhQQAAgDM63eJBAACAAImk5UEAALAcxOH1QQAAAHFn9fVB\",\"dtype\":\"float64\",\"shape\":[39]}},\"selected\":{\"id\":\"1268\",\"type\":\"Selection\"},\"selection_policy\":{\"id\":\"1269\",\"type\":\"UnionRenderers\"}},\"id\":\"1211\",\"type\":\"ColumnDataSource\"},{\"attributes\":{\"plot\":{\"id\":\"1213\",\"subtype\":\"Figure\",\"type\":\"Plot\"},\"ticker\":{\"id\":\"1224\",\"type\":\"BasicTicker\"}},\"id\":\"1227\",\"type\":\"Grid\"},{\"attributes\":{\"tools\":[{\"id\":\"1610\",\"type\":\"HoverTool\"},{\"id\":\"1592\",\"type\":\"HoverTool\"},{\"id\":\"1763\",\"type\":\"WheelZoomTool\"},{\"id\":\"1764\",\"type\":\"ResetTool\"}]},\"id\":\"1898\",\"type\":\"ProxyToolbar\"},{\"attributes\":{},\"id\":\"1229\",\"type\":\"BasicTicker\"},{\"attributes\":{\"line_color\":\"orange\",\"line_width\":4,\"x\":{\"field\":\"CalendarYearIssued\"},\"y\":{\"field\":\"TotalInBillions\"}},\"id\":\"1249\",\"type\":\"Line\"},{\"attributes\":{\"axis_label\":\"Billion Dollars ($B)\",\"axis_label_text_font_size\":{\"value\":\"12pt\"},\"axis_label_text_font_style\":\"normal\",\"formatter\":{\"id\":\"1264\",\"type\":\"BasicTickFormatter\"},\"major_label_text_font_size\":{\"value\":\"12pt\"},\"plot\":{\"id\":\"1213\",\"subtype\":\"Figure\",\"type\":\"Plot\"},\"ticker\":{\"id\":\"1229\",\"type\":\"BasicTicker\"}},\"id\":\"1228\",\"type\":\"LinearAxis\"},{\"attributes\":{\"callback\":null,\"options\":[[\"0\",\"1980\"],[\"1\",\"1981\"],[\"2\",\"1982\"],[\"3\",\"1983\"],[\"4\",\"1984\"],[\"5\",\"1985\"],[\"6\",\"1986\"],[\"7\",\"1987\"],[\"8\",\"1988\"],[\"9\",\"1989\"],[\"10\",\"1990\"],[\"11\",\"1991\"],[\"12\",\"1992\"],[\"13\",\"1993\"],[\"14\",\"1994\"],[\"15\",\"1995\"],[\"16\",\"1996\"],[\"17\",\"1997\"],[\"18\",\"1998\"],[\"19\",\"1999\"],[\"20\",\"2000\"],[\"21\",\"2001\"],[\"22\",\"2002\"],[\"23\",\"2003\"],[\"24\",\"2004\"],[\"25\",\"2005\"],[\"26\",\"2006\"],[\"27\",\"2007\"],[\"28\",\"2008\"],[\"29\",\"2009\"],[\"30\",\"2010\"],[\"31\",\"2011\"],[\"32\",\"2012\"],[\"33\",\"2013\"],[\"34\",\"2014\"],[\"35\",\"2015\"],[\"36\",\"2016\"],[\"37\",\"2017\"],[\"38\",\"2018\"]],\"title\":\"Year\",\"value\":[\"0\",\"1\",\"2\",\"3\",\"4\",\"5\",\"6\",\"7\",\"8\",\"9\",\"10\",\"11\",\"12\",\"13\",\"14\",\"15\",\"16\",\"17\",\"18\",\"19\",\"20\",\"21\",\"22\",\"23\",\"24\",\"25\",\"26\",\"27\",\"28\",\"29\",\"30\",\"31\",\"32\",\"33\",\"34\",\"35\",\"36\",\"37\",\"38\"]},\"id\":\"1823\",\"type\":\"MultiSelect\"},{\"attributes\":{},\"id\":\"1219\",\"type\":\"LinearScale\"},{\"attributes\":{},\"id\":\"1266\",\"type\":\"BasicTickFormatter\"},{\"attributes\":{\"items\":[{\"id\":\"1465\",\"type\":\"LegendItem\"},{\"id\":\"1511\",\"type\":\"LegendItem\"}],\"location\":\"top_left\",\"plot\":{\"id\":\"1213\",\"subtype\":\"Figure\",\"type\":\"Plot\"}},\"id\":\"1448\",\"type\":\"Legend\"},{\"attributes\":{\"below\":[{\"id\":\"1976\",\"type\":\"LinearAxis\"}],\"left\":[{\"id\":\"1981\",\"type\":\"LinearAxis\"}],\"plot_height\":500,\"plot_width\":800,\"renderers\":[{\"id\":\"1976\",\"type\":\"LinearAxis\"},{\"id\":\"1980\",\"type\":\"Grid\"},{\"id\":\"1981\",\"type\":\"LinearAxis\"},{\"id\":\"1985\",\"type\":\"Grid\"},{\"id\":\"1994\",\"type\":\"BoxAnnotation\"},{\"id\":\"2004\",\"type\":\"GlyphRenderer\"}],\"title\":{\"id\":\"1965\",\"type\":\"Title\"},\"toolbar\":{\"id\":\"1992\",\"type\":\"Toolbar\"},\"toolbar_location\":null,\"x_range\":{\"id\":\"1968\",\"type\":\"DataRange1d\"},\"x_scale\":{\"id\":\"1972\",\"type\":\"LinearScale\"},\"y_range\":{\"id\":\"1970\",\"type\":\"DataRange1d\"},\"y_scale\":{\"id\":\"1974\",\"type\":\"LinearScale\"}},\"id\":\"1966\",\"subtype\":\"Figure\",\"type\":\"Plot\"},{\"attributes\":{\"callback\":null},\"id\":\"1217\",\"type\":\"DataRange1d\"},{\"attributes\":{\"bottom_units\":\"screen\",\"fill_alpha\":{\"value\":0.5},\"fill_color\":{\"value\":\"lightgrey\"},\"left_units\":\"screen\",\"level\":\"overlay\",\"line_alpha\":{\"value\":1.0},\"line_color\":{\"value\":\"black\"},\"line_dash\":[4,4],\"line_width\":{\"value\":2},\"plot\":null,\"render_mode\":\"css\",\"right_units\":\"screen\",\"top_units\":\"screen\"},\"id\":\"1241\",\"type\":\"BoxAnnotation\"},{\"attributes\":{\"data_source\":{\"id\":\"1211\",\"type\":\"ColumnDataSource\"},\"glyph\":{\"id\":\"1499\",\"type\":\"Line\"},\"hover_glyph\":null,\"muted_glyph\":null,\"nonselection_glyph\":{\"id\":\"1500\",\"type\":\"Line\"},\"selection_glyph\":null,\"view\":{\"id\":\"1502\",\"type\":\"CDSView\"}},\"id\":\"1501\",\"type\":\"GlyphRenderer\"},{\"attributes\":{\"callback\":null},\"id\":\"1215\",\"type\":\"DataRange1d\"},{\"attributes\":{\"align\":\"center\",\"plot\":null,\"text\":\"Count of Issued Construction Permits\",\"text_font_size\":{\"value\":\"14pt\"}},\"id\":\"1965\",\"type\":\"Title\"},{\"attributes\":{\"align\":\"center\",\"plot\":null,\"text\":\"Austin Construction Permit Project Valuations\",\"text_font_size\":{\"value\":\"14pt\"}},\"id\":\"1212\",\"type\":\"Title\"},{\"attributes\":{\"callback\":null},\"id\":\"1968\",\"type\":\"DataRange1d\"},{\"attributes\":{\"callback\":null},\"id\":\"1970\",\"type\":\"DataRange1d\"},{\"attributes\":{},\"id\":\"1221\",\"type\":\"LinearScale\"},{\"attributes\":{},\"id\":\"1972\",\"type\":\"LinearScale\"},{\"attributes\":{\"axis_label\":\"Year Permits Issued\",\"axis_label_text_font_size\":{\"value\":\"12pt\"},\"axis_label_text_font_style\":\"normal\",\"formatter\":{\"id\":\"1266\",\"type\":\"BasicTickFormatter\"},\"major_label_text_font_size\":{\"value\":\"12pt\"},\"plot\":{\"id\":\"1213\",\"subtype\":\"Figure\",\"type\":\"Plot\"},\"ticker\":{\"id\":\"1224\",\"type\":\"BasicTicker\"}},\"id\":\"1223\",\"type\":\"LinearAxis\"},{\"attributes\":{\"children\":[{\"id\":\"1896\",\"type\":\"Row\"}]},\"id\":\"1897\",\"type\":\"Column\"},{\"attributes\":{},\"id\":\"1974\",\"type\":\"LinearScale\"},{\"attributes\":{\"line_color\":\"green\",\"line_width\":4,\"x\":{\"field\":\"CalendarYearIssued\"},\"y\":{\"field\":\"MaxInBillions\"}},\"id\":\"1499\",\"type\":\"Line\"},{\"attributes\":{},\"id\":\"1224\",\"type\":\"BasicTicker\"},{\"attributes\":{\"source\":{\"id\":\"1211\",\"type\":\"ColumnDataSource\"}},\"id\":\"1370\",\"type\":\"CDSView\"},{\"attributes\":{\"axis_label\":\"Year Permits Issued\",\"axis_label_text_font_size\":{\"value\":\"12pt\"},\"axis_label_text_font_style\":\"normal\",\"formatter\":{\"id\":\"2010\",\"type\":\"BasicTickFormatter\"},\"major_label_text_font_size\":{\"value\":\"12pt\"},\"plot\":{\"id\":\"1966\",\"subtype\":\"Figure\",\"type\":\"Plot\"},\"ticker\":{\"id\":\"1977\",\"type\":\"BasicTicker\"}},\"id\":\"1976\",\"type\":\"LinearAxis\"},{\"attributes\":{\"children\":[{\"id\":\"1899\",\"type\":\"ToolbarBox\"},{\"id\":\"1897\",\"type\":\"Column\"}]},\"id\":\"1900\",\"type\":\"Column\"},{\"attributes\":{},\"id\":\"1977\",\"type\":\"BasicTicker\"},{\"attributes\":{\"plot\":{\"id\":\"1966\",\"subtype\":\"Figure\",\"type\":\"Plot\"},\"ticker\":{\"id\":\"1977\",\"type\":\"BasicTicker\"}},\"id\":\"1980\",\"type\":\"Grid\"},{\"attributes\":{\"axis_label\":\"Number of Permits Issued\",\"axis_label_text_font_size\":{\"value\":\"12pt\"},\"axis_label_text_font_style\":\"normal\",\"formatter\":{\"id\":\"2008\",\"type\":\"BasicTickFormatter\"},\"major_label_text_font_size\":{\"value\":\"12pt\"},\"plot\":{\"id\":\"1966\",\"subtype\":\"Figure\",\"type\":\"Plot\"},\"ticker\":{\"id\":\"1982\",\"type\":\"BasicTicker\"}},\"id\":\"1981\",\"type\":\"LinearAxis\"},{\"attributes\":{\"data_source\":{\"id\":\"1211\",\"type\":\"ColumnDataSource\"},\"glyph\":{\"id\":\"1677\",\"type\":\"Circle\"},\"hover_glyph\":null,\"muted_glyph\":null,\"nonselection_glyph\":{\"id\":\"1678\",\"type\":\"Circle\"},\"selection_glyph\":null,\"view\":{\"id\":\"1680\",\"type\":\"CDSView\"}},\"id\":\"1679\",\"type\":\"GlyphRenderer\"},{\"attributes\":{\"source\":{\"id\":\"1211\",\"type\":\"ColumnDataSource\"}},\"id\":\"1502\",\"type\":\"CDSView\"},{\"attributes\":{},\"id\":\"1982\",\"type\":\"BasicTicker\"},{\"attributes\":{},\"id\":\"1763\",\"type\":\"WheelZoomTool\"},{\"attributes\":{\"dimension\":1,\"plot\":{\"id\":\"1966\",\"subtype\":\"Figure\",\"type\":\"Plot\"},\"ticker\":{\"id\":\"1982\",\"type\":\"BasicTicker\"}},\"id\":\"1985\",\"type\":\"Grid\"},{\"attributes\":{\"fill_color\":{\"value\":\"white\"},\"line_color\":{\"value\":\"orange\"},\"size\":{\"units\":\"screen\",\"value\":6},\"x\":{\"field\":\"CalendarYearIssued\"},\"y\":{\"field\":\"TotalInBillions\"}},\"id\":\"1677\",\"type\":\"Circle\"},{\"attributes\":{\"fill_alpha\":{\"value\":0.1},\"fill_color\":{\"value\":\"#1f77b4\"},\"line_alpha\":{\"value\":0.1},\"line_color\":{\"value\":\"#1f77b4\"},\"top\":{\"field\":\"count\"},\"width\":{\"value\":0.9},\"x\":{\"field\":\"CalendarYearIssued\"}},\"id\":\"2003\",\"type\":\"VBar\"},{\"attributes\":{\"label\":{\"value\":\"Average Valuation per Project\"},\"renderers\":[{\"id\":\"1501\",\"type\":\"GlyphRenderer\"}]},\"id\":\"1511\",\"type\":\"LegendItem\"},{\"attributes\":{\"fill_color\":{\"value\":\"purple\"},\"line_color\":{\"value\":\"purple\"},\"top\":{\"field\":\"count\"},\"width\":{\"value\":0.9},\"x\":{\"field\":\"CalendarYearIssued\"}},\"id\":\"2002\",\"type\":\"VBar\"},{\"attributes\":{\"child\":{\"id\":\"1900\",\"type\":\"Column\"},\"title\":\"Valuation\"},\"id\":\"2098\",\"type\":\"Panel\"},{\"attributes\":{\"data_source\":{\"id\":\"1211\",\"type\":\"ColumnDataSource\"},\"glyph\":{\"id\":\"1249\",\"type\":\"Line\"},\"hover_glyph\":null,\"muted_glyph\":null,\"nonselection_glyph\":{\"id\":\"1250\",\"type\":\"Line\"},\"selection_glyph\":null,\"view\":{\"id\":\"1252\",\"type\":\"CDSView\"}},\"id\":\"1251\",\"type\":\"GlyphRenderer\"},{\"attributes\":{\"child\":{\"id\":\"2019\",\"type\":\"Column\"},\"title\":\"Count\"},\"id\":\"2099\",\"type\":\"Panel\"},{\"attributes\":{\"active_drag\":\"auto\",\"active_inspect\":\"auto\",\"active_multi\":null,\"active_scroll\":\"auto\",\"active_tap\":\"auto\",\"tools\":[{\"id\":\"1986\",\"type\":\"PanTool\"},{\"id\":\"1987\",\"type\":\"WheelZoomTool\"},{\"id\":\"1988\",\"type\":\"BoxZoomTool\"},{\"id\":\"1989\",\"type\":\"SaveTool\"},{\"id\":\"1990\",\"type\":\"ResetTool\"},{\"id\":\"1991\",\"type\":\"HelpTool\"}]},\"id\":\"1992\",\"type\":\"Toolbar\"},{\"attributes\":{},\"id\":\"1986\",\"type\":\"PanTool\"},{\"attributes\":{},\"id\":\"1987\",\"type\":\"WheelZoomTool\"},{\"attributes\":{\"source\":{\"id\":\"1211\",\"type\":\"ColumnDataSource\"}},\"id\":\"1252\",\"type\":\"CDSView\"},{\"attributes\":{\"active_drag\":\"auto\",\"active_inspect\":\"auto\",\"active_multi\":null,\"active_scroll\":\"auto\",\"active_tap\":\"auto\",\"tools\":[{\"id\":\"1610\",\"type\":\"HoverTool\"},{\"id\":\"1592\",\"type\":\"HoverTool\"},{\"id\":\"1763\",\"type\":\"WheelZoomTool\"},{\"id\":\"1764\",\"type\":\"ResetTool\"}]},\"id\":\"1239\",\"type\":\"Toolbar\"},{\"attributes\":{\"source\":{\"id\":\"1211\",\"type\":\"ColumnDataSource\"}},\"id\":\"1680\",\"type\":\"CDSView\"},{\"attributes\":{\"overlay\":{\"id\":\"1994\",\"type\":\"BoxAnnotation\"}},\"id\":\"1988\",\"type\":\"BoxZoomTool\"},{\"attributes\":{},\"id\":\"1268\",\"type\":\"Selection\"},{\"attributes\":{},\"id\":\"1989\",\"type\":\"SaveTool\"},{\"attributes\":{\"data_source\":{\"id\":\"1211\",\"type\":\"ColumnDataSource\"},\"glyph\":{\"id\":\"1436\",\"type\":\"Line\"},\"hover_glyph\":null,\"muted_glyph\":null,\"nonselection_glyph\":{\"id\":\"1437\",\"type\":\"Line\"},\"selection_glyph\":null,\"view\":{\"id\":\"1439\",\"type\":\"CDSView\"}},\"id\":\"1438\",\"type\":\"GlyphRenderer\"},{\"attributes\":{\"toolbar\":{\"id\":\"1898\",\"type\":\"ProxyToolbar\"},\"toolbar_location\":\"above\"},\"id\":\"1899\",\"type\":\"ToolbarBox\"},{\"attributes\":{},\"id\":\"1990\",\"type\":\"ResetTool\"},{\"attributes\":{},\"id\":\"1991\",\"type\":\"HelpTool\"},{\"attributes\":{\"line_alpha\":0.1,\"line_color\":\"#1f77b4\",\"line_width\":4,\"x\":{\"field\":\"CalendarYearIssued\"},\"y\":{\"field\":\"MaxInBillions\"}},\"id\":\"1368\",\"type\":\"Line\"},{\"attributes\":{\"data_source\":{\"id\":\"1211\",\"type\":\"ColumnDataSource\"},\"glyph\":{\"id\":\"2002\",\"type\":\"VBar\"},\"hover_glyph\":null,\"muted_glyph\":null,\"nonselection_glyph\":{\"id\":\"2003\",\"type\":\"VBar\"},\"selection_glyph\":null,\"view\":{\"id\":\"2005\",\"type\":\"CDSView\"}},\"id\":\"2004\",\"type\":\"GlyphRenderer\"},{\"attributes\":{},\"id\":\"1269\",\"type\":\"UnionRenderers\"},{\"attributes\":{\"children\":[{\"id\":\"1872\",\"type\":\"WidgetBox\"},{\"id\":\"1213\",\"subtype\":\"Figure\",\"type\":\"Plot\"}]},\"id\":\"1896\",\"type\":\"Row\"},{\"attributes\":{\"bottom_units\":\"screen\",\"fill_alpha\":{\"value\":0.5},\"fill_color\":{\"value\":\"lightgrey\"},\"left_units\":\"screen\",\"level\":\"overlay\",\"line_alpha\":{\"value\":1.0},\"line_color\":{\"value\":\"black\"},\"line_dash\":[4,4],\"line_width\":{\"value\":2},\"plot\":null,\"render_mode\":\"css\",\"right_units\":\"screen\",\"top_units\":\"screen\"},\"id\":\"1994\",\"type\":\"BoxAnnotation\"},{\"attributes\":{\"callback\":null,\"renderers\":[{\"id\":\"1438\",\"type\":\"GlyphRenderer\"}],\"tooltips\":[[\"index\",\"$index\"],[\"(x,y)\",\"($x, $y)\"],[\"Calendar Year Issued\",\"@CalendarYearIssued\"],[\"Total In Billion $\",\"@TotalInBillions\"]]},\"id\":\"1592\",\"type\":\"HoverTool\"},{\"attributes\":{\"line_color\":\"green\",\"line_width\":4,\"x\":{\"field\":\"CalendarYearIssued\"},\"y\":{\"field\":\"MaxInBillions\"}},\"id\":\"1367\",\"type\":\"Line\"},{\"attributes\":{\"fill_alpha\":{\"value\":0.1},\"fill_color\":{\"value\":\"#1f77b4\"},\"line_alpha\":{\"value\":0.1},\"line_color\":{\"value\":\"#1f77b4\"},\"size\":{\"units\":\"screen\",\"value\":6},\"x\":{\"field\":\"CalendarYearIssued\"},\"y\":{\"field\":\"TotalInBillions\"}},\"id\":\"1678\",\"type\":\"Circle\"},{\"attributes\":{\"source\":{\"id\":\"1211\",\"type\":\"ColumnDataSource\"}},\"id\":\"1439\",\"type\":\"CDSView\"},{\"attributes\":{\"source\":{\"id\":\"1211\",\"type\":\"ColumnDataSource\"}},\"id\":\"2005\",\"type\":\"CDSView\"},{\"attributes\":{\"callback\":null,\"icon\":null,\"label\":\"Select All\"},\"id\":\"1855\",\"type\":\"Button\"},{\"attributes\":{\"data_source\":{\"id\":\"1211\",\"type\":\"ColumnDataSource\"},\"glyph\":{\"id\":\"1367\",\"type\":\"Line\"},\"hover_glyph\":null,\"muted_glyph\":null,\"nonselection_glyph\":{\"id\":\"1368\",\"type\":\"Line\"},\"selection_glyph\":null,\"view\":{\"id\":\"1370\",\"type\":\"CDSView\"}},\"id\":\"1369\",\"type\":\"GlyphRenderer\"},{\"attributes\":{\"line_alpha\":0.1,\"line_color\":\"#1f77b4\",\"line_width\":4,\"x\":{\"field\":\"CalendarYearIssued\"},\"y\":{\"field\":\"TotalInBillions\"}},\"id\":\"1437\",\"type\":\"Line\"},{\"attributes\":{\"children\":[{\"id\":\"2015\",\"type\":\"Row\"}]},\"id\":\"2016\",\"type\":\"Column\"},{\"attributes\":{\"label\":{\"value\":\"Total Valuation All Projects\"},\"renderers\":[{\"id\":\"1438\",\"type\":\"GlyphRenderer\"}]},\"id\":\"1465\",\"type\":\"LegendItem\"},{\"attributes\":{\"children\":[{\"id\":\"1966\",\"subtype\":\"Figure\",\"type\":\"Plot\"}]},\"id\":\"2015\",\"type\":\"Row\"},{\"attributes\":{\"callback\":null,\"renderers\":[{\"id\":\"1501\",\"type\":\"GlyphRenderer\"}],\"tooltips\":[[\"index\",\"$index\"],[\"(x,y)\",\"($x, $y)\"],[\"Calendar Year Issued\",\"@CalendarYearIssued\"],[\"Average in $\",\"@mean{(0,0)}\"]]},\"id\":\"1610\",\"type\":\"HoverTool\"},{\"attributes\":{\"line_alpha\":0.1,\"line_color\":\"#1f77b4\",\"line_width\":4,\"x\":{\"field\":\"CalendarYearIssued\"},\"y\":{\"field\":\"MaxInBillions\"}},\"id\":\"1500\",\"type\":\"Line\"},{\"attributes\":{},\"id\":\"2008\",\"type\":\"BasicTickFormatter\"},{\"attributes\":{\"text\":\"<h1>Widgets Box</h1>\"},\"id\":\"1871\",\"type\":\"Div\"},{\"attributes\":{\"line_color\":\"orange\",\"line_width\":4,\"x\":{\"field\":\"CalendarYearIssued\"},\"y\":{\"field\":\"TotalInBillions\"}},\"id\":\"1436\",\"type\":\"Line\"},{\"attributes\":{},\"id\":\"1264\",\"type\":\"BasicTickFormatter\"},{\"attributes\":{},\"id\":\"2010\",\"type\":\"BasicTickFormatter\"},{\"attributes\":{\"children\":[{\"id\":\"1871\",\"type\":\"Div\"},{\"id\":\"1823\",\"type\":\"MultiSelect\"},{\"id\":\"1855\",\"type\":\"Button\"},{\"id\":\"1839\",\"type\":\"Button\"}],\"width\":150},\"id\":\"1872\",\"type\":\"WidgetBox\"}],\"root_ids\":[\"2100\"]},\"title\":\"Bokeh Application\",\"version\":\"1.0.1\"}};\n",
       "  var render_items = [{\"docid\":\"e5ca5119-a60b-48f5-ab3b-f71e0ddc5f02\",\"roots\":{\"2100\":\"3ce1447a-3b38-40fc-9ece-c60c4200d4d1\"}}];\n",
       "  root.Bokeh.embed.embed_items_notebook(docs_json, render_items);\n",
       "\n",
       "  }\n",
       "  if (root.Bokeh !== undefined) {\n",
       "    embed_document(root);\n",
       "  } else {\n",
       "    var attempts = 0;\n",
       "    var timer = setInterval(function(root) {\n",
       "      if (root.Bokeh !== undefined) {\n",
       "        embed_document(root);\n",
       "        clearInterval(timer);\n",
       "      }\n",
       "      attempts++;\n",
       "      if (attempts > 100) {\n",
       "        console.log(\"Bokeh: ERROR: Unable to run BokehJS code because BokehJS library is missing\");\n",
       "        clearInterval(timer);\n",
       "      }\n",
       "    }, 10, root)\n",
       "  }\n",
       "})(window);"
      ],
      "application/vnd.bokehjs_exec.v0+json": ""
     },
     "metadata": {
      "application/vnd.bokehjs_exec.v0+json": {
       "id": "2100"
      }
     },
     "output_type": "display_data"
    }
   ],
   "source": [
    "from bokeh.models import Panel\n",
    "from bokeh.models.widgets import Tabs\n",
    "\n",
    "tab1 = Panel(child=layout, title = 'Valuation')\n",
    "tab2 = Panel(child=layout2, title = 'Count')\n",
    "tabs = Tabs(tabs = [tab1, tab2])\n",
    "\n",
    "show(tabs)"
   ]
  },
  {
   "cell_type": "markdown",
   "metadata": {},
   "source": [
    "## Creating HTML output"
   ]
  },
  {
   "cell_type": "code",
   "execution_count": 23,
   "metadata": {},
   "outputs": [
    {
     "name": "stderr",
     "output_type": "stream",
     "text": [
      "WARNING:bokeh.embed.util:\n",
      "You are generating standalone HTML/JS output, but trying to use real Python\n",
      "callbacks (i.e. with on_change or on_event). This combination cannot work.\n",
      "\n",
      "Only JavaScript callbacks may be used with standalone output. For more\n",
      "information on JavaScript callbacks with Bokeh, see:\n",
      "\n",
      "    http://bokeh.pydata.org/en/latest/docs/user_guide/interaction/callbacks.html\n",
      "\n",
      "Alternatively, to use real Python callbacks, a Bokeh server application may\n",
      "be used. For more information on building and running Bokeh applications, see:\n",
      "\n",
      "    http://bokeh.pydata.org/en/latest/docs/user_guide/server.html\n",
      "\n"
     ]
    },
    {
     "data": {
      "text/html": [
       "\n",
       "\n",
       "\n",
       "\n",
       "\n",
       "\n",
       "  <div class=\"bk-root\" id=\"eb970c63-cd77-4718-bc52-17925b8884d8\"></div>\n"
      ]
     },
     "metadata": {},
     "output_type": "display_data"
    },
    {
     "data": {
      "application/javascript": [
       "(function(root) {\n",
       "  function embed_document(root) {\n",
       "    \n",
       "  var docs_json = {\"4f549f5a-7ded-4103-a778-724f66ec5fed\":{\"roots\":{\"references\":[{\"attributes\":{\"children\":[{\"id\":\"1899\",\"type\":\"ToolbarBox\"},{\"id\":\"1897\",\"type\":\"Column\"}]},\"id\":\"1900\",\"type\":\"Column\"},{\"attributes\":{\"fill_color\":{\"value\":\"white\"},\"line_color\":{\"value\":\"orange\"},\"size\":{\"units\":\"screen\",\"value\":6},\"x\":{\"field\":\"CalendarYearIssued\"},\"y\":{\"field\":\"TotalInBillions\"}},\"id\":\"1677\",\"type\":\"Circle\"},{\"attributes\":{\"callback\":null,\"icon\":null,\"label\":\"Update Plot\"},\"id\":\"1839\",\"type\":\"Button\"},{\"attributes\":{\"label\":{\"value\":\"Average Valuation per Project\"},\"renderers\":[{\"id\":\"1501\",\"type\":\"GlyphRenderer\"}]},\"id\":\"1511\",\"type\":\"LegendItem\"},{\"attributes\":{\"below\":[{\"id\":\"1223\",\"type\":\"LinearAxis\"}],\"left\":[{\"id\":\"1228\",\"type\":\"LinearAxis\"}],\"plot_height\":500,\"plot_width\":800,\"renderers\":[{\"id\":\"1223\",\"type\":\"LinearAxis\"},{\"id\":\"1227\",\"type\":\"Grid\"},{\"id\":\"1228\",\"type\":\"LinearAxis\"},{\"id\":\"1232\",\"type\":\"Grid\"},{\"id\":\"1241\",\"type\":\"BoxAnnotation\"},{\"id\":\"1251\",\"type\":\"GlyphRenderer\"},{\"id\":\"1369\",\"type\":\"GlyphRenderer\"},{\"id\":\"1448\",\"type\":\"Legend\"},{\"id\":\"1438\",\"type\":\"GlyphRenderer\"},{\"id\":\"1501\",\"type\":\"GlyphRenderer\"},{\"id\":\"1679\",\"type\":\"GlyphRenderer\"}],\"title\":{\"id\":\"1212\",\"type\":\"Title\"},\"toolbar\":{\"id\":\"1239\",\"type\":\"Toolbar\"},\"toolbar_location\":null,\"x_range\":{\"id\":\"1215\",\"type\":\"DataRange1d\"},\"x_scale\":{\"id\":\"1219\",\"type\":\"LinearScale\"},\"y_range\":{\"id\":\"1217\",\"type\":\"DataRange1d\"},\"y_scale\":{\"id\":\"1221\",\"type\":\"LinearScale\"}},\"id\":\"1213\",\"subtype\":\"Figure\",\"type\":\"Plot\"},{\"attributes\":{\"data_source\":{\"id\":\"1211\",\"type\":\"ColumnDataSource\"},\"glyph\":{\"id\":\"1249\",\"type\":\"Line\"},\"hover_glyph\":null,\"muted_glyph\":null,\"nonselection_glyph\":{\"id\":\"1250\",\"type\":\"Line\"},\"selection_glyph\":null,\"view\":{\"id\":\"1252\",\"type\":\"CDSView\"}},\"id\":\"1251\",\"type\":\"GlyphRenderer\"},{\"attributes\":{\"tools\":[{\"id\":\"1610\",\"type\":\"HoverTool\"},{\"id\":\"1592\",\"type\":\"HoverTool\"},{\"id\":\"1763\",\"type\":\"WheelZoomTool\"},{\"id\":\"1764\",\"type\":\"ResetTool\"}]},\"id\":\"1898\",\"type\":\"ProxyToolbar\"},{\"attributes\":{},\"id\":\"1229\",\"type\":\"BasicTicker\"},{\"attributes\":{},\"id\":\"1219\",\"type\":\"LinearScale\"},{\"attributes\":{\"line_alpha\":0.1,\"line_color\":\"#1f77b4\",\"line_width\":4,\"x\":{\"field\":\"CalendarYearIssued\"},\"y\":{\"field\":\"TotalInBillions\"}},\"id\":\"1250\",\"type\":\"Line\"},{\"attributes\":{\"source\":{\"id\":\"1211\",\"type\":\"ColumnDataSource\"}},\"id\":\"1252\",\"type\":\"CDSView\"},{\"attributes\":{},\"id\":\"1266\",\"type\":\"BasicTickFormatter\"},{\"attributes\":{\"active_drag\":\"auto\",\"active_inspect\":\"auto\",\"active_multi\":null,\"active_scroll\":\"auto\",\"active_tap\":\"auto\",\"tools\":[{\"id\":\"1610\",\"type\":\"HoverTool\"},{\"id\":\"1592\",\"type\":\"HoverTool\"},{\"id\":\"1763\",\"type\":\"WheelZoomTool\"},{\"id\":\"1764\",\"type\":\"ResetTool\"}]},\"id\":\"1239\",\"type\":\"Toolbar\"},{\"attributes\":{\"source\":{\"id\":\"1211\",\"type\":\"ColumnDataSource\"}},\"id\":\"1680\",\"type\":\"CDSView\"},{\"attributes\":{\"dimension\":1,\"plot\":{\"id\":\"1213\",\"subtype\":\"Figure\",\"type\":\"Plot\"},\"ticker\":{\"id\":\"1229\",\"type\":\"BasicTicker\"}},\"id\":\"1232\",\"type\":\"Grid\"},{\"attributes\":{\"items\":[{\"id\":\"1465\",\"type\":\"LegendItem\"},{\"id\":\"1511\",\"type\":\"LegendItem\"}],\"location\":\"top_left\",\"plot\":{\"id\":\"1213\",\"subtype\":\"Figure\",\"type\":\"Plot\"}},\"id\":\"1448\",\"type\":\"Legend\"},{\"attributes\":{},\"id\":\"1268\",\"type\":\"Selection\"},{\"attributes\":{\"callback\":null},\"id\":\"1217\",\"type\":\"DataRange1d\"},{\"attributes\":{\"bottom_units\":\"screen\",\"fill_alpha\":{\"value\":0.5},\"fill_color\":{\"value\":\"lightgrey\"},\"left_units\":\"screen\",\"level\":\"overlay\",\"line_alpha\":{\"value\":1.0},\"line_color\":{\"value\":\"black\"},\"line_dash\":[4,4],\"line_width\":{\"value\":2},\"plot\":null,\"render_mode\":\"css\",\"right_units\":\"screen\",\"top_units\":\"screen\"},\"id\":\"1241\",\"type\":\"BoxAnnotation\"},{\"attributes\":{\"data_source\":{\"id\":\"1211\",\"type\":\"ColumnDataSource\"},\"glyph\":{\"id\":\"1436\",\"type\":\"Line\"},\"hover_glyph\":null,\"muted_glyph\":null,\"nonselection_glyph\":{\"id\":\"1437\",\"type\":\"Line\"},\"selection_glyph\":null,\"view\":{\"id\":\"1439\",\"type\":\"CDSView\"}},\"id\":\"1438\",\"type\":\"GlyphRenderer\"},{\"attributes\":{\"line_color\":\"orange\",\"line_width\":4,\"x\":{\"field\":\"CalendarYearIssued\"},\"y\":{\"field\":\"TotalInBillions\"}},\"id\":\"1249\",\"type\":\"Line\"},{\"attributes\":{},\"id\":\"1764\",\"type\":\"ResetTool\"},{\"attributes\":{\"data_source\":{\"id\":\"1211\",\"type\":\"ColumnDataSource\"},\"glyph\":{\"id\":\"1499\",\"type\":\"Line\"},\"hover_glyph\":null,\"muted_glyph\":null,\"nonselection_glyph\":{\"id\":\"1500\",\"type\":\"Line\"},\"selection_glyph\":null,\"view\":{\"id\":\"1502\",\"type\":\"CDSView\"}},\"id\":\"1501\",\"type\":\"GlyphRenderer\"},{\"attributes\":{\"callback\":null},\"id\":\"1215\",\"type\":\"DataRange1d\"},{\"attributes\":{\"toolbar\":{\"id\":\"1898\",\"type\":\"ProxyToolbar\"},\"toolbar_location\":\"above\"},\"id\":\"1899\",\"type\":\"ToolbarBox\"},{\"attributes\":{\"callback\":null,\"data\":{\"AverageInBillions\":{\"__ndarray__\":\"GH01oZgbGj9lF+imZyQWP14IjacSBRg/sXSRKmrIGz/6LxnvpYUfPzg4v5x+lRs/viBd7KagET+Ea6TDiEoFP7VY5EUuaxc/EoiaavPLGD85qVy5eE0XP16gXN5mtBM/aw19RGHcFD+OxOiNeMogP2TBj3EF9R4/q4qFbmfIIT/YSNxXZq4lPyqosjiiXCU/EKe4awRQKj+Qb/3RIEcqPwf8W7vGSDA/l7oOGsLSLz84biQzEz8oP+lEBDbCsiU/6Gmd3TAvJj+7Abu2YcsmP8OyjYGRBzI/jIR9+6H/Nj/aefP21aU2P82f23I1GTU/0hoMJh+dIj/3ygs+LX4oP3dC5nPYES4/YnI1rutXMz98JCHtomMxP1IA5CguMDI/CwJ5odDNMj/hBzLt0wpCP5Q2LxZRdEE/\",\"dtype\":\"float64\",\"shape\":[39]},\"CalendarYearIssued\":[1980,1981,1982,1983,1984,1985,1986,1987,1988,1989,1990,1991,1992,1993,1994,1995,1996,1997,1998,1999,2000,2001,2002,2003,2004,2005,2006,2007,2008,2009,2010,2011,2012,2013,2014,2015,2016,2017,2018],\"MaxInBillions\":{\"__ndarray__\":\"GQRWDi2yjT+amZmZmZmZPwrXo3A9Cqc/O99PjZdukj8bL90kBoGlP5Kwle6zbKA/gcp8ML6isD9BguLHmLt2P13hXS7iO5E/MzMzMzMzsz8VgaoEnaakP8eZy7LMx3I/uB6F61G4nj+gFk6VmZm5P/yp8dJNYqA/ObTIdr6fqj+gFk6VmZm5P4enV8oyxKE//Pb5GEGdoD9I3GPpQxeUPyLjUSrhCbE/UrgehetRuD9U46WbxCCwP7gehetRuJ4/qvHSTWIQqD+cxCCwcmixPwRZT62+usA/Y9+hauz5oz/sUbgehevBPwtFup9TkL4/gSaAatURoj9lTSJ+oou5P9AS7/bc5qo/zoEq3Xl8wz8FdnTdDYK5P+hVb50XWMU/aupWfgIwwT+jgcfTzDzAPzMzMzMzM8M/\",\"dtype\":\"float64\",\"shape\":[39]},\"TotalInBillions\":{\"__ndarray__\":\"Lx/Z9FFaxT8NudoJfWDgPxYHdH8louM/wT8Kdnpw6T/qkWQot1XxPxMTezjmVO8/Gv4fnFkf4j8rK6FJzyXQPzt6+SYYkdY/FpWBwT0o1j9sin5v/h/WP0tKw+4QZtY/7b15I1N72z8JeR6LVmbqPxz8Wh1UsOY/vgtCFvXr6j8rdHcAOGTyP0An/tTqVvA/mjUq0CSy9j8TBLjuIJ31P2ropppHCPw/uOgijSMB9T+XlVuXcMHxP0tXq9S+qfA/SvwDRSnS8j9GEfn+ayj4PwU8qEX2aQNAAD63URYGAkD8r++awrD7P2+89FzKdPk/NYY7QsaG5j978D3QyL/wP/ztXxdNyPk/9/gfwdaCA0AN6ppKuOgCQLup2edXQQRA5uuNtRo9B0ACBwO72X4XQOumx8jvkxdA\",\"dtype\":\"float64\",\"shape\":[39]},\"count\":[1675,6059,6696,7501,9010,9305,8422,6213,3947,3660,3889,4656,5396,6440,6004,6201,6949,6266,7066,6738,7051,5407,5999,6291,6950,8682,8821,6420,5008,4942,4957,5602,7024,8263,8908,9123,10124,10668,11066],\"index\":[0,1,2,3,4,5,6,7,8,9,10,11,12,13,14,15,16,17,18,19,20,21,22,23,24,25,26,27,28,29,30,31,32,33,34,35,36,37,38],\"max\":{\"__ndarray__\":\"AAAAABSoa0EAAAAAhNd3QQAAAAAqdYVBAAAAAIgqcUEAAAAA9AaEQQAAAJDel35BAAAA4Ib8jkEAAAAA7CtVQQAAAADjDHBBAAAAAKPhkUEAAADYijuDQQAAAMCcfVFBAAAAADicfEEAAAD8g9eXQQAAAACAhH5BAAAAAKjLiEEAAAD8g9eXQQAAAADXi4BBAAAAsE3yfkEAAAAACrZyQQAAAECivI9BAAAAAFemlkEAAAAAbgqOQQAAAAA4nHxBAAAAAE5phkEAAAAAZDaQQQAAAOA7KZ9BAAAAYLaagkEAAAAAdrCgQQAAANj4dpxBAAAAsCTUgEEAAABsgsqXQQAAACDkDYlBAAAAXuElokEAAAA8lsGXQQAAABzV4KNBAAAAEtQBoEEAAADApD6eQQAAAACj4aFB\",\"dtype\":\"float64\",\"shape\":[39]},\"mean\":{\"__ndarray__\":\"2PT6gpVQ+EDWui4KHZ/0QOgPXDfFXvZA75tDz/Pf+UB9R4YNclv9QK4SAYGHsPlATHSdFrxq8EA/ALKgNNTjQNW7EHpyz/VAwEG3a/0X90AEfORBx7P1QI0g6R33WfJAchXDzJ1t80BlGumnhkb/QJ/2Ik/A1PxAAYJLs8GPAEGGgrVtNjEEQd8j/d4P5QNBVGJ/qmeBCEF1gw5ZIHkIQQ/CPXHzVA5Bs+lIhEKjDUGwPm0AypQGQUrkUqlFNQRB4pvUniipBEFTgIBpnzoFQamecUGVyhBB/B10CElrFUGjAe7FpxcVQU+KD4ZEphNB8AXxid1VAUFR906gjs8GQSRVAmQtAQxB5lM04dUDEkHTYR/V6DEQQfxF1uRn8BBBtZZ67DaDEUFMxMlens0gQfHVsLpxQSBB\",\"dtype\":\"float64\",\"shape\":[39]},\"sum\":{\"__ndarray__\":\"AAAASOjio0EAAABFHoG+QQAAgLP2SMJBAACA1jexx0EAAIDQ8STQQQAAAGoLLs1BAACAPrvgwEEAAAAU0hOuQQAAAKBWBLVBAAAAsq+itEEAAABgAZu0QQAAAOdD3LRBAAAAIiiYuUEAAIBbMZbIQQAAAHJtIcVBAAAAr6ISyUEAAIDT3iDRQQAAgGdKb85BAADAOh4j1UEAAECrICHUQQAAAGluG9pBAABAz9mP00EAAABNRYnQQQAAAO6RCc9BAABAJkOH0UEAAIASsX/WQQAAQEejFOJBAABAHDTJ4EEAAAAh7MnZQQAAQO07tddBAACAK7r6xEEAAADxnjLPQQAAQGsCA9hBAADAY84r4kEAAMCORZzhQQAAgDM63eJBAACAAImk5UEAALAcxOH1QQAAAHFn9fVB\",\"dtype\":\"float64\",\"shape\":[39]}},\"selected\":{\"id\":\"1268\",\"type\":\"Selection\"},\"selection_policy\":{\"id\":\"1269\",\"type\":\"UnionRenderers\"}},\"id\":\"1211\",\"type\":\"ColumnDataSource\"},{\"attributes\":{\"line_alpha\":0.1,\"line_color\":\"#1f77b4\",\"line_width\":4,\"x\":{\"field\":\"CalendarYearIssued\"},\"y\":{\"field\":\"MaxInBillions\"}},\"id\":\"1368\",\"type\":\"Line\"},{\"attributes\":{\"align\":\"center\",\"plot\":null,\"text\":\"Austin Construction Permit Project Valuations\",\"text_font_size\":{\"value\":\"14pt\"}},\"id\":\"1212\",\"type\":\"Title\"},{\"attributes\":{},\"id\":\"1269\",\"type\":\"UnionRenderers\"},{\"attributes\":{\"children\":[{\"id\":\"1872\",\"type\":\"WidgetBox\"},{\"id\":\"1213\",\"subtype\":\"Figure\",\"type\":\"Plot\"}]},\"id\":\"1896\",\"type\":\"Row\"},{\"attributes\":{},\"id\":\"1221\",\"type\":\"LinearScale\"},{\"attributes\":{\"callback\":null,\"renderers\":[{\"id\":\"1438\",\"type\":\"GlyphRenderer\"}],\"tooltips\":[[\"index\",\"$index\"],[\"(x,y)\",\"($x, $y)\"],[\"Calendar Year Issued\",\"@CalendarYearIssued\"],[\"Total In Billion $\",\"@TotalInBillions\"]]},\"id\":\"1592\",\"type\":\"HoverTool\"},{\"attributes\":{\"line_color\":\"green\",\"line_width\":4,\"x\":{\"field\":\"CalendarYearIssued\"},\"y\":{\"field\":\"MaxInBillions\"}},\"id\":\"1367\",\"type\":\"Line\"},{\"attributes\":{\"axis_label\":\"Year Permits Issued\",\"axis_label_text_font_size\":{\"value\":\"12pt\"},\"axis_label_text_font_style\":\"normal\",\"formatter\":{\"id\":\"1266\",\"type\":\"BasicTickFormatter\"},\"major_label_text_font_size\":{\"value\":\"12pt\"},\"plot\":{\"id\":\"1213\",\"subtype\":\"Figure\",\"type\":\"Plot\"},\"ticker\":{\"id\":\"1224\",\"type\":\"BasicTicker\"}},\"id\":\"1223\",\"type\":\"LinearAxis\"},{\"attributes\":{\"plot\":{\"id\":\"1213\",\"subtype\":\"Figure\",\"type\":\"Plot\"},\"ticker\":{\"id\":\"1224\",\"type\":\"BasicTicker\"}},\"id\":\"1227\",\"type\":\"Grid\"},{\"attributes\":{\"children\":[{\"id\":\"1896\",\"type\":\"Row\"}]},\"id\":\"1897\",\"type\":\"Column\"},{\"attributes\":{\"line_color\":\"green\",\"line_width\":4,\"x\":{\"field\":\"CalendarYearIssued\"},\"y\":{\"field\":\"MaxInBillions\"}},\"id\":\"1499\",\"type\":\"Line\"},{\"attributes\":{},\"id\":\"1224\",\"type\":\"BasicTicker\"},{\"attributes\":{\"source\":{\"id\":\"1211\",\"type\":\"ColumnDataSource\"}},\"id\":\"1370\",\"type\":\"CDSView\"},{\"attributes\":{\"fill_alpha\":{\"value\":0.1},\"fill_color\":{\"value\":\"#1f77b4\"},\"line_alpha\":{\"value\":0.1},\"line_color\":{\"value\":\"#1f77b4\"},\"size\":{\"units\":\"screen\",\"value\":6},\"x\":{\"field\":\"CalendarYearIssued\"},\"y\":{\"field\":\"TotalInBillions\"}},\"id\":\"1678\",\"type\":\"Circle\"},{\"attributes\":{\"axis_label\":\"Billion Dollars ($B)\",\"axis_label_text_font_size\":{\"value\":\"12pt\"},\"axis_label_text_font_style\":\"normal\",\"formatter\":{\"id\":\"1264\",\"type\":\"BasicTickFormatter\"},\"major_label_text_font_size\":{\"value\":\"12pt\"},\"plot\":{\"id\":\"1213\",\"subtype\":\"Figure\",\"type\":\"Plot\"},\"ticker\":{\"id\":\"1229\",\"type\":\"BasicTicker\"}},\"id\":\"1228\",\"type\":\"LinearAxis\"},{\"attributes\":{\"source\":{\"id\":\"1211\",\"type\":\"ColumnDataSource\"}},\"id\":\"1439\",\"type\":\"CDSView\"},{\"attributes\":{\"callback\":null,\"icon\":null,\"label\":\"Select All\"},\"id\":\"1855\",\"type\":\"Button\"},{\"attributes\":{\"data_source\":{\"id\":\"1211\",\"type\":\"ColumnDataSource\"},\"glyph\":{\"id\":\"1367\",\"type\":\"Line\"},\"hover_glyph\":null,\"muted_glyph\":null,\"nonselection_glyph\":{\"id\":\"1368\",\"type\":\"Line\"},\"selection_glyph\":null,\"view\":{\"id\":\"1370\",\"type\":\"CDSView\"}},\"id\":\"1369\",\"type\":\"GlyphRenderer\"},{\"attributes\":{\"line_alpha\":0.1,\"line_color\":\"#1f77b4\",\"line_width\":4,\"x\":{\"field\":\"CalendarYearIssued\"},\"y\":{\"field\":\"TotalInBillions\"}},\"id\":\"1437\",\"type\":\"Line\"},{\"attributes\":{\"callback\":null,\"options\":[[\"0\",\"1980\"],[\"1\",\"1981\"],[\"2\",\"1982\"],[\"3\",\"1983\"],[\"4\",\"1984\"],[\"5\",\"1985\"],[\"6\",\"1986\"],[\"7\",\"1987\"],[\"8\",\"1988\"],[\"9\",\"1989\"],[\"10\",\"1990\"],[\"11\",\"1991\"],[\"12\",\"1992\"],[\"13\",\"1993\"],[\"14\",\"1994\"],[\"15\",\"1995\"],[\"16\",\"1996\"],[\"17\",\"1997\"],[\"18\",\"1998\"],[\"19\",\"1999\"],[\"20\",\"2000\"],[\"21\",\"2001\"],[\"22\",\"2002\"],[\"23\",\"2003\"],[\"24\",\"2004\"],[\"25\",\"2005\"],[\"26\",\"2006\"],[\"27\",\"2007\"],[\"28\",\"2008\"],[\"29\",\"2009\"],[\"30\",\"2010\"],[\"31\",\"2011\"],[\"32\",\"2012\"],[\"33\",\"2013\"],[\"34\",\"2014\"],[\"35\",\"2015\"],[\"36\",\"2016\"],[\"37\",\"2017\"],[\"38\",\"2018\"]],\"title\":\"Year\",\"value\":[\"0\",\"1\",\"2\",\"3\",\"4\",\"5\",\"6\",\"7\",\"8\",\"9\",\"10\",\"11\",\"12\",\"13\",\"14\",\"15\",\"16\",\"17\",\"18\",\"19\",\"20\",\"21\",\"22\",\"23\",\"24\",\"25\",\"26\",\"27\",\"28\",\"29\",\"30\",\"31\",\"32\",\"33\",\"34\",\"35\",\"36\",\"37\",\"38\"]},\"id\":\"1823\",\"type\":\"MultiSelect\"},{\"attributes\":{\"label\":{\"value\":\"Total Valuation All Projects\"},\"renderers\":[{\"id\":\"1438\",\"type\":\"GlyphRenderer\"}]},\"id\":\"1465\",\"type\":\"LegendItem\"},{\"attributes\":{\"callback\":null,\"renderers\":[{\"id\":\"1501\",\"type\":\"GlyphRenderer\"}],\"tooltips\":[[\"index\",\"$index\"],[\"(x,y)\",\"($x, $y)\"],[\"Calendar Year Issued\",\"@CalendarYearIssued\"],[\"Average in $\",\"@mean{(0,0)}\"]]},\"id\":\"1610\",\"type\":\"HoverTool\"},{\"attributes\":{\"line_alpha\":0.1,\"line_color\":\"#1f77b4\",\"line_width\":4,\"x\":{\"field\":\"CalendarYearIssued\"},\"y\":{\"field\":\"MaxInBillions\"}},\"id\":\"1500\",\"type\":\"Line\"},{\"attributes\":{\"text\":\"<h1>Widgets Box</h1>\"},\"id\":\"1871\",\"type\":\"Div\"},{\"attributes\":{\"line_color\":\"orange\",\"line_width\":4,\"x\":{\"field\":\"CalendarYearIssued\"},\"y\":{\"field\":\"TotalInBillions\"}},\"id\":\"1436\",\"type\":\"Line\"},{\"attributes\":{\"data_source\":{\"id\":\"1211\",\"type\":\"ColumnDataSource\"},\"glyph\":{\"id\":\"1677\",\"type\":\"Circle\"},\"hover_glyph\":null,\"muted_glyph\":null,\"nonselection_glyph\":{\"id\":\"1678\",\"type\":\"Circle\"},\"selection_glyph\":null,\"view\":{\"id\":\"1680\",\"type\":\"CDSView\"}},\"id\":\"1679\",\"type\":\"GlyphRenderer\"},{\"attributes\":{\"source\":{\"id\":\"1211\",\"type\":\"ColumnDataSource\"}},\"id\":\"1502\",\"type\":\"CDSView\"},{\"attributes\":{},\"id\":\"1264\",\"type\":\"BasicTickFormatter\"},{\"attributes\":{},\"id\":\"1763\",\"type\":\"WheelZoomTool\"},{\"attributes\":{\"children\":[{\"id\":\"1871\",\"type\":\"Div\"},{\"id\":\"1823\",\"type\":\"MultiSelect\"},{\"id\":\"1855\",\"type\":\"Button\"},{\"id\":\"1839\",\"type\":\"Button\"}],\"width\":150},\"id\":\"1872\",\"type\":\"WidgetBox\"}],\"root_ids\":[\"1900\"]},\"title\":\"Bokeh Application\",\"version\":\"1.0.1\"}};\n",
       "  var render_items = [{\"docid\":\"4f549f5a-7ded-4103-a778-724f66ec5fed\",\"roots\":{\"1900\":\"eb970c63-cd77-4718-bc52-17925b8884d8\"}}];\n",
       "  root.Bokeh.embed.embed_items_notebook(docs_json, render_items);\n",
       "\n",
       "  }\n",
       "  if (root.Bokeh !== undefined) {\n",
       "    embed_document(root);\n",
       "  } else {\n",
       "    var attempts = 0;\n",
       "    var timer = setInterval(function(root) {\n",
       "      if (root.Bokeh !== undefined) {\n",
       "        embed_document(root);\n",
       "        clearInterval(timer);\n",
       "      }\n",
       "      attempts++;\n",
       "      if (attempts > 100) {\n",
       "        console.log(\"Bokeh: ERROR: Unable to run BokehJS code because BokehJS library is missing\");\n",
       "        clearInterval(timer);\n",
       "      }\n",
       "    }, 10, root)\n",
       "  }\n",
       "})(window);"
      ],
      "application/vnd.bokehjs_exec.v0+json": ""
     },
     "metadata": {
      "application/vnd.bokehjs_exec.v0+json": {
       "id": "1900"
      }
     },
     "output_type": "display_data"
    },
    {
     "name": "stderr",
     "output_type": "stream",
     "text": [
      "WARNING:bokeh.embed.util:\n",
      "You are generating standalone HTML/JS output, but trying to use real Python\n",
      "callbacks (i.e. with on_change or on_event). This combination cannot work.\n",
      "\n",
      "Only JavaScript callbacks may be used with standalone output. For more\n",
      "information on JavaScript callbacks with Bokeh, see:\n",
      "\n",
      "    http://bokeh.pydata.org/en/latest/docs/user_guide/interaction/callbacks.html\n",
      "\n",
      "Alternatively, to use real Python callbacks, a Bokeh server application may\n",
      "be used. For more information on building and running Bokeh applications, see:\n",
      "\n",
      "    http://bokeh.pydata.org/en/latest/docs/user_guide/server.html\n",
      "\n"
     ]
    }
   ],
   "source": [
    "from bokeh.io import output_file, save\n",
    "\n",
    "output_file(\"line_plot_example.html\")\n",
    "\n",
    "# save(layout)\n",
    "show(layout)"
   ]
  },
  {
   "cell_type": "markdown",
   "metadata": {},
   "source": [
    "## Starting Bokeh Server"
   ]
  },
  {
   "cell_type": "markdown",
   "metadata": {},
   "source": [
    "Navigate to folder containing `app.py` in Terminal and run `bokeh serve --show app.py`"
   ]
  },
  {
   "cell_type": "markdown",
   "metadata": {},
   "source": [
    "## Additional Bokeh Server Commands\n",
    "\n"
   ]
  },
  {
   "cell_type": "markdown",
   "metadata": {},
   "source": [
    "Additional options `bokeh serve \n",
    "                --show app.py \n",
    "                --port 1111 \n",
    "                --address <external-IP>\n",
    "                --allow-websocket-origin=<destination-IP>:<destination-port>`"
   ]
  },
  {
   "cell_type": "markdown",
   "metadata": {},
   "source": [
    "## Understanding ColumnDataSource\n",
    "\n",
    "When you make changes to the source, this will cause changes to occur in the chart."
   ]
  },
  {
   "cell_type": "code",
   "execution_count": 32,
   "metadata": {},
   "outputs": [
    {
     "data": {
      "text/plain": [
       "{'index': array([ 0,  1,  2,  3,  4,  5,  6,  7,  8,  9, 10, 11, 12, 13, 14, 15, 16,\n",
       "        17, 18, 19, 20, 21, 22, 23, 24, 25, 26, 27, 28, 29, 30, 31, 32, 33,\n",
       "        34, 35, 36, 37, 38]),\n",
       " 'CalendarYearIssued': array([1980, 1981, 1982, 1983, 1984, 1985, 1986, 1987, 1988, 1989, 1990,\n",
       "        1991, 1992, 1993, 1994, 1995, 1996, 1997, 1998, 1999, 2000, 2001,\n",
       "        2002, 2003, 2004, 2005, 2006, 2007, 2008, 2009, 2010, 2011, 2012,\n",
       "        2013, 2014, 2015, 2016, 2017, 2018]),\n",
       " 'sum': array([1.66818852e+08, 5.11778373e+08, 6.13543271e+08, 7.94980269e+08,\n",
       "        1.08342663e+09, 9.79098184e+08, 5.66326909e+08, 2.52307722e+08,\n",
       "        3.52605856e+08, 3.46206130e+08, 3.45702752e+08, 3.49979623e+08,\n",
       "        4.29402146e+08, 8.24992439e+08, 7.09024484e+08, 8.41303390e+08,\n",
       "        1.14946747e+09, 1.02122005e+09, 1.41849214e+09, 1.35086148e+09,\n",
       "        1.75202141e+09, 1.31277804e+09, 1.10972652e+09, 1.04144176e+09,\n",
       "        1.17630889e+09, 1.50986862e+09, 2.42673926e+09, 2.25297226e+09,\n",
       "        1.73065434e+09, 1.59101330e+09, 7.03945133e+08, 1.04682237e+09,\n",
       "        1.61140164e+09, 2.43888417e+09, 2.28323276e+09, 2.53190365e+09,\n",
       "        2.90738890e+09, 5.96018839e+09, 5.86429600e+09]),\n",
       " 'mean': array([ 99593.34447761,  84465.81498597,  91628.32601553, 105983.23810159,\n",
       "        120247.12830189, 105234.11263972,  67243.75552125,  40609.64461613,\n",
       "         89335.15480111,  94591.83879781,  88892.45358704,  75167.44480241,\n",
       "         79577.86249073, 128104.41599379, 118092.01932045, 135672.21254636,\n",
       "        165414.80356886, 162977.98388126, 200748.95825078, 200484.04348471,\n",
       "        248478.43029358, 242792.3145922 , 184985.25020837, 165544.70767763,\n",
       "        169253.07755396, 173907.92651463, 275109.31390999, 350930.25825545,\n",
       "        345577.94329073, 321937.13091866, 142038.96953188, 186865.82827562,\n",
       "        229413.67383257, 295192.95255386, 256341.3896935 , 277560.14558211,\n",
       "        286866.19634928, 558331.46519906, 536974.26948082]),\n",
       " 'max': array([1.45000000e+07, 2.50000000e+07, 4.50000000e+07, 1.80000000e+07,\n",
       "        4.20000000e+07, 3.20793370e+07, 6.49832600e+07, 5.55000000e+06,\n",
       "        1.68300000e+07, 7.50000000e+07, 4.03336590e+07, 4.58507500e+06,\n",
       "        3.00000000e+07, 9.99999990e+07, 3.20000000e+07, 5.20000000e+07,\n",
       "        9.99999990e+07, 3.47000000e+07, 3.24497550e+07, 1.96200000e+07,\n",
       "        6.65570000e+07, 9.50000000e+07, 6.30000000e+07, 3.00000000e+07,\n",
       "        4.70000000e+07, 6.80000000e+07, 1.30699000e+08, 3.90161400e+07,\n",
       "        1.40000000e+08, 1.19389750e+08, 3.52923100e+07, 9.97869070e+07,\n",
       "        5.25425960e+07, 1.52236207e+08, 9.96407190e+07, 1.66750862e+08,\n",
       "        1.34277641e+08, 1.26855472e+08, 1.50000000e+08]),\n",
       " 'count': array([ 1675,  6059,  6696,  7501,  9010,  9304,  8422,  6213,  3947,\n",
       "         3660,  3889,  4656,  5396,  6440,  6004,  6201,  6949,  6266,\n",
       "         7066,  6738,  7051,  5407,  5999,  6291,  6950,  8682,  8821,\n",
       "         6420,  5008,  4942,  4956,  5602,  7024,  8262,  8907,  9122,\n",
       "        10135, 10675, 10921]),\n",
       " 'TotalInBillions': array([0.16681885, 0.51177837, 0.61354327, 0.79498027, 1.08342663,\n",
       "        0.97909818, 0.56632691, 0.25230772, 0.35260586, 0.34620613,\n",
       "        0.34570275, 0.34997962, 0.42940215, 0.82499244, 0.70902448,\n",
       "        0.84130339, 1.14946747, 1.02122005, 1.41849214, 1.35086149,\n",
       "        1.75202141, 1.31277804, 1.10972652, 1.04144176, 1.17630889,\n",
       "        1.50986862, 2.42673926, 2.25297226, 1.73065434, 1.5910133 ,\n",
       "        0.70394513, 1.04682237, 1.61140164, 2.43888417, 2.28323276,\n",
       "        2.53190365, 2.9073889 , 5.96018839, 5.864296  ]),\n",
       " 'AverageInBillions': array([9.95933445e-05, 8.44658150e-05, 9.16283260e-05, 1.05983238e-04,\n",
       "        1.20247128e-04, 1.05234113e-04, 6.72437555e-05, 4.06096446e-05,\n",
       "        8.93351548e-05, 9.45918388e-05, 8.88924536e-05, 7.51674448e-05,\n",
       "        7.95778625e-05, 1.28104416e-04, 1.18092019e-04, 1.35672213e-04,\n",
       "        1.65414804e-04, 1.62977984e-04, 2.00748958e-04, 2.00484043e-04,\n",
       "        2.48478430e-04, 2.42792315e-04, 1.84985250e-04, 1.65544708e-04,\n",
       "        1.69253078e-04, 1.73907927e-04, 2.75109314e-04, 3.50930258e-04,\n",
       "        3.45577943e-04, 3.21937131e-04, 1.42038970e-04, 1.86865828e-04,\n",
       "        2.29413674e-04, 2.95192953e-04, 2.56341390e-04, 2.77560146e-04,\n",
       "        2.86866196e-04, 5.58331465e-04, 5.36974269e-04]),\n",
       " 'MaxInBillions': array([0.0145    , 0.025     , 0.045     , 0.018     , 0.042     ,\n",
       "        0.03207934, 0.06498326, 0.00555   , 0.01683   , 0.075     ,\n",
       "        0.04033366, 0.00458508, 0.03      , 0.1       , 0.032     ,\n",
       "        0.052     , 0.1       , 0.0347    , 0.03244975, 0.01962   ,\n",
       "        0.066557  , 0.095     , 0.063     , 0.03      , 0.047     ,\n",
       "        0.068     , 0.130699  , 0.03901614, 0.14      , 0.11938975,\n",
       "        0.03529231, 0.09978691, 0.0525426 , 0.15223621, 0.09964072,\n",
       "        0.16675086, 0.13427764, 0.12685547, 0.15      ])}"
      ]
     },
     "execution_count": 32,
     "metadata": {},
     "output_type": "execute_result"
    }
   ],
   "source": [
    "source.data"
   ]
  },
  {
   "cell_type": "code",
   "execution_count": 47,
   "metadata": {},
   "outputs": [
    {
     "data": {
      "text/plain": [
       "array([1980, 1987, 1990, 1989, 1991, 1988, 1992, 1981, 1986, 1982, 2010,\n",
       "       1994, 1983, 1993, 1995, 1985, 1997, 2003, 2011, 1984, 2002, 1996,\n",
       "       2004, 2001, 1999, 1998, 2005, 2009, 2012, 2008, 2000, 2007, 2014,\n",
       "       2006, 2013, 2015, 2016, 2018, 2017])"
      ]
     },
     "execution_count": 47,
     "metadata": {},
     "output_type": "execute_result"
    }
   ],
   "source": [
    "source.data['CalendarYearIssued']"
   ]
  },
  {
   "cell_type": "markdown",
   "metadata": {},
   "source": [
    "## Other Functionality\n",
    "\n",
    "Create HTML file using command line: `bokeh html app.py`\n",
    "\n",
    "Create JSON representation using command line: `bokeh json app.py`"
   ]
  }
 ],
 "metadata": {
  "kernelspec": {
   "display_name": "Python 3.6",
   "language": "python",
   "name": "python36"
  },
  "language_info": {
   "codemirror_mode": {
    "name": "ipython",
    "version": 3
   },
   "file_extension": ".py",
   "mimetype": "text/x-python",
   "name": "python",
   "nbconvert_exporter": "python",
   "pygments_lexer": "ipython3",
   "version": "3.6.7"
  }
 },
 "nbformat": 4,
 "nbformat_minor": 2
}
